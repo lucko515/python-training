{
 "cells": [
  {
   "cell_type": "markdown",
   "metadata": {},
   "source": [
    "# Day 2 Revision\n",
    "In this notebook, we will review the key concepts covered in Day 2. This includes enumeration, zipping, advanced list indexing, functions (both basic and advanced), file handling, exception handling, and regular expressions.\n",
    "\n",
    "## Topics Covered\n",
    "1. Enumeration and Zipping\n",
    "2. Advanced List Indexing\n",
    "3. Functions (Basic and Advanced)\n",
    "4. File Handling\n",
    "5. Exception Handling\n",
    "6. Regular Expressions\n",
    "7. Exercises"
   ]
  },
  {
   "cell_type": "markdown",
   "metadata": {},
   "source": [
    "## 1. Enumeration and Zipping\n",
    "### Enumeration\n",
    "The `enumerate` function adds a counter to an iterable and returns it as an `enumerate` object.\n",
    "\n",
    "### Example"
   ]
  },
  {
   "cell_type": "code",
   "execution_count": null,
   "metadata": {},
   "outputs": [],
   "source": []
  },
  {
   "cell_type": "markdown",
   "metadata": {},
   "source": [
    "### Zipping\n",
    "The `zip` function takes iterables (can be zero or more), aggregates them in a tuple, and returns it.\n",
    "\n",
    "### Example"
   ]
  },
  {
   "cell_type": "code",
   "execution_count": null,
   "metadata": {},
   "outputs": [],
   "source": []
  },
  {
   "cell_type": "markdown",
   "metadata": {},
   "source": [
    "### Exercise 1: Enumeration and Zipping\n",
    "\n",
    "1. Create a list of departments: `['HR', 'Finance', 'Engineering']`\n",
    "2. Create a list of department heads: `['Alice', 'Bob', 'Charlie']`\n",
    "3. Use `enumerate` to print each department with its index.\n",
    "4. Use `zip` to print each department with its corresponding department head."
   ]
  },
  {
   "cell_type": "code",
   "execution_count": null,
   "metadata": {},
   "outputs": [],
   "source": []
  },
  {
   "cell_type": "markdown",
   "metadata": {},
   "source": [
    "## 2. Advanced List Indexing\n",
    "You can use advanced indexing techniques to access elements of a list, such as slicing, negative indexing, and multi-dimensional indexing.\n",
    "\n",
    "### Example"
   ]
  },
  {
   "cell_type": "code",
   "execution_count": null,
   "metadata": {},
   "outputs": [],
   "source": []
  },
  {
   "cell_type": "markdown",
   "metadata": {},
   "source": [
    "### Exercise 2: Advanced List Indexing\n",
    "\n",
    "1. Create a 3x3 matrix using a list of lists.\n",
    "2. Print the second row.\n",
    "3. Print the last element of the first row.\n",
    "4. Print the middle element of the matrix using negative indexing."
   ]
  },
  {
   "cell_type": "code",
   "execution_count": null,
   "metadata": {},
   "outputs": [],
   "source": []
  },
  {
   "cell_type": "markdown",
   "metadata": {},
   "source": [
    "## 3. Functions (Basic and Advanced)\n",
    "### Basic Functions\n",
    "Functions are defined using the `def` keyword. They can take parameters and return values.\n",
    "\n",
    "### Example"
   ]
  },
  {
   "cell_type": "code",
   "execution_count": null,
   "metadata": {},
   "outputs": [],
   "source": []
  },
  {
   "cell_type": "markdown",
   "metadata": {},
   "source": [
    "### Advanced Functions\n",
    "Advanced functions can include default arguments, variable-length arguments, nested functions, and more.\n",
    "\n",
    "### Example"
   ]
  },
  {
   "cell_type": "code",
   "execution_count": null,
   "metadata": {},
   "outputs": [],
   "source": []
  },
  {
   "cell_type": "markdown",
   "metadata": {},
   "source": [
    "### Exercise 3: Functions\n",
    "\n",
    "1. Define a function called `calculate_discount` that takes `price` and `discount` as arguments and returns the discounted price.\n",
    "2. Define a function called `calculate_total_price` that takes `*prices` and `**discounts` as arguments and returns the total price after applying discounts."
   ]
  },
  {
   "cell_type": "code",
   "execution_count": null,
   "metadata": {},
   "outputs": [],
   "source": []
  },
  {
   "cell_type": "markdown",
   "metadata": {},
   "source": [
    "## 4. File Handling\n",
    "You can read from and write to files using the `open` function.\n",
    "\n",
    "### Example"
   ]
  },
  {
   "cell_type": "code",
   "execution_count": null,
   "metadata": {},
   "outputs": [],
   "source": []
  },
  {
   "cell_type": "markdown",
   "metadata": {},
   "source": [
    "### Exercise 4: File Handling\n",
    "\n",
    "1. Write a Python script to create a file called `sales_data.txt` and write some sample sales data to it.\n",
    "2. Read the content of the file and print it."
   ]
  },
  {
   "cell_type": "code",
   "execution_count": null,
   "metadata": {},
   "outputs": [],
   "source": []
  },
  {
   "cell_type": "markdown",
   "metadata": {},
   "source": [
    "## 5. Exception Handling\n",
    "You can handle exceptions using `try`, `except`, `else`, and `finally` blocks.\n",
    "\n",
    "### Example"
   ]
  },
  {
   "cell_type": "code",
   "execution_count": null,
   "metadata": {},
   "outputs": [],
   "source": []
  },
  {
   "cell_type": "markdown",
   "metadata": {},
   "source": [
    "### Exercise 5: Exception Handling\n",
    "\n",
    "1. Write a Python script that prompts the user to enter two numbers and performs division.\n",
    "2. Use a `try` block to catch and handle the `ZeroDivisionError` exception.\n",
    "3. Use an `else` block to print the result.\n",
    "4. Use a `finally` block to print a message that always executes."
   ]
  },
  {
   "cell_type": "code",
   "execution_count": null,
   "metadata": {},
   "outputs": [],
   "source": []
  },
  {
   "cell_type": "markdown",
   "metadata": {},
   "source": [
    "## 6. Regular Expressions\n",
    "You can use the `re` module to work with regular expressions in Python.\n",
    "\n",
    "### Example"
   ]
  },
  {
   "cell_type": "code",
   "execution_count": null,
   "metadata": {},
   "outputs": [],
   "source": []
  },
  {
   "cell_type": "markdown",
   "metadata": {},
   "source": [
    "### Exercise 6: Regular Expressions\n",
    "\n",
    "1. Write a Python script to extract all phone numbers from a given text using a regular expression.\n",
    "2. The text is: `'Contact us at (123) 456-7890 or 987-654-3210.'`\n",
    "3. Print the list of extracted phone numbers."
   ]
  },
  {
   "cell_type": "code",
   "execution_count": null,
   "metadata": {},
   "outputs": [],
   "source": []
  },
  {
   "cell_type": "markdown",
   "metadata": {},
   "source": [
    "### Summary\n",
    "In this notebook, we reviewed the key concepts covered in Day 2, including enumeration, zipping, advanced list indexing, functions, file handling, exception handling, and regular expressions.\n"
   ]
  },
  {
   "cell_type": "code",
   "execution_count": null,
   "metadata": {},
   "outputs": [],
   "source": []
  }
 ],
 "metadata": {
  "kernelspec": {
   "display_name": "Python 3 (ipykernel)",
   "language": "python",
   "name": "python3"
  },
  "language_info": {
   "codemirror_mode": {
    "name": "ipython",
    "version": 3
   },
   "file_extension": ".py",
   "mimetype": "text/x-python",
   "name": "python",
   "nbconvert_exporter": "python",
   "pygments_lexer": "ipython3",
   "version": "3.11.5"
  }
 },
 "nbformat": 4,
 "nbformat_minor": 4
}
