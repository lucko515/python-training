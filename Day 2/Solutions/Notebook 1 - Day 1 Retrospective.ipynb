{
 "cells": [
  {
   "cell_type": "markdown",
   "metadata": {},
   "source": [
    "# Day 1 Retrospective\n",
    "Welcome back! Before we move on to Day 2, let's review the key concepts we learned on Day 1.\n",
    "\n",
    "## Topics Covered\n",
    "1. Variables and Data Types\n",
    "2. Arithmetic Operations\n",
    "3. String Manipulation\n",
    "4. Lists\n",
    "5. Tuples\n",
    "6. Dictionaries\n",
    "7. Control Flow\n",
    "8. Loops\n",
    "\n",
    "Let's go over some quick exercises to reinforce what we learned."
   ]
  },
  {
   "cell_type": "markdown",
   "metadata": {},
   "source": [
    "### 1. Variables and Data Types\n",
    "#### Exercise: Create and print variables of different data types\n",
    "- Create an integer variable `age` and assign it your age.\n",
    "- Create a float variable `height` and assign it your height in meters.\n",
    "- Create a string variable `name` and assign it your name.\n",
    "- Create a boolean variable `is_student` and set it to `True` if you are a student, otherwise `False`.\n",
    "- Print all the variables."
   ]
  },
  {
   "cell_type": "code",
   "execution_count": null,
   "metadata": {},
   "outputs": [],
   "source": [
    "# Exercise: Variables and Data Types\n",
    "age = 25  # Replace with your age\n",
    "height = 1.75  # Replace with your height\n",
    "name = \"Alice\"  # Replace with your name\n",
    "is_student = True  # Replace with your status\n",
    "\n",
    "print(\"Age:\", age)\n",
    "print(\"Height:\", height)\n",
    "print(\"Name:\", name)\n",
    "print(\"Is Student:\", is_student)"
   ]
  },
  {
   "cell_type": "markdown",
   "metadata": {},
   "source": [
    "### 2. Arithmetic Operations\n",
    "#### Exercise: Perform basic arithmetic operations\n",
    "- Create two variables `a` and `b` and assign them values.\n",
    "- Perform addition, subtraction, multiplication, and division operations on them.\n",
    "- Print the results of each operation."
   ]
  },
  {
   "cell_type": "code",
   "execution_count": null,
   "metadata": {},
   "outputs": [],
   "source": [
    "# Exercise: Arithmetic Operations\n",
    "a = 10  # Replace with a value\n",
    "b = 5  # Replace with another value\n",
    "\n",
    "addition = a + b\n",
    "subtraction = a - b\n",
    "multiplication = a * b\n",
    "division = a / b\n",
    "\n",
    "print(\"Addition:\", addition)\n",
    "print(\"Subtraction:\", subtraction)\n",
    "print(\"Multiplication:\", multiplication)\n",
    "print(\"Division:\", division)"
   ]
  },
  {
   "cell_type": "markdown",
   "metadata": {},
   "source": [
    "### 3. String Manipulation\n",
    "#### Exercise: Manipulate strings\n",
    "- Create a string variable `greeting` with the value \"Hello, Salesforce!\"\n",
    "- Convert the string to uppercase and print it.\n",
    "- Replace \"Salesforce\" with \"World\" and print the result.\n",
    "- Split the string into a list of words and print it."
   ]
  },
  {
   "cell_type": "code",
   "execution_count": null,
   "metadata": {},
   "outputs": [],
   "source": [
    "# Exercise: String Manipulation\n",
    "greeting = \"Hello, Salesforce!\"\n",
    "\n",
    "# Convert to uppercase\n",
    "upper_greeting = greeting.upper()\n",
    "print(\"Uppercase:\", upper_greeting)\n",
    "\n",
    "# Replace substring\n",
    "replaced_greeting = greeting.replace(\"Salesforce\", \"World\")\n",
    "print(\"Replaced:\", replaced_greeting)\n",
    "\n",
    "# Split string\n",
    "split_greeting = greeting.split(\" \")\n",
    "print(\"Split:\", split_greeting)"
   ]
  },
  {
   "cell_type": "markdown",
   "metadata": {},
   "source": [
    "### 4. Lists\n",
    "#### Exercise: Create and manipulate lists\n",
    "- Create a list called `crm_features` with the values \"Leads\", \"Opportunities\", \"Contacts\", \"Accounts\".\n",
    "- Append \"Reports\" to the list and print it.\n",
    "- Remove \"Contacts\" from the list and print it.\n",
    "- Print the first and last elements of the list."
   ]
  },
  {
   "cell_type": "code",
   "execution_count": null,
   "metadata": {},
   "outputs": [],
   "source": [
    "# Exercise: Lists\n",
    "crm_features = [\"Leads\", \"Opportunities\", \"Contacts\", \"Accounts\"]\n",
    "\n",
    "# Append to the list\n",
    "crm_features.append(\"Reports\")\n",
    "print(\"After append:\", crm_features)\n",
    "\n",
    "# Remove from the list\n",
    "crm_features.remove(\"Contacts\")\n",
    "print(\"After remove:\", crm_features)\n",
    "\n",
    "# Print first and last elements\n",
    "print(\"First element:\", crm_features[0])\n",
    "print(\"Last element:\", crm_features[-1])"
   ]
  },
  {
   "cell_type": "markdown",
   "metadata": {},
   "source": [
    "### 5. Tuples\n",
    "#### Exercise: Create and access tuple elements\n",
    "- Create a tuple called `salesforce_products` with the values \"Sales Cloud\", \"Service Cloud\", \"Marketing Cloud\".\n",
    "- Print the first and last elements of the tuple."
   ]
  },
  {
   "cell_type": "code",
   "execution_count": null,
   "metadata": {},
   "outputs": [],
   "source": [
    "# Exercise: Tuples\n",
    "salesforce_products = (\"Sales Cloud\", \"Service Cloud\", \"Marketing Cloud\")\n",
    "\n",
    "# Print first and last elements\n",
    "print(\"First element:\", salesforce_products[0])\n",
    "print(\"Last element:\", salesforce_products[-1])"
   ]
  },
  {
   "cell_type": "markdown",
   "metadata": {},
   "source": [
    "### 6. Dictionaries\n",
    "#### Exercise: Create and manipulate dictionaries\n",
    "- Create a dictionary called `contact_info` with the keys \"Name\", \"Title\", and \"Email\" and corresponding values.\n",
    "- Update the email address and print the dictionary.\n",
    "- Add a new key-value pair for \"Phone\" and print the dictionary.\n",
    "- Remove the \"Phone\" key and print the dictionary."
   ]
  },
  {
   "cell_type": "code",
   "execution_count": null,
   "metadata": {},
   "outputs": [],
   "source": [
    "# Exercise: Dictionaries\n",
    "contact_info = {\n",
    "    \"Name\": \"Alice\",\n",
    "    \"Title\": \"Account Executive\",\n",
    "    \"Email\": \"alice@salesforce.com\"\n",
    "}\n",
    "\n",
    "# Update email\n",
    "contact_info[\"Email\"] = \"alice.new@salesforce.com\"\n",
    "print(\"Updated email:\", contact_info)\n",
    "\n",
    "# Add phone\n",
    "contact_info[\"Phone\"] = \"123-456-7890\"\n",
    "print(\"Added phone:\", contact_info)\n",
    "\n",
    "# Remove phone\n",
    "del contact_info[\"Phone\"]\n",
    "print(\"Removed phone:\", contact_info)"
   ]
  },
  {
   "cell_type": "markdown",
   "metadata": {},
   "source": [
    "### 7. Control Flow\n",
    "#### Exercise: Use control flow statements\n",
    "- Create a variable called `sales` and assign it a value.\n",
    "- Use an `if-elif-else` statement to print messages based on the value of `sales`."
   ]
  },
  {
   "cell_type": "code",
   "execution_count": null,
   "metadata": {},
   "outputs": [],
   "source": [
    "# Exercise: Control Flow\n",
    "sales = 4000  # Replace with a value\n",
    "\n",
    "if sales > 5000:\n",
    "    print(\"Excellent! Sales are well above target.\")\n",
    "elif sales > 3000:\n",
    "    print(\"Great job! Sales are above target.\")\n",
    "elif sales == 3000:\n",
    "    print(\"Good effort! Sales are exactly on target.\")\n",
    "else:\n",
    "    print(\"Sales are below target. Keep pushing!\")"
   ]
  },
  {
   "cell_type": "markdown",
   "metadata": {},
   "source": [
    "### 8. Loops\n",
    "#### Exercise: Use for and while loops\n",
    "- Create a list called `crm_features` with the values \"Leads\", \"Opportunities\", \"Contacts\", \"Accounts\".\n",
    "- Use a `for` loop to print each feature.\n",
    "- Create a variable `sales_target` with a value of 10000 and a variable `current_sales` with a value of 0. Use a `while` loop to increment `current_sales` by 2000 each time until it reaches or exceeds `sales_target`. Print `current_sales` each time it is incremented."
   ]
  },
  {
   "cell_type": "code",
   "execution_count": null,
   "metadata": {},
   "outputs": [],
   "source": [
    "# Exercise: Loops\n",
    "crm_features = [\"Leads\", \"Opportunities\", \"Contacts\", \"Accounts\"]\n",
    "\n",
    "# For loop\n",
    "for feature in crm_features:\n",
    "    print(f\"Feature: {feature}\")\n",
    "\n",
    "# While loop\n",
    "sales_target = 10000\n",
    "current_sales = 0\n",
    "increment = 2000\n",
    "\n",
    "while current_sales < sales_target:\n",
    "    current_sales += increment\n",
    "    print(f\"Current sales: {current_sales}\")"
   ]
  }
 ],
 "metadata": {
  "kernelspec": {
   "display_name": "Python 3 (ipykernel)",
   "language": "python",
   "name": "python3"
  },
  "language_info": {
   "codemirror_mode": {
    "name": "ipython",
    "version": 3
   },
   "file_extension": ".py",
   "mimetype": "text/x-python",
   "name": "python",
   "nbconvert_exporter": "python",
   "pygments_lexer": "ipython3",
   "version": "3.11.5"
  }
 },
 "nbformat": 4,
 "nbformat_minor": 4
}
