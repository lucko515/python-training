{
 "cells": [
  {
   "cell_type": "markdown",
   "metadata": {},
   "source": [
    "# Exception Handling in Python\n",
    "In this notebook, we will cover how to handle exceptions in Python. This includes using `try`, `except`, `else`, and `finally` blocks, raising exceptions, and creating custom exceptions.\n",
    "\n",
    "## Topics Covered\n",
    "1. The `try`, `except`, `else`, and `finally` Blocks\n",
    "2. Raising Exceptions\n",
    "3. Custom Exceptions\n",
    "4. Exercises"
   ]
  },
  {
   "cell_type": "markdown",
   "metadata": {},
   "source": [
    "## 1. The `try`, `except`, `else`, and `finally` Blocks\n",
    "You can handle exceptions in Python using `try`, `except`, `else`, and `finally` blocks. This allows you to catch and handle errors gracefully.\n",
    "\n",
    "### Example"
   ]
  },
  {
   "cell_type": "code",
   "execution_count": null,
   "metadata": {},
   "outputs": [],
   "source": [
    "# Example of try, except, else, and finally blocks\n",
    "try:\n",
    "    result = 10 / 2\n",
    "except ZeroDivisionError:\n",
    "    print(\"Error: Division by zero\")\n",
    "else:\n",
    "    print(f\"The result is {result}\")\n",
    "finally:\n",
    "    print(\"This block is always executed\")"
   ]
  },
  {
   "cell_type": "markdown",
   "metadata": {},
   "source": [
    "### Exercise 1: The `try`, `except`, `else`, and `finally` Blocks\n",
    "\n",
    "1. Write a Python script that prompts the user to enter two numbers.\n",
    "2. Use a `try` block to perform division and print the result.\n",
    "3. Use an `except` block to catch and handle the `ZeroDivisionError` exception.\n",
    "4. Use an `else` block to print a success message if no exception occurs.\n",
    "5. Use a `finally` block to print a message that always executes."
   ]
  },
  {
   "cell_type": "code",
   "execution_count": null,
   "metadata": {},
   "outputs": [],
   "source": [
    "# Exercise 1: The try, except, else, and finally Blocks\n",
    "try:\n",
    "    num1 = float(input(\"Enter the first number: \"))\n",
    "    num2 = float(input(\"Enter the second number: \"))\n",
    "    result = num1 / num2\n",
    "except ZeroDivisionError:\n",
    "    print(\"Error: Division by zero is not allowed.\")\n",
    "else:\n",
    "    print(f\"The result of division is: {result}\")\n",
    "finally:\n",
    "    print(\"Execution complete.\")"
   ]
  },
  {
   "cell_type": "markdown",
   "metadata": {},
   "source": [
    "## 2. Raising Exceptions\n",
    "You can raise exceptions in Python using the `raise` keyword. This is useful when you want to explicitly trigger an exception under certain conditions.\n",
    "\n",
    "### Example"
   ]
  },
  {
   "cell_type": "code",
   "execution_count": null,
   "metadata": {},
   "outputs": [],
   "source": [
    "# Example of raising an exception\n",
    "def check_age(age):\n",
    "    if age < 0:\n",
    "        raise ValueError(\"Age cannot be negative\")\n",
    "    return age\n",
    "\n",
    "# Call the function with a valid age\n",
    "try:\n",
    "    print(check_age(25))\n",
    "    # Call the function with an invalid age\n",
    "    print(check_age(-5))\n",
    "except ValueError as e:\n",
    "    print(f\"Error: {e}\")"
   ]
  },
  {
   "cell_type": "markdown",
   "metadata": {},
   "source": [
    "### Exercise 2: Raising Exceptions\n",
    "\n",
    "1. Define a function called `validate_sales` that takes a sales amount as an argument.\n",
    "2. If the sales amount is negative, raise a `ValueError` with the message \"Sales amount cannot be negative\".\n",
    "3. Write a script to call the `validate_sales` function with a positive and a negative sales amount, handling the exception appropriately."
   ]
  },
  {
   "cell_type": "code",
   "execution_count": null,
   "metadata": {},
   "outputs": [],
   "source": [
    "# Exercise 2: Raising Exceptions\n",
    "def validate_sales(sales_amount):\n",
    "    if sales_amount < 0:\n",
    "        raise ValueError(\"Sales amount cannot be negative\")\n",
    "    return sales_amount\n",
    "\n",
    "# Call the function with valid and invalid sales amounts\n",
    "try:\n",
    "    print(validate_sales(5000))\n",
    "    print(validate_sales(-1000))\n",
    "except ValueError as e:\n",
    "    print(f\"Error: {e}\")"
   ]
  }
 ],
 "metadata": {
  "kernelspec": {
   "display_name": "Python 3 (ipykernel)",
   "language": "python",
   "name": "python3"
  },
  "language_info": {
   "codemirror_mode": {
    "name": "ipython",
    "version": 3
   },
   "file_extension": ".py",
   "mimetype": "text/x-python",
   "name": "python",
   "nbconvert_exporter": "python",
   "pygments_lexer": "ipython3",
   "version": "3.11.5"
  }
 },
 "nbformat": 4,
 "nbformat_minor": 4
}
