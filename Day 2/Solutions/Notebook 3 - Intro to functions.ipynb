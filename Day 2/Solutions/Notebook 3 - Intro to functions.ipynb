{
 "cells": [
  {
   "cell_type": "markdown",
   "metadata": {},
   "source": [
    "# Functions Part 1 (Basics)\n",
    "In this notebook, we will cover the basics of functions in Python. Functions are essential for writing reusable code and organizing your programs efficiently.\n",
    "\n",
    "## Topics Covered\n",
    "1. Defining Functions\n",
    "2. Function Arguments\n",
    "3. Return Values\n",
    "4. Exercises"
   ]
  },
  {
   "cell_type": "markdown",
   "metadata": {},
   "source": [
    "## 1. Defining Functions\n",
    "A function is a block of reusable code that performs a specific task. Functions help you break your code into smaller, manageable pieces. You define a function using the `def` keyword.\n",
    "\n",
    "### Syntax\n",
    "```python\n",
    "def function_name(parameters):\n",
    "    \"\"\"Docstring\"\"\"\n",
    "    statement(s)\n",
    "```\n",
    "\n",
    "### Example"
   ]
  },
  {
   "cell_type": "code",
   "execution_count": null,
   "metadata": {},
   "outputs": [],
   "source": [
    "# Example of a simple function\n",
    "def greet():\n",
    "    \"\"\"This function prints a greeting message\"\"\"\n",
    "    print(\"Hello, Salesforce employees!\")\n",
    "\n",
    "# Call the function\n",
    "greet()"
   ]
  },
  {
   "cell_type": "markdown",
   "metadata": {},
   "source": [
    "### Exercise 1: Defining Functions\n",
    "\n",
    "1. Define a function called `welcome` that prints \"Welcome to Salesforce training!\"\n",
    "2. Call the function."
   ]
  },
  {
   "cell_type": "code",
   "execution_count": null,
   "metadata": {},
   "outputs": [],
   "source": [
    "# Exercise 1: Defining Functions\n",
    "def welcome():\n",
    "    print(\"Welcome to Salesforce training!\")\n",
    "\n",
    "# Call the function\n",
    "welcome()"
   ]
  },
  {
   "cell_type": "markdown",
   "metadata": {},
   "source": [
    "## 2. Function Arguments\n",
    "Functions can take arguments, which are values you pass to the function to be used within its body. You define the arguments in the function definition.\n",
    "\n",
    "### Example"
   ]
  },
  {
   "cell_type": "code",
   "execution_count": null,
   "metadata": {},
   "outputs": [],
   "source": [
    "# Example of a function with arguments\n",
    "def greet_employee(name):\n",
    "    \"\"\"This function greets an employee by name\"\"\"\n",
    "    print(f\"Hello, {name}! Welcome to Salesforce.\")\n",
    "\n",
    "# Call the function with an argument\n",
    "greet_employee(\"Alice\")"
   ]
  },
  {
   "cell_type": "markdown",
   "metadata": {},
   "source": [
    "### Exercise 2: Function Arguments\n",
    "\n",
    "1. Define a function called `display_role` that takes one argument `role` and prints \"Your role is: [role]\".\n",
    "2. Call the function with the argument \"Sales Manager\"."
   ]
  },
  {
   "cell_type": "code",
   "execution_count": null,
   "metadata": {},
   "outputs": [],
   "source": [
    "# Exercise 2: Function Arguments\n",
    "def display_role(role):\n",
    "    print(f\"Your role is: {role}\")\n",
    "\n",
    "# Call the function with an argument\n",
    "display_role(\"Sales Manager\")"
   ]
  },
  {
   "cell_type": "markdown",
   "metadata": {},
   "source": [
    "## 3. Return Values\n",
    "Functions can return values using the `return` statement. The returned value can be assigned to a variable or used directly.\n",
    "\n",
    "### Example"
   ]
  },
  {
   "cell_type": "code",
   "execution_count": null,
   "metadata": {},
   "outputs": [],
   "source": [
    "# Example of a function with a return value\n",
    "def add_numbers(a, b):\n",
    "    \"\"\"This function returns the sum of two numbers\"\"\"\n",
    "    return a + b\n",
    "\n",
    "# Call the function and store the result in a variable\n",
    "result = add_numbers(5, 3)\n",
    "print(f\"The sum is: {result}\")"
   ]
  },
  {
   "cell_type": "markdown",
   "metadata": {},
   "source": [
    "### Exercise 3: Return Values\n",
    "\n",
    "1. Define a function called `calculate_bonus` that takes two arguments `base_salary` and `bonus_percentage`.\n",
    "2. The function should return the calculated bonus amount.\n",
    "3. Call the function with the arguments `50000` and `10` and print the result."
   ]
  },
  {
   "cell_type": "code",
   "execution_count": null,
   "metadata": {},
   "outputs": [],
   "source": [
    "# Exercise 3: Return Values\n",
    "def calculate_bonus(base_salary, bonus_percentage):\n",
    "    return base_salary * (bonus_percentage / 100)\n",
    "\n",
    "# Call the function and print the result\n",
    "bonus = calculate_bonus(50000, 10)\n",
    "print(f\"The bonus amount is: {bonus}\")"
   ]
  },
  {
   "cell_type": "markdown",
   "metadata": {},
   "source": [
    "## 4. Exercises\n",
    "Now let's practice writing functions with multiple arguments and return values.\n",
    "\n",
    "### Exercise 4: Multiple Arguments and Return Values\n",
    "\n",
    "1. Define a function called `sales_commission` that takes three arguments: `sales_amount`, `commission_rate`, and `bonus`.\n",
    "2. The function should calculate the total commission as `(sales_amount * commission_rate / 100) + bonus` and return the result.\n",
    "3. Call the function with the arguments `100000`, `5`, and `2000` and print the result.\n"
   ]
  },
  {
   "cell_type": "code",
   "execution_count": null,
   "metadata": {},
   "outputs": [],
   "source": [
    "# Exercise 4: Multiple Arguments and Return Values\n",
    "def sales_commission(sales_amount, commission_rate, bonus):\n",
    "    return (sales_amount * commission_rate / 100) + bonus\n",
    "\n",
    "# Call the function and print the result\n",
    "total_commission = sales_commission(100000, 5, 2000)\n",
    "print(f\"The total commission is: {total_commission}\")"
   ]
  },
  {
   "cell_type": "markdown",
   "metadata": {},
   "source": [
    "### Exercise 5: Combining Functions\n",
    "\n",
    "1. Define a function called `calculate_total_sales` that takes a list of sales amounts as an argument and returns the total sales.\n",
    "2. Define a function called `calculate_average_sales` that takes a list of sales amounts as an argument and returns the average sales.\n",
    "3. Call both functions with the list `[1500, 2500, 3000, 4000, 5000]` and print the results."
   ]
  },
  {
   "cell_type": "code",
   "execution_count": null,
   "metadata": {},
   "outputs": [],
   "source": [
    "# Exercise 5: Combining Functions\n",
    "def calculate_total_sales(sales_amounts):\n",
    "    return sum(sales_amounts)\n",
    "\n",
    "def calculate_average_sales(sales_amounts):\n",
    "    total_sales = calculate_total_sales(sales_amounts)\n",
    "    return total_sales / len(sales_amounts)\n",
    "\n",
    "# Call the functions and print the results\n",
    "sales = [1500, 2500, 3000, 4000, 5000]\n",
    "total_sales = calculate_total_sales(sales)\n",
    "average_sales = calculate_average_sales(sales)\n",
    "print(f\"Total Sales: {total_sales}\")\n",
    "print(f\"Average Sales: {average_sales}\")"
   ]
  }
 ],
 "metadata": {
  "kernelspec": {
   "display_name": "Python 3 (ipykernel)",
   "language": "python",
   "name": "python3"
  },
  "language_info": {
   "codemirror_mode": {
    "name": "ipython",
    "version": 3
   },
   "file_extension": ".py",
   "mimetype": "text/x-python",
   "name": "python",
   "nbconvert_exporter": "python",
   "pygments_lexer": "ipython3",
   "version": "3.11.5"
  }
 },
 "nbformat": 4,
 "nbformat_minor": 4
}
