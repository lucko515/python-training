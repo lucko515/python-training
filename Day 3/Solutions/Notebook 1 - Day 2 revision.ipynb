{
 "cells": [
  {
   "cell_type": "markdown",
   "metadata": {},
   "source": [
    "# Day 2 Revision\n",
    "In this notebook, we will review the key concepts covered in Day 2. This includes enumeration, zipping, advanced list indexing, functions (both basic and advanced), file handling, exception handling, and regular expressions.\n",
    "\n",
    "## Topics Covered\n",
    "1. Enumeration and Zipping\n",
    "2. Advanced List Indexing\n",
    "3. Functions (Basic and Advanced)\n",
    "4. File Handling\n",
    "5. Exception Handling\n",
    "6. Regular Expressions\n",
    "7. Exercises"
   ]
  },
  {
   "cell_type": "markdown",
   "metadata": {},
   "source": [
    "## 1. Enumeration and Zipping\n",
    "### Enumeration\n",
    "The `enumerate` function adds a counter to an iterable and returns it as an `enumerate` object.\n",
    "\n",
    "### Example"
   ]
  },
  {
   "cell_type": "code",
   "metadata": {},
   "source": [
    "# Example of using enumerate\n",
    "fruits = ['apple', 'banana', 'cherry']\n",
    "for index, fruit in enumerate(fruits):\n",
    "    print(index, fruit)"
   ],
   "execution_count": null,
   "outputs": []
  },
  {
   "cell_type": "markdown",
   "metadata": {},
   "source": [
    "### Zipping\n",
    "The `zip` function takes iterables (can be zero or more), aggregates them in a tuple, and returns it.\n",
    "\n",
    "### Example"
   ]
  },
  {
   "cell_type": "code",
   "metadata": {},
   "source": [
    "# Example of using zip\n",
    "names = ['Alice', 'Bob', 'Charlie']\n",
    "ages = [25, 30, 35]\n",
    "for name, age in zip(names, ages):\n",
    "    print(f'{name} is {age} years old')"
   ],
   "execution_count": null,
   "outputs": []
  },
  {
   "cell_type": "markdown",
   "metadata": {},
   "source": [
    "### Exercise 1: Enumeration and Zipping\n",
    "\n",
    "1. Create a list of departments: `['HR', 'Finance', 'Engineering']`\n",
    "2. Create a list of department heads: `['Alice', 'Bob', 'Charlie']`\n",
    "3. Use `enumerate` to print each department with its index.\n",
    "4. Use `zip` to print each department with its corresponding department head."
   ]
  },
  {
   "cell_type": "code",
   "metadata": {},
   "source": [
    "# Exercise 1: Enumeration and Zipping\n",
    "departments = ['HR', 'Finance', 'Engineering']\n",
    "heads = ['Alice', 'Bob', 'Charlie']\n",
    "\n",
    "# Using enumerate\n",
    "for index, department in enumerate(departments):\n",
    "    print(f'{index}: {department}')\n",
    "\n",
    "# Using zip\n",
    "for department, head in zip(departments, heads):\n",
    "    print(f'{department} is headed by {head}')"
   ],
   "execution_count": null,
   "outputs": []
  },
  {
   "cell_type": "markdown",
   "metadata": {},
   "source": [
    "## 2. Advanced List Indexing\n",
    "You can use advanced indexing techniques to access elements of a list, such as slicing, negative indexing, and multi-dimensional indexing.\n",
    "\n",
    "### Example"
   ]
  },
  {
   "cell_type": "code",
   "metadata": {},
   "source": [
    "# Example of advanced list indexing\n",
    "matrix = [\n",
    "    [1, 2, 3],\n",
    "    [4, 5, 6],\n",
    "    [7, 8, 9]\n",
    "]\n",
    "\n",
    "# Access the first row\n",
    "print(matrix[0])\n",
    "\n",
    "# Access the first element of the first row\n",
    "print(matrix[0][0])\n",
    "\n",
    "# Access the last element of the last row using negative indexing\n",
    "print(matrix[-1][-1])"
   ],
   "execution_count": null,
   "outputs": []
  },
  {
   "cell_type": "markdown",
   "metadata": {},
   "source": [
    "### Exercise 2: Advanced List Indexing\n",
    "\n",
    "1. Create a 3x3 matrix using a list of lists.\n",
    "2. Print the second row.\n",
    "3. Print the last element of the first row.\n",
    "4. Print the middle element of the matrix using negative indexing."
   ]
  },
  {
   "cell_type": "code",
   "metadata": {},
   "source": [
    "# Exercise 2: Advanced List Indexing\n",
    "# Create a 3x3 matrix\n",
    "matrix = [\n",
    "    [1, 2, 3],\n",
    "    [4, 5, 6],\n",
    "    [7, 8, 9]\n",
    "]\n",
    "\n",
    "# Print the second row\n",
    "print('Second row:', matrix[1])\n",
    "\n",
    "# Print the last element of the first row\n",
    "print('Last element of the first row:', matrix[0][-1])\n",
    "\n",
    "# Print the middle element using negative indexing\n",
    "print('Middle element:', matrix[-2][-2])"
   ],
   "execution_count": null,
   "outputs": []
  },
  {
   "cell_type": "markdown",
   "metadata": {},
   "source": [
    "## 3. Functions (Basic and Advanced)\n",
    "### Basic Functions\n",
    "Functions are defined using the `def` keyword. They can take parameters and return values.\n",
    "\n",
    "### Example"
   ]
  },
  {
   "cell_type": "code",
   "metadata": {},
   "source": [
    "# Example of a basic function\n",
    "def greet(name):\n",
    "    return f'Hello, {name}!'\n",
    "\n",
    "# Call the function\n",
    "print(greet('Alice'))"
   ],
   "execution_count": null,
   "outputs": []
  },
  {
   "cell_type": "markdown",
   "metadata": {},
   "source": [
    "### Advanced Functions\n",
    "Advanced functions can include default arguments, variable-length arguments, nested functions, and more.\n",
    "\n",
    "### Example"
   ]
  },
  {
   "cell_type": "code",
   "metadata": {},
   "source": [
    "# Example of advanced functions\n",
    "def add_numbers(a, b=0, *args, **kwargs):\n",
    "    result = a + b\n",
    "    for num in args:\n",
    "        result += num\n",
    "    for key in kwargs:\n",
    "        result += kwargs[key]\n",
    "    return result\n",
    "\n",
    "# Call the function\n",
    "print(add_numbers(1, 2, 3, 4, x=5, y=6))"
   ],
   "execution_count": null,
   "outputs": []
  },
  {
   "cell_type": "markdown",
   "metadata": {},
   "source": [
    "### Exercise 3: Functions\n",
    "\n",
    "1. Define a function called `calculate_discount` that takes `price` and `discount` as arguments and returns the discounted price.\n",
    "2. Define a function called `calculate_total_price` that takes `*prices` and `**discounts` as arguments and returns the total price after applying discounts."
   ]
  },
  {
   "cell_type": "code",
   "metadata": {},
   "source": [
    "# Exercise 3: Functions\n",
    "# Define the calculate_discount function\n",
    "def calculate_discount(price, discount):\n",
    "    return price * (1 - discount)\n",
    "\n",
    "# Define the calculate_total_price function\n",
    "def calculate_total_price(*prices, **discounts):\n",
    "    total = 0\n",
    "    for price in prices:\n",
    "        total += price\n",
    "    for discount in discounts.values():\n",
    "        total -= discount\n",
    "    return total\n",
    "\n",
    "# Call the functions\n",
    "print('Discounted price:', calculate_discount(100, 0.2))\n",
    "print('Total price:', calculate_total_price(100, 200, 300, discount1=20, discount2=30))"
   ],
   "execution_count": null,
   "outputs": []
  },
  {
   "cell_type": "markdown",
   "metadata": {},
   "source": [
    "## 4. File Handling\n",
    "You can read from and write to files using the `open` function.\n",
    "\n",
    "### Example"
   ]
  },
  {
   "cell_type": "code",
   "metadata": {},
   "source": [
    "# Example of file handling\n",
    "# Write to a file\n",
    "with open('example.txt', 'w') as file:\n",
    "    file.write('Hello, Salesforce!')\n",
    "\n",
    "# Read from a file\n",
    "with open('example.txt', 'r') as file:\n",
    "    content = file.read()\n",
    "    print(content)"
   ],
   "execution_count": null,
   "outputs": []
  },
  {
   "cell_type": "markdown",
   "metadata": {},
   "source": [
    "### Exercise 4: File Handling\n",
    "\n",
    "1. Write a Python script to create a file called `sales_data.txt` and write some sample sales data to it.\n",
    "2. Read the content of the file and print it."
   ]
  },
  {
   "cell_type": "code",
   "metadata": {},
   "source": [
    "# Exercise 4: File Handling\n",
    "# Write to a file\n",
    "with open('sales_data.txt', 'w') as file:\n",
    "    file.write('Product,Price,Quantity\\n')\n",
    "    file.write('Laptop,1200,5\\n')\n",
    "    file.write('Mouse,20,50\\n')\n",
    "    file.write('Keyboard,50,20\\n')\n",
    "\n",
    "# Read from the file\n",
    "with open('sales_data.txt', 'r') as file:\n",
    "    content = file.read()\n",
    "    print(content)"
   ],
   "execution_count": null,
   "outputs": []
  },
  {
   "cell_type": "markdown",
   "metadata": {},
   "source": [
    "## 5. Exception Handling\n",
    "You can handle exceptions using `try`, `except`, `else`, and `finally` blocks.\n",
    "\n",
    "### Example"
   ]
  },
  {
   "cell_type": "code",
   "metadata": {},
   "source": [
    "# Example of exception handling\n",
    "try:\n",
    "    result = 10 / 0\n",
    "except ZeroDivisionError:\n",
    "    print('Error: Division by zero is not allowed.')\n",
    "else:\n",
    "    print('The result is', result)\n",
    "finally:\n",
    "    print('This block is always executed.')"
   ],
   "execution_count": null,
   "outputs": []
  },
  {
   "cell_type": "markdown",
   "metadata": {},
   "source": [
    "### Exercise 5: Exception Handling\n",
    "\n",
    "1. Write a Python script that prompts the user to enter two numbers and performs division.\n",
    "2. Use a `try` block to catch and handle the `ZeroDivisionError` exception.\n",
    "3. Use an `else` block to print the result.\n",
    "4. Use a `finally` block to print a message that always executes."
   ]
  },
  {
   "cell_type": "code",
   "metadata": {},
   "source": [
    "# Exercise 5: Exception Handling\n",
    "try:\n",
    "    num1 = float(input('Enter the first number: '))\n",
    "    num2 = float(input('Enter the second number: '))\n",
    "    result = num1 / num2\n",
    "except ZeroDivisionError:\n",
    "    print('Error: Division by zero is not allowed.')\n",
    "except ValueError:\n",
    "    print('Error: Invalid input.')\n",
    "else:\n",
    "    print('The result is', result)\n",
    "finally:\n",
    "    print('This block is always executed.')"
   ],
   "execution_count": null,
   "outputs": []
  },
  {
   "cell_type": "markdown",
   "metadata": {},
   "source": [
    "## 6. Regular Expressions\n",
    "You can use the `re` module to work with regular expressions in Python.\n",
    "\n",
    "### Example"
   ]
  },
  {
   "cell_type": "code",
   "metadata": {},
   "source": [
    "# Example of using regular expressions\n",
    "import re\n",
    "\n",
    "text = 'Contact us at support@salesforce.com or sales@salesforce.com'\n",
    "pattern = r'[\\w\\.-]+@[\\w\\.-]+'\n",
    "matches = re.findall(pattern, text)\n",
    "print('Email addresses found:', matches)"
   ],
   "execution_count": null,
   "outputs": []
  },
  {
   "cell_type": "markdown",
   "metadata": {},
   "source": [
    "### Exercise 6: Regular Expressions\n",
    "\n",
    "1. Write a Python script to extract all phone numbers from a given text using a regular expression.\n",
    "2. The text is: `'Contact us at (123) 456-7890 or 987-654-3210.'`\n",
    "3. Print the list of extracted phone numbers."
   ]
  },
  {
   "cell_type": "code",
   "metadata": {},
   "source": [
    "# Exercise 6: Regular Expressions\n",
    "import re\n",
    "\n",
    "text = 'Contact us at (123) 456-7890 or 987-654-3210.'\n",
    "pattern = r'\\(?\\d{3}\\)?[-.\\s]?\\d{3}[-.\\s]?\\d{4}'\n",
    "matches = re.findall(pattern, text)\n",
    "print('Phone numbers found:', matches)"
   ],
   "execution_count": null,
   "outputs": []
  },
  {
   "cell_type": "markdown",
   "metadata": {},
   "source": [
    "### Summary\n",
    "In this notebook, we reviewed the key concepts covered in Day 2, including enumeration, zipping, advanced list indexing, functions, file handling, exception handling, and regular expressions.\n",
    "\n",
    "By practicing these concepts, you'll reinforce your understanding and be better prepared for the more advanced topics we'll cover in Day 3. Happy coding!"
   ]
  }
 ],
 "metadata": {
  "kernelspec": {
   "display_name": "Python 3",
   "language": "python",
   "name": "python3"
  },
  "language_info": {
   "codemirror_mode": {
    "name": "ipython",
    "version": 3
   },
   "file_extension": ".py",
   "mimetype": "text/x-python",
   "name": "python",
   "nbconvert_exporter": "python",
   "pygments_lexer": "ipython3",
   "version": "3.8.3"
  }
 },
 "nbformat": 4,
 "nbformat_minor": 4
}
