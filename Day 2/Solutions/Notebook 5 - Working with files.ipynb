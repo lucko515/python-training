{
 "cells": [
  {
   "cell_type": "markdown",
   "metadata": {},
   "source": [
    "# File Handling in Python\n",
    "In this notebook, we will cover how to handle files in Python. This includes reading from and writing to files, handling different file modes, and working with standard input, output, and error streams.\n",
    "\n",
    "## Topics Covered\n",
    "1. Reading from Files\n",
    "2. Writing to Files\n",
    "3. File Modes\n",
    "4. Working with CSV Files\n",
    "5. Standard Input, Output, and Error Streams\n",
    "6. Exercises"
   ]
  },
  {
   "cell_type": "markdown",
   "metadata": {},
   "source": [
    "## 1. Reading from Files\n",
    "You can read from a file using the `open` function and the `read`, `readline`, or `readlines` methods.\n",
    "\n",
    "### Example"
   ]
  },
  {
   "cell_type": "code",
   "execution_count": null,
   "metadata": {},
   "outputs": [],
   "source": [
    "# Example of reading from a file\n",
    "# Create a sample file\n",
    "with open('sample.txt', 'w') as file:\n",
    "    file.write('Hello, Everyone!\\nWelcome to the file handling tutorial.')\n",
    "\n",
    "# Read the entire content of the file\n",
    "with open('sample.txt', 'r') as file:\n",
    "    content = file.read()\n",
    "print(content)\n",
    "\n",
    "# Read the file line by line\n",
    "with open('sample.txt', 'r') as file:\n",
    "    for line in file:\n",
    "        print(line.strip())"
   ]
  },
  {
   "cell_type": "markdown",
   "metadata": {},
   "source": [
    "### Exercise 1: Reading from Files\n",
    "\n",
    "1. Create a text file called `team_members.txt` and add the names of your team members, each on a new line.\n",
    "2. Write a Python script to read the file and print each name with the prefix \"Team Member: \"."
   ]
  },
  {
   "cell_type": "code",
   "execution_count": null,
   "metadata": {},
   "outputs": [],
   "source": [
    "# Exercise 1: Reading from Files\n",
    "# Create the file with team member names\n",
    "with open('team_members.txt', 'w') as file:\n",
    "    file.write('John\\nJane\\nDoe\\nAlice\\nBob')\n",
    "\n",
    "# Read and print each name with a prefix\n",
    "with open('team_members.txt', 'r') as file:\n",
    "    for line in file:\n",
    "        print(f\"Team Member: {line.strip()}\")"
   ]
  },
  {
   "cell_type": "markdown",
   "metadata": {},
   "source": [
    "## 2. Writing to Files\n",
    "You can write to a file using the `open` function and the `write` or `writelines` methods.\n",
    "\n",
    "### Example"
   ]
  },
  {
   "cell_type": "code",
   "execution_count": null,
   "metadata": {},
   "outputs": [],
   "source": [
    "# Example of writing to a file\n",
    "# Write a single line to a file\n",
    "with open('output.txt', 'w') as file:\n",
    "    file.write('This is a single line of text.')\n",
    "\n",
    "# Write multiple lines to a file\n",
    "lines = ['First line', 'Second line', 'Third line']\n",
    "with open('output.txt', 'w') as file:\n",
    "    for line in lines:\n",
    "        file.write(line + '\\n')"
   ]
  },
  {
   "cell_type": "markdown",
   "metadata": {},
   "source": [
    "### Exercise 2: Writing to Files\n",
    "\n",
    "1. Create a list called `crm_features` with the values \"Leads\", \"Opportunities\", \"Contacts\", \"Accounts\".\n",
    "2. Write a Python script to write each feature to a file called `crm_features.txt`, each on a new line."
   ]
  },
  {
   "cell_type": "code",
   "execution_count": null,
   "metadata": {},
   "outputs": [],
   "source": [
    "# Exercise 2: Writing to Files\n",
    "# Create the list of CRM features\n",
    "crm_features = ['Leads', 'Opportunities', 'Contacts', 'Accounts']\n",
    "\n",
    "# Write each feature to a file\n",
    "with open('crm_features.txt', 'w') as file:\n",
    "    for feature in crm_features:\n",
    "        file.write(feature + '\\n')"
   ]
  },
  {
   "cell_type": "markdown",
   "metadata": {},
   "source": [
    "## 3. File Modes\n",
    "When opening a file, you can specify the mode in which to open it. The most common modes are:\n",
    "- `'r'`: Read mode (default)\n",
    "- `'w'`: Write mode\n",
    "- `'a'`: Append mode\n",
    "- `'b'`: Binary mode\n",
    "- `'t'`: Text mode (default)\n",
    "\n",
    "### Example"
   ]
  },
  {
   "cell_type": "code",
   "execution_count": null,
   "metadata": {},
   "outputs": [],
   "source": [
    "# Example of file modes\n",
    "# Append a line to an existing file\n",
    "with open('output.txt', 'a') as file:\n",
    "    file.write('This line is appended to the file.\\n')\n",
    "\n",
    "# Read the content of the file\n",
    "with open('output.txt', 'r') as file:\n",
    "    content = file.read()\n",
    "print(content)"
   ]
  },
  {
   "cell_type": "markdown",
   "metadata": {},
   "source": [
    "### Exercise 3: File Modes\n",
    "\n",
    "1. Open the file `crm_features.txt` in append mode.\n",
    "2. Append the feature \"Reports\" to the file.\n",
    "3. Open the file in read mode and print its contents."
   ]
  },
  {
   "cell_type": "code",
   "execution_count": null,
   "metadata": {},
   "outputs": [],
   "source": [
    "# Exercise 3: File Modes\n",
    "# Append a feature to the file\n",
    "with open('crm_features.txt', 'a') as file:\n",
    "    file.write('Reports\\n')\n",
    "\n",
    "# Read and print the contents of the file\n",
    "with open('crm_features.txt', 'r') as file:\n",
    "    content = file.read()\n",
    "print(content)"
   ]
  },
  {
   "cell_type": "markdown",
   "metadata": {},
   "source": [
    "## 4. Working with CSV Files\n",
    "CSV (Comma-Separated Values) files are commonly used for storing tabular data. Python's `csv` module provides functionality for reading from and writing to CSV files.\n",
    "\n",
    "### Example"
   ]
  },
  {
   "cell_type": "code",
   "execution_count": null,
   "metadata": {},
   "outputs": [],
   "source": [
    "import csv\n",
    "\n",
    "# Example of writing to a CSV file\n",
    "header = ['Name', 'Title', 'Email']\n",
    "data = [\n",
    "    ['Alice', 'Account Executive', 'alice@salesforce.com'],\n",
    "    ['Bob', 'Sales Manager', 'bob@salesforce.com'],\n",
    "    ['Charlie', 'Customer Success Manager', 'charlie@salesforce.com']\n",
    "]\n",
    "\n",
    "with open('employees.csv', 'w', newline='') as file:\n",
    "    writer = csv.writer(file)\n",
    "    writer.writerow(header)\n",
    "    writer.writerows(data)\n",
    "\n",
    "# Example of reading from a CSV file\n",
    "with open('employees.csv', 'r') as file:\n",
    "    reader = csv.reader(file)\n",
    "    for row in reader:\n",
    "        print(row)"
   ]
  },
  {
   "cell_type": "markdown",
   "metadata": {},
   "source": [
    "### Exercise 4: Working with CSV Files\n",
    "\n",
    "1. Create a list of dictionaries called `sales_data` with the keys `region`, `sales`, and `growth`.\n",
    "2. Write a Python script to write the data to a CSV file called `sales_data.csv`.\n",
    "3. Write a Python script to read the `sales_data.csv` file and print each row."
   ]
  },
  {
   "cell_type": "code",
   "execution_count": null,
   "metadata": {},
   "outputs": [],
   "source": [
    "# Exercise 4: Working with CSV Files\n",
    "sales_data = [\n",
    "    {'region': 'EMEA', 'sales': 7000, 'growth': '5%'},\n",
    "    {'region': 'APAC', 'sales': 3000, 'growth': '2%'},\n",
    "    {'region': 'Americas', 'sales': 10000, 'growth': '8%'}\n",
    "]\n",
    "\n",
    "# Write the data to a CSV file\n",
    "with open('sales_data.csv', 'w', newline='') as file:\n",
    "    writer = csv.DictWriter(file, fieldnames=sales_data[0].keys())\n",
    "    writer.writeheader()\n",
    "    writer.writerows(sales_data)\n",
    "\n",
    "# Read the data from the CSV file\n",
    "with open('sales_data.csv', 'r') as file:\n",
    "    reader = csv.DictReader(file)\n",
    "    for row in reader:\n",
    "        print(row)"
   ]
  },
  {
   "cell_type": "markdown",
   "metadata": {},
   "source": [
    "## 5. Standard Input, Output, and Error Streams\n",
    "Python provides access to standard input, output, and error streams through the `sys` module. This is useful for interacting with the user or handling errors.\n",
    "\n",
    "### Example"
   ]
  },
  {
   "cell_type": "code",
   "execution_count": null,
   "metadata": {},
   "outputs": [],
   "source": [
    "import sys\n",
    "\n",
    "# Example of standard output\n",
    "print('This is standard output.')\n",
    "\n",
    "# Example of standard error\n",
    "print('This is standard error.', file=sys.stderr)\n",
    "\n",
    "# Example of standard input\n",
    "print('Enter your name:')\n",
    "name = input()  # Reading from standard input\n",
    "print(f'Hello, {name}!')"
   ]
  },
  {
   "cell_type": "markdown",
   "metadata": {},
   "source": [
    "### Exercise 5: Standard Input, Output, and Error Streams\n",
    "\n",
    "1. Write a Python script to prompt the user to enter their name and role.\n",
    "2. Print a greeting message using the entered name and role.\n",
    "3. Print an error message to the standard error stream if the role is not provided."
   ]
  },
  {
   "cell_type": "code",
   "execution_count": null,
   "metadata": {},
   "outputs": [],
   "source": [
    "# Exercise 5: Standard Input, Output, and Error Streams\n",
    "import sys\n",
    "\n",
    "# Prompt the user to enter their name and role\n",
    "name = input('Enter your name: ')\n",
    "role = input('Enter your role: ')\n",
    "\n",
    "# Print a greeting message\n",
    "if role:\n",
    "    print(f'Hello, {name}! Your role is {role}.')\n",
    "else:\n",
    "    print('Error: Role not provided.', file=sys.stderr)"
   ]
  }
 ],
 "metadata": {
  "kernelspec": {
   "display_name": "Python 3 (ipykernel)",
   "language": "python",
   "name": "python3"
  },
  "language_info": {
   "codemirror_mode": {
    "name": "ipython",
    "version": 3
   },
   "file_extension": ".py",
   "mimetype": "text/x-python",
   "name": "python",
   "nbconvert_exporter": "python",
   "pygments_lexer": "ipython3",
   "version": "3.11.5"
  }
 },
 "nbformat": 4,
 "nbformat_minor": 4
}
