{
 "cells": [
  {
   "cell_type": "markdown",
   "metadata": {},
   "source": [
    "# Day 1 Retrospective\n",
    "Welcome back! Before we move on to Day 2, let's review the key concepts we learned on Day 1.\n",
    "\n",
    "## Topics Covered\n",
    "1. Variables and Data Types\n",
    "2. Arithmetic Operations\n",
    "3. String Manipulation\n",
    "4. Lists\n",
    "5. Tuples\n",
    "6. Dictionaries\n",
    "7. Control Flow\n",
    "8. Loops\n",
    "\n",
    "Let's go over some quick exercises to reinforce what we learned."
   ]
  },
  {
   "cell_type": "markdown",
   "metadata": {},
   "source": [
    "### 1. Variables and Data Types\n",
    "#### Exercise: Create and print variables of different data types\n",
    "- Create an integer variable `age` and assign it your age.\n",
    "- Create a float variable `height` and assign it your height in meters.\n",
    "- Create a string variable `name` and assign it your name.\n",
    "- Create a boolean variable `is_student` and set it to `True` if you are a student, otherwise `False`.\n",
    "- Print all the variables."
   ]
  },
  {
   "cell_type": "code",
   "execution_count": null,
   "metadata": {},
   "outputs": [],
   "source": []
  },
  {
   "cell_type": "markdown",
   "metadata": {},
   "source": [
    "### 2. Arithmetic Operations\n",
    "#### Exercise: Perform basic arithmetic operations\n",
    "- Create two variables `a` and `b` and assign them values.\n",
    "- Perform addition, subtraction, multiplication, and division operations on them.\n",
    "- Print the results of each operation."
   ]
  },
  {
   "cell_type": "code",
   "execution_count": null,
   "metadata": {},
   "outputs": [],
   "source": []
  },
  {
   "cell_type": "markdown",
   "metadata": {},
   "source": [
    "### 3. String Manipulation\n",
    "#### Exercise: Manipulate strings\n",
    "- Create a string variable `greeting` with the value \"Hello, Salesforce!\"\n",
    "- Convert the string to uppercase and print it.\n",
    "- Replace \"Salesforce\" with \"World\" and print the result.\n",
    "- Split the string into a list of words and print it."
   ]
  },
  {
   "cell_type": "code",
   "execution_count": null,
   "metadata": {},
   "outputs": [],
   "source": []
  },
  {
   "cell_type": "markdown",
   "metadata": {},
   "source": [
    "### 4. Lists\n",
    "#### Exercise: Create and manipulate lists\n",
    "- Create a list called `crm_features` with the values \"Leads\", \"Opportunities\", \"Contacts\", \"Accounts\".\n",
    "- Append \"Reports\" to the list and print it.\n",
    "- Remove \"Contacts\" from the list and print it.\n",
    "- Print the first and last elements of the list."
   ]
  },
  {
   "cell_type": "code",
   "execution_count": null,
   "metadata": {},
   "outputs": [],
   "source": []
  },
  {
   "cell_type": "markdown",
   "metadata": {},
   "source": [
    "### 5. Tuples\n",
    "#### Exercise: Create and access tuple elements\n",
    "- Create a tuple called `salesforce_products` with the values \"Sales Cloud\", \"Service Cloud\", \"Marketing Cloud\".\n",
    "- Print the first and last elements of the tuple."
   ]
  },
  {
   "cell_type": "code",
   "execution_count": null,
   "metadata": {},
   "outputs": [],
   "source": []
  },
  {
   "cell_type": "markdown",
   "metadata": {},
   "source": [
    "### 6. Dictionaries\n",
    "#### Exercise: Create and manipulate dictionaries\n",
    "- Create a dictionary called `contact_info` with the keys \"Name\", \"Title\", and \"Email\" and corresponding values.\n",
    "- Update the email address and print the dictionary.\n",
    "- Add a new key-value pair for \"Phone\" and print the dictionary.\n",
    "- Remove the \"Phone\" key and print the dictionary."
   ]
  },
  {
   "cell_type": "code",
   "execution_count": null,
   "metadata": {},
   "outputs": [],
   "source": []
  },
  {
   "cell_type": "markdown",
   "metadata": {},
   "source": [
    "### 7. Control Flow\n",
    "#### Exercise: Use control flow statements\n",
    "- Create a variable called `sales` and assign it a value.\n",
    "- Use an `if-elif-else` statement to print messages based on the value of `sales`."
   ]
  },
  {
   "cell_type": "code",
   "execution_count": null,
   "metadata": {},
   "outputs": [],
   "source": []
  },
  {
   "cell_type": "markdown",
   "metadata": {},
   "source": [
    "### 8. Loops\n",
    "#### Exercise: Use for and while loops\n",
    "- Create a list called `crm_features` with the values \"Leads\", \"Opportunities\", \"Contacts\", \"Accounts\".\n",
    "- Use a `for` loop to print each feature.\n",
    "- Create a variable `sales_target` with a value of 10000 and a variable `current_sales` with a value of 0. Use a `while` loop to increment `current_sales` by 2000 each time until it reaches or exceeds `sales_target`. Print `current_sales` each time it is incremented."
   ]
  },
  {
   "cell_type": "code",
   "execution_count": null,
   "metadata": {},
   "outputs": [],
   "source": []
  }
 ],
 "metadata": {
  "kernelspec": {
   "display_name": "Python 3 (ipykernel)",
   "language": "python",
   "name": "python3"
  },
  "language_info": {
   "codemirror_mode": {
    "name": "ipython",
    "version": 3
   },
   "file_extension": ".py",
   "mimetype": "text/x-python",
   "name": "python",
   "nbconvert_exporter": "python",
   "pygments_lexer": "ipython3",
   "version": "3.11.5"
  }
 },
 "nbformat": 4,
 "nbformat_minor": 4
}
