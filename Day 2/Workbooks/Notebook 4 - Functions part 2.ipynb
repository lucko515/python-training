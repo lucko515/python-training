{
 "cells": [
  {
   "cell_type": "markdown",
   "metadata": {},
   "source": [
    "# Functions Part 2 (Advanced Functions)\n",
    "In this notebook, we will cover advanced concepts related to functions in Python. These concepts will help you write more flexible and powerful functions.\n",
    "\n",
    "## Topics Covered\n",
    "1. Default Arguments\n",
    "2. Variable-Length Arguments (*args and **kwargs)\n",
    "3. Nested Functions\n",
    "4. The LEGB Rule\n",
    "5. Passing Functions as Arguments\n",
    "6. Recursion\n",
    "7. Exercises"
   ]
  },
  {
   "cell_type": "markdown",
   "metadata": {},
   "source": [
    "## 1. Default Arguments\n",
    "Default arguments allow you to define default values for parameters in a function. If the caller does not provide a value for the parameter, the default value is used.\n",
    "\n",
    "### Example"
   ]
  },
  {
   "cell_type": "code",
   "execution_count": null,
   "metadata": {},
   "outputs": [],
   "source": []
  },
  {
   "cell_type": "markdown",
   "metadata": {},
   "source": [
    "### Exercise 1: Default Arguments\n",
    "\n",
    "1. Define a function called `calculate_discounted_price` that takes two arguments: `price` and `discount` with a default value of `0.1` (10%).\n",
    "2. The function should return the price after applying the discount.\n",
    "3. Call the function with the arguments `100` and `0.2`, and print the result.\n",
    "4. Call the function with only the argument `100`, and print the result."
   ]
  },
  {
   "cell_type": "code",
   "execution_count": null,
   "metadata": {},
   "outputs": [],
   "source": []
  },
  {
   "cell_type": "markdown",
   "metadata": {},
   "source": [
    "## 2. Variable-Length Arguments (*args and **kwargs)\n",
    "Variable-length arguments allow you to pass an arbitrary number of arguments to a function. This is useful when you don't know in advance how many arguments will be passed.\n",
    "\n",
    "### 2.1. *args\n",
    "`*args` is used to pass a variable number of non-keyword arguments to a function.\n",
    "\n",
    "### Example"
   ]
  },
  {
   "cell_type": "code",
   "execution_count": null,
   "metadata": {},
   "outputs": [],
   "source": []
  },
  {
   "cell_type": "markdown",
   "metadata": {},
   "source": [
    "### Exercise 2: *args\n",
    "\n",
    "1. Define a function called `concatenate_strings` that takes any number of string arguments and concatenates them into a single string.\n",
    "2. Call the function with the arguments `\"Salesforce\"`, `\" is\"`, `\" awesome!\"`, and print the result.\n",
    "3. Call the function with the arguments `\"Python\"`, `\" is\"`, `\" great\"`, `\" for\"`, `\" data\"`, `\" analysis.\"`, and print the result."
   ]
  },
  {
   "cell_type": "code",
   "execution_count": null,
   "metadata": {},
   "outputs": [],
   "source": []
  },
  {
   "cell_type": "markdown",
   "metadata": {},
   "source": [
    "### 2.2. **kwargs\n",
    "`**kwargs` is used to pass a variable number of keyword arguments to a function.\n",
    "\n",
    "### Example"
   ]
  },
  {
   "cell_type": "code",
   "execution_count": null,
   "metadata": {},
   "outputs": [],
   "source": []
  },
  {
   "cell_type": "markdown",
   "metadata": {},
   "source": [
    "### Exercise 3: **kwargs\n",
    "\n",
    "1. Define a function called `generate_sales_report` that takes any number of keyword arguments representing sales data (e.g., `region=\"North America\", sales=5000`).\n",
    "2. The function should print each key-value pair.\n",
    "3. Call the function with the keyword arguments `region=\"EMEA\"`, `sales=7000`, `growth=\"5%\"`, and print the result.\n",
    "4. Call the function with the keyword arguments `region=\"APAC\"`, `sales=3000`, `growth=\"2%\"`, and print the result."
   ]
  },
  {
   "cell_type": "code",
   "execution_count": null,
   "metadata": {},
   "outputs": [],
   "source": []
  },
  {
   "cell_type": "markdown",
   "metadata": {},
   "source": [
    "#### Passing Dictionaries with **kwargs\n",
    "\n",
    "You can use `**kwargs` to pass a dictionary of keyword arguments to a function. This allows you to handle a variable number of keyword arguments in a function.\n",
    "\n",
    "```python\n",
    "# Example of a function using **kwargs\n",
    "def print_employee_details(**details):\n",
    "    \"\"\"This function prints employee details from keyword arguments\"\"\"\n",
    "    for key, value in details.items():\n",
    "        print(f\"{key}: {value}\")\n",
    "\n",
    "# Example dictionary\n",
    "employee_data = {\n",
    "    \"name\": \"Alice\",\n",
    "    \"title\": \"Account Executive\",\n",
    "    \"email\": \"alice@salesforce.com\"\n",
    "}\n",
    "\n",
    "# Passing dictionary to the function\n",
    "print_employee_details(**employee_data)\n",
    "```\n",
    "\n",
    "#### Real-World Case Scenario: Loading Data and Processing with Functions\n",
    "\n",
    "Let's say you have a JSON file containing sales data, and you need to load the data and process it with a function.\n"
   ]
  },
  {
   "cell_type": "code",
   "execution_count": null,
   "metadata": {},
   "outputs": [],
   "source": [
    "\n",
    "import json\n",
    "\n",
    "# Example sales data in JSON format\n",
    "sales_data_json = '''\n",
    "[\n",
    "    {\"salesperson\": \"Alice\", \"region\": \"EMEA\", \"sales\": 5000},\n",
    "    {\"salesperson\": \"Bob\", \"region\": \"APAC\", \"sales\": 7000},\n",
    "    {\"salesperson\": \"Charlie\", \"region\": \"AMER\", \"sales\": 6000}\n",
    "]\n",
    "'''\n"
   ]
  },
  {
   "cell_type": "markdown",
   "metadata": {},
   "source": [
    "## 3. Nested Functions\n",
    "A nested function is a function defined inside another function. Nested functions can access variables from the enclosing function's scope.\n",
    "\n",
    "### Example"
   ]
  },
  {
   "cell_type": "code",
   "execution_count": null,
   "metadata": {},
   "outputs": [],
   "source": []
  },
  {
   "cell_type": "markdown",
   "metadata": {},
   "source": [
    "### Exercise 4: Nested Functions\n",
    "\n",
    "1. Define an outer function called `create_multiplier` that takes one argument `x`.\n",
    "2. Inside this function, define an inner function called `multiplier` that takes one argument `y` and returns the product of `x` and `y`.\n",
    "3. The outer function should return the inner function.\n",
    "4. Call the outer function with the argument `10` to create a `multiplier` function.\n",
    "5. Use the `multiplier` function to multiply `10` by `5`, and print the result."
   ]
  },
  {
   "cell_type": "code",
   "execution_count": null,
   "metadata": {},
   "outputs": [],
   "source": []
  },
  {
   "cell_type": "markdown",
   "metadata": {},
   "source": [
    "## 4. The LEGB Rule\n",
    "The LEGB rule describes the scope of variables in Python, which stands for Local, Enclosing, Global, and Built-in. When you reference a variable in Python, it searches these scopes in order to resolve the variable.\n",
    "\n",
    "### Example"
   ]
  },
  {
   "cell_type": "code",
   "execution_count": null,
   "metadata": {},
   "outputs": [],
   "source": []
  },
  {
   "cell_type": "markdown",
   "metadata": {},
   "source": [
    "### Exercise 5: LEGB Rule\n",
    "\n",
    "1. Define a global variable called `level` and assign it the value \"global level\".\n",
    "2. Define an outer function called `outer_function` that assigns the value \"enclosing level\" to a variable `level`.\n",
    "3. Inside this function, define an inner function called `inner_function` that assigns the value \"local level\" to a variable `level` and prints `level`.\n",
    "4. Call the `inner_function` and print `level` inside the `outer_function`.\n",
    "5. Call the `outer_function` and print `level` globally."
   ]
  },
  {
   "cell_type": "code",
   "execution_count": null,
   "metadata": {},
   "outputs": [],
   "source": []
  },
  {
   "cell_type": "markdown",
   "metadata": {},
   "source": [
    "## 5. Passing Functions as Arguments\n",
    "In Python, you can pass functions as arguments to other functions. This allows for higher-order functions and functional programming techniques.\n",
    "\n",
    "### Example"
   ]
  },
  {
   "cell_type": "code",
   "execution_count": null,
   "metadata": {},
   "outputs": [],
   "source": []
  },
  {
   "cell_type": "markdown",
   "metadata": {},
   "source": [
    "### Exercise 6: Passing Functions as Arguments\n",
    "\n",
    "1. Define a function called `process_sales` that takes a list of sales amounts and a function `process_function` as arguments.\n",
    "2. The `process_sales` function should apply the `process_function` to each sales amount and return the results as a list.\n",
    "3. Define a function called `apply_tax` that takes a sales amount and returns the amount after applying a 5% tax.\n",
    "4. Call the `process_sales` function with a list of sales amounts and the `apply_tax` function, and print the results."
   ]
  },
  {
   "cell_type": "code",
   "execution_count": null,
   "metadata": {},
   "outputs": [],
   "source": []
  },
  {
   "cell_type": "markdown",
   "metadata": {},
   "source": [
    "## 6. Lambda Functions\n",
    "\n",
    "Lambda functions are small anonymous functions defined with the `lambda` keyword. They can have any number of arguments but only one expression.\n",
    "\n",
    "```python\n",
    "# Example of a lambda function\n",
    "add = lambda x, y: x + y\n",
    "result = add(5, 3)\n",
    "print(f\"Result of addition: {result}\")\n",
    "```"
   ]
  },
  {
   "cell_type": "code",
   "execution_count": null,
   "metadata": {},
   "outputs": [],
   "source": []
  },
  {
   "cell_type": "markdown",
   "metadata": {},
   "source": [
    "### Lambda Functions with List Comprehensions\n",
    "\n",
    "You can use lambda functions within list comprehensions for concise and functional-style programming.\n",
    "\n",
    "```python\n",
    "# Example of using a lambda function with list comprehension\n",
    "numbers = [1, 2, 3, 4, 5]\n",
    "squared_numbers = [(lambda x: x**2)(x) for x in numbers]\n",
    "print(f\"Squared Numbers: {squared_numbers}\")\n",
    "```"
   ]
  },
  {
   "cell_type": "code",
   "execution_count": null,
   "metadata": {},
   "outputs": [],
   "source": []
  },
  {
   "cell_type": "markdown",
   "metadata": {},
   "source": [
    "## 7. Recursion\n",
    "Recursion is a technique where a function calls itself. It's useful for solving problems that can be divided into smaller, similar problems. Ensure that the recursive function has a base case to avoid infinite recursion.\n",
    "\n",
    "### Example"
   ]
  },
  {
   "cell_type": "code",
   "execution_count": null,
   "metadata": {},
   "outputs": [],
   "source": []
  },
  {
   "cell_type": "markdown",
   "metadata": {},
   "source": [
    "### Exercise 7: Recursion\n",
    "\n",
    "1. Define a recursive function called `fibonacci` that takes an integer `n` and returns the `n`th Fibonacci number.\n",
    "2. The Fibonacci sequence is defined as `F(0) = 0`, `F(1) = 1`, and `F(n) = F(n-1) + F(n-2)` for `n >= 2`.\n",
    "3. Call the function with the argument `10` and print the result."
   ]
  },
  {
   "cell_type": "code",
   "execution_count": null,
   "metadata": {},
   "outputs": [],
   "source": []
  },
  {
   "cell_type": "markdown",
   "metadata": {},
   "source": [
    "## 8. Other ways to incorporate functions into a workflow\n",
    "\n",
    "### Map Function\n",
    "\n",
    "The `map` function applies a given function to all items in an iterable (such as a list) and returns a map object (an iterator).\n",
    "\n",
    "```python\n",
    "# Example of using map with a lambda function\n",
    "numbers = [1, 2, 3, 4, 5]\n",
    "squared_numbers = list(map(lambda x: x**2, numbers))\n",
    "print(f\"Squared Numbers: {squared_numbers}\")\n",
    "```"
   ]
  },
  {
   "cell_type": "code",
   "execution_count": null,
   "metadata": {},
   "outputs": [],
   "source": []
  },
  {
   "cell_type": "markdown",
   "metadata": {},
   "source": [
    "### Eval Function\n",
    "\n",
    "The `eval` function parses the expression passed to it and runs Python expression (code) within the program.\n",
    "\n",
    "```python\n",
    "# Example of using eval\n",
    "expression = \"2 + 3 * 4\"\n",
    "result = eval(expression)\n",
    "print(f\"Result of '{expression}' is: {result}\")\n",
    "```"
   ]
  },
  {
   "cell_type": "code",
   "execution_count": null,
   "metadata": {},
   "outputs": [],
   "source": []
  }
 ],
 "metadata": {
  "kernelspec": {
   "display_name": "Python 3 (ipykernel)",
   "language": "python",
   "name": "python3"
  },
  "language_info": {
   "codemirror_mode": {
    "name": "ipython",
    "version": 3
   },
   "file_extension": ".py",
   "mimetype": "text/x-python",
   "name": "python",
   "nbconvert_exporter": "python",
   "pygments_lexer": "ipython3",
   "version": "3.11.5"
  }
 },
 "nbformat": 4,
 "nbformat_minor": 4
}
