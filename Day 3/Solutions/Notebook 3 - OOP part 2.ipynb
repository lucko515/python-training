{
 "cells": [
  {
   "cell_type": "markdown",
   "metadata": {},
   "source": [
    "# Advanced Object-Oriented Programming in Python\n",
    "In this notebook, we will cover more advanced Object-Oriented Programming (OOP) concepts in Python. This includes inheritance, polymorphism, encapsulation, and designing complex classes.\n",
    "\n",
    "## Topics Covered\n",
    "1. Inheritance\n",
    "2. Polymorphism\n",
    "3. Encapsulation\n",
    "4. Designing Complex Classes\n",
    "5. Exercises"
   ]
  },
  {
   "cell_type": "markdown",
   "metadata": {},
   "source": [
    "## 1. Inheritance\n",
    "Inheritance allows a class to inherit attributes and methods from another class. The class being inherited from is called the parent class, and the class that inherits is called the child class.\n",
    "\n",
    "### Example"
   ]
  },
  {
   "cell_type": "code",
   "metadata": {},
   "source": [
    "# Example of inheritance\n",
    "class Person:\n",
    "    def __init__(self, name, age):\n",
    "        self.name = name\n",
    "        self.age = age\n",
    "\n",
    "    def display_info(self):\n",
    "        print(f\"Name: {self.name}, Age: {self.age}\")\n",
    "\n",
    "class Employee(Person):\n",
    "    def __init__(self, name, age, position):\n",
    "        super().__init__(name, age)\n",
    "        self.position = position\n",
    "\n",
    "    def display_info(self):\n",
    "        super().display_info()\n",
    "        print(f\"Position: {self.position}\")\n",
    "\n",
    "# Create an instance of the Employee class\n",
    "employee1 = Employee(\"Alice\", 30, \"Manager\")\n",
    "employee1.display_info()"
   ],
   "execution_count": null,
   "outputs": []
  },
  {
   "cell_type": "markdown",
   "metadata": {},
   "source": [
    "### Exercise 1: Inheritance\n",
    "\n",
    "1. Define a class called `Vehicle` with the following:\n",
    "    - An `__init__` method that takes `make` and `model` as parameters.\n",
    "    - A method called `display_info` that prints the vehicle's make and model.\n",
    "2. Define a class called `Car` that inherits from `Vehicle` with the following:\n",
    "    - An `__init__` method that takes `make`, `model`, and `year` as parameters.\n",
    "    - Override the `display_info` method to also print the car's year.\n",
    "3. Create an instance of the `Car` class and call the `display_info` method."
   ]
  },
  {
   "cell_type": "code",
   "metadata": {},
   "source": [
    "# Exercise 1: Inheritance\n",
    "class Vehicle:\n",
    "    def __init__(self, make, model):\n",
    "        self.make = make\n",
    "        self.model = model\n",
    "\n",
    "    def display_info(self):\n",
    "        print(f\"Make: {self.make}, Model: {self.model}\")\n",
    "\n",
    "class Car(Vehicle):\n",
    "    def __init__(self, make, model, year):\n",
    "        super().__init__(make, model)\n",
    "        self.year = year\n",
    "\n",
    "    def display_info(self):\n",
    "        super().display_info()\n",
    "        print(f\"Year: {self.year}\")\n",
    "\n",
    "# Create an instance of the Car class\n",
    "car1 = Car(\"Toyota\", \"Corolla\", 2020)\n",
    "car1.display_info()"
   ],
   "execution_count": null,
   "outputs": []
  },
  {
   "cell_type": "markdown",
   "metadata": {},
   "source": [
    "## 2. Polymorphism\n",
    "Polymorphism allows methods to be used interchangeably between different classes. It enables methods to be defined in a way that allows them to be used in different contexts.\n",
    "\n",
    "### Example"
   ]
  },
  {
   "cell_type": "code",
   "metadata": {},
   "source": [
    "# Example of polymorphism\n",
    "class Dog:\n",
    "    def speak(self):\n",
    "        return \"Woof!\"\n",
    "\n",
    "class Cat:\n",
    "    def speak(self):\n",
    "        return \"Meow!\"\n",
    "\n",
    "def make_animal_speak(animal):\n",
    "    print(animal.speak())\n",
    "\n",
    "# Create instances of Dog and Cat\n",
    "dog = Dog()\n",
    "cat = Cat()\n",
    "\n",
    "# Use the make_animal_speak function\n",
    "make_animal_speak(dog)\n",
    "make_animal_speak(cat)"
   ],
   "execution_count": null,
   "outputs": []
  },
  {
   "cell_type": "markdown",
   "metadata": {},
   "source": [
    "### Exercise 2: Polymorphism\n",
    "\n",
    "1. Define a class called `Bird` with a method `speak` that returns \"Tweet!\".\n",
    "2. Create instances of `Dog`, `Cat`, and `Bird`.\n",
    "3. Define a function called `animal_sounds` that takes a list of animals and calls the `speak` method on each.\n",
    "4. Call the `animal_sounds` function with a list containing the instances of `Dog`, `Cat`, and `Bird`."
   ]
  },
  {
   "cell_type": "code",
   "metadata": {},
   "source": [
    "# Exercise 2: Polymorphism\n",
    "class Bird:\n",
    "    def speak(self):\n",
    "        return \"Tweet!\"\n",
    "\n",
    "# Create instances of Dog, Cat, and Bird\n",
    "dog = Dog()\n",
    "cat = Cat()\n",
    "bird = Bird()\n",
    "\n",
    "# Define the animal_sounds function\n",
    "def animal_sounds(animals):\n",
    "    for animal in animals:\n",
    "        print(animal.speak())\n",
    "\n",
    "# Call the function with a list of animals\n",
    "animals = [dog, cat, bird]\n",
    "animal_sounds(animals)"
   ],
   "execution_count": null,
   "outputs": []
  },
  {
   "cell_type": "markdown",
   "metadata": {},
   "source": [
    "## 3. Encapsulation\n",
    "Encapsulation is the practice of hiding the internal state and behavior of an object and only exposing a public interface. In Python, you can use single or double underscores to indicate protected and private members, respectively.\n",
    "\n",
    "### Example"
   ]
  },
  {
   "cell_type": "code",
   "metadata": {},
   "source": [
    "# Example of encapsulation\n",
    "class BankAccount:\n",
    "    def __init__(self, balance):\n",
    "        self.__balance = balance  # Private attribute\n",
    "\n",
    "    def deposit(self, amount):\n",
    "        if amount > 0:\n",
    "            self.__balance += amount\n",
    "    \n",
    "    def withdraw(self, amount):\n",
    "        if 0 < amount <= self.__balance:\n",
    "            self.__balance -= amount\n",
    "    \n",
    "    def get_balance(self):\n",
    "        return self.__balance\n",
    "\n",
    "# Create an instance of BankAccount\n",
    "account = BankAccount(1000)\n",
    "account.deposit(500)\n",
    "account.withdraw(200)\n",
    "print(f\"Balance: {account.get_balance()}\")"
   ],
   "execution_count": null,
   "outputs": []
  },
  {
   "cell_type": "markdown",
   "metadata": {},
   "source": [
    "### Exercise 3: Encapsulation\n",
    "\n",
    "1. Define a class called `Student` with a private attribute `__grade`.\n",
    "2. Define methods to set and get the grade, ensuring the grade is within a valid range (0-100).\n",
    "3. Create an instance of the `Student` class and use the methods to set and get the grade."
   ]
  },
  {
   "cell_type": "code",
   "metadata": {},
   "source": [
    "# Exercise 3: Encapsulation\n",
    "class Student:\n",
    "    def __init__(self, name):\n",
    "        self.name = name\n",
    "        self.__grade = None  # Private attribute\n",
    "\n",
    "    def set_grade(self, grade):\n",
    "        if 0 <= grade <= 100:\n",
    "            self.__grade = grade\n",
    "        else:\n",
    "            print(\"Error: Invalid grade\")\n",
    "\n",
    "    def get_grade(self):\n",
    "        return self.__grade\n",
    "\n",
    "# Create an instance of the Student class\n",
    "student = Student(\"Alice\")\n",
    "student.set_grade(85)\n",
    "print(f\"Grade: {student.get_grade()}\")"
   ],
   "execution_count": null,
   "outputs": []
  },
  {
   "cell_type": "markdown",
   "metadata": {},
   "source": [
    "## 4. Designing Complex Classes\n",
    "In this section, you will design more complex classes that incorporate inheritance, polymorphism, and encapsulation.\n",
    "\n",
    "### Task: Define a `CRM` System with Employee and Customer Classes\n",
    "- Define an `Employee` class that inherits from `Person`.\n",
    "- Define a `Customer` class that inherits from `Person`.\n",
    "- Implement methods to add, view, update, and delete both employees and customers.\n",
    "- Use encapsulation to protect sensitive information."
   ]
  },
  {
   "cell_type": "code",
   "metadata": {},
   "source": [
    "# Task: Define a CRM System with Employee and Customer Classes\n",
    "class Person:\n",
    "    def __init__(self, name, email):\n",
    "        self.name = name\n",
    "        self.email = email\n",
    "\n",
    "    def display_info(self):\n",
    "        print(f\"Name: {self.name}, Email: {self.email}\")\n",
    "\n",
    "class Employee(Person):\n",
    "    def __init__(self, name, email, position):\n",
    "        super().__init__(name, email)\n",
    "        self.position = position\n",
    "\n",
    "    def display_info(self):\n",
    "        super().display_info()\n",
    "        print(f\"Position: {self.position}\")\n",
    "\n",
    "class Customer(Person):\n",
    "    def __init__(self, name, email, sales):\n",
    "        super().__init__(name, email)\n",
    "        self.__sales = sales  # Private attribute\n",
    "\n",
    "    def display_info(self):\n",
    "        super().display_info()\n",
    "        print(f\"Sales: {self.__sales}\")\n",
    "\n",
    "    def update_sales(self, sales):\n",
    "        self.__sales = sales\n",
    "\n",
    "class CRM:\n",
    "    def __init__(self):\n",
    "        self.employees = []\n",
    "        self.customers = []\n",
    "\n",
    "    def add_employee(self, name, email, position):\n",
    "        new_employee = Employee(name, email, position)\n",
    "        self.employees.append(new_employee)\n",
    "        print(f\"Employee {name} added.\")\n",
    "\n",
    "    def view_employees(self):\n",
    "        for employee in self.employees:\n",
    "            employee.display_info()\n",
    "\n",
    "    def add_customer(self, name, email, sales):\n",
    "        new_customer = Customer(name, email, sales)\n",
    "        self.customers.append(new_customer)\n",
    "        print(f\"Customer {name} added.\")\n",
    "\n",
    "    def view_customers(self):\n",
    "        for customer in self.customers:\n",
    "            customer.display_info()\n",
    "\n",
    "# Create an instance of the CRM class and test the methods\n",
    "crm = CRM()\n",
    "crm.add_employee(\"Alice\", \"alice@example.com\", \"Manager\")\n",
    "crm.add_customer(\"Bob\", \"bob@example.com\", 5000)\n",
    "\n",
    "print(\"\\nEmployees:\")\n",
    "crm.view_employees()\n",
    "\n",
    "print(\"\\nCustomers:\")\n",
    "crm.view_customers()"
   ],
   "execution_count": null,
   "outputs": []
  },
  {
   "cell_type": "markdown",
   "metadata": {},
   "source": [
    "### Summary\n",
    "In this notebook, we covered advanced Object-Oriented Programming (OOP) concepts in Python, including inheritance, polymorphism, encapsulation, and designing complex classes.\n",
    "\n",
    "By mastering these advanced OOP concepts, you'll be able to write more flexible and powerful code in your programming projects. Happy coding!"
   ]
  }
 ],
 "metadata": {
  "kernelspec": {
   "display_name": "Python 3",
   "language": "python",
   "name": "python3"
  },
  "language_info": {
   "codemirror_mode": {
    "name": "ipython",
    "version": 3
   },
   "file_extension": ".py",
   "mimetype": "text/x-python",
   "name": "python",
   "nbconvert_exporter": "python",
   "pygments_lexer": "ipython3",
   "version": "3.8.3"
  }
 },
 "nbformat": 4,
 "nbformat_minor": 4
}
