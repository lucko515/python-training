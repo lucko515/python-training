{
 "cells": [
  {
   "cell_type": "markdown",
   "metadata": {},
   "source": [
    "# Basic Object-Oriented Programming in Python\n",
    "In this notebook, we will cover the basics of Object-Oriented Programming (OOP) in Python. This includes defining classes, creating objects, and using methods and attributes.\n",
    "\n",
    "## Topics Covered\n",
    "1. What is a Class?\n",
    "2. Methods and Instance Variables\n",
    "3. Class Methods and Class Variables\n",
    "4. Designing Your Own Classes\n",
    "5. Exercises"
   ]
  },
  {
   "cell_type": "markdown",
   "metadata": {},
   "source": [
    "## 1. What is a Class?\n",
    "A class is a blueprint for creating objects (instances). It defines a set of attributes and methods that the objects created from the class will have.\n",
    "\n",
    "### Example"
   ]
  },
  {
   "cell_type": "code",
   "execution_count": null,
   "metadata": {},
   "outputs": [],
   "source": []
  },
  {
   "cell_type": "markdown",
   "metadata": {},
   "source": [
    "## 2. Methods and Instance Variables\n",
    "Methods are functions defined within a class that describe the behaviors of an object. Instance variables are attributes that are unique to each instance of a class.\n",
    "\n",
    "### Example"
   ]
  },
  {
   "cell_type": "code",
   "execution_count": null,
   "metadata": {},
   "outputs": [],
   "source": []
  },
  {
   "cell_type": "markdown",
   "metadata": {},
   "source": [
    "### Exercise 1: Methods and Instance Variables\n",
    "\n",
    "1. Define a class called `Product` with an `__init__` method that takes `name` and `price` as parameters.\n",
    "2. Define a method called `display_info` that prints the product name and price.\n",
    "3. Create an instance of the `Product` class and call the `display_info` method."
   ]
  },
  {
   "cell_type": "code",
   "execution_count": null,
   "metadata": {},
   "outputs": [],
   "source": []
  },
  {
   "cell_type": "markdown",
   "metadata": {},
   "source": [
    "## 3. Class Methods and Class Variables\n",
    "Class methods are methods that are bound to the class and not the instance. They can modify class state that applies across all instances of the class. Class variables are attributes that are shared among all instances of the class.\n",
    "\n",
    "### Example"
   ]
  },
  {
   "cell_type": "code",
   "execution_count": null,
   "metadata": {},
   "outputs": [],
   "source": []
  },
  {
   "cell_type": "markdown",
   "metadata": {},
   "source": [
    "### Exercise 2: Class Methods and Class Variables\n",
    "\n",
    "1. Define a class called `Store` with a class variable `store_count` initialized to 0.\n",
    "2. Define an `__init__` method that increments `store_count` by 1 each time a new instance is created.\n",
    "3. Define a class method called `display_count` that prints the total number of stores.\n",
    "4. Create two instances of the `Store` class and call the `display_count` method."
   ]
  },
  {
   "cell_type": "code",
   "execution_count": null,
   "metadata": {},
   "outputs": [],
   "source": []
  },
  {
   "cell_type": "markdown",
   "metadata": {},
   "source": [
    "## 4. Designing Your Own Classes\n",
    "In this section, you will design your own classes with methods, instance variables, class methods, and class variables.\n",
    "\n",
    "### Task: Define a `CRM` Class\n",
    "- Define a `CRM` class with methods to add, view, update, and delete customers.\n",
    "- Use class variables to keep track of the total number of customers."
   ]
  },
  {
   "cell_type": "code",
   "execution_count": null,
   "metadata": {},
   "outputs": [],
   "source": []
  },
  {
   "cell_type": "markdown",
   "metadata": {},
   "source": [
    "### Exercise 3: Designing Your Own Class\n",
    "\n",
    "1. Define a class called `Employee` with the following:\n",
    "    - An `__init__` method that takes `id`, `name`, and `position` as parameters.\n",
    "    - A method called `display_info` that prints the employee's information.\n",
    "    - A class variable called `employee_count` initialized to 0.\n",
    "    - A class method called `display_count` that prints the total number of employees.\n",
    "2. Create two instances of the `Employee` class and call the `display_info` and `display_count` methods."
   ]
  },
  {
   "cell_type": "code",
   "execution_count": null,
   "metadata": {},
   "outputs": [],
   "source": []
  }
 ],
 "metadata": {
  "kernelspec": {
   "display_name": "Python 3 (ipykernel)",
   "language": "python",
   "name": "python3"
  },
  "language_info": {
   "codemirror_mode": {
    "name": "ipython",
    "version": 3
   },
   "file_extension": ".py",
   "mimetype": "text/x-python",
   "name": "python",
   "nbconvert_exporter": "python",
   "pygments_lexer": "ipython3",
   "version": "3.11.5"
  }
 },
 "nbformat": 4,
 "nbformat_minor": 4
}
