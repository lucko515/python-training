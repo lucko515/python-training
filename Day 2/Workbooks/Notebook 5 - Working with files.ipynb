{
 "cells": [
  {
   "cell_type": "markdown",
   "metadata": {},
   "source": [
    "# File Handling in Python\n",
    "In this notebook, we will cover how to handle files in Python. This includes reading from and writing to files, handling different file modes, and working with standard input, output, and error streams.\n",
    "\n",
    "## Topics Covered\n",
    "1. Reading from Files\n",
    "2. Writing to Files\n",
    "3. File Modes\n",
    "4. Working with CSV Files\n",
    "5. Standard Input, Output, and Error Streams\n",
    "6. Exercises"
   ]
  },
  {
   "cell_type": "markdown",
   "metadata": {},
   "source": [
    "## 1. Reading from Files\n",
    "You can read from a file using the `open` function and the `read`, `readline`, or `readlines` methods.\n",
    "\n",
    "### Example"
   ]
  },
  {
   "cell_type": "code",
   "execution_count": null,
   "metadata": {},
   "outputs": [],
   "source": []
  },
  {
   "cell_type": "markdown",
   "metadata": {},
   "source": [
    "### Exercise 1: Reading from Files\n",
    "\n",
    "1. Create a text file called `team_members.txt` and add the names of your team members, each on a new line.\n",
    "2. Write a Python script to read the file and print each name with the prefix \"Team Member: \"."
   ]
  },
  {
   "cell_type": "code",
   "execution_count": null,
   "metadata": {},
   "outputs": [],
   "source": []
  },
  {
   "cell_type": "markdown",
   "metadata": {},
   "source": [
    "## 2. Writing to Files\n",
    "You can write to a file using the `open` function and the `write` or `writelines` methods.\n",
    "\n",
    "### Example"
   ]
  },
  {
   "cell_type": "code",
   "execution_count": null,
   "metadata": {},
   "outputs": [],
   "source": []
  },
  {
   "cell_type": "markdown",
   "metadata": {},
   "source": [
    "### Exercise 2: Writing to Files\n",
    "\n",
    "1. Create a list called `crm_features` with the values \"Leads\", \"Opportunities\", \"Contacts\", \"Accounts\".\n",
    "2. Write a Python script to write each feature to a file called `crm_features.txt`, each on a new line."
   ]
  },
  {
   "cell_type": "code",
   "execution_count": null,
   "metadata": {},
   "outputs": [],
   "source": []
  },
  {
   "cell_type": "markdown",
   "metadata": {},
   "source": [
    "## 3. File Modes\n",
    "When opening a file, you can specify the mode in which to open it. The most common modes are:\n",
    "- `'r'`: Read mode (default)\n",
    "- `'w'`: Write mode\n",
    "- `'a'`: Append mode\n",
    "- `'b'`: Binary mode\n",
    "- `'t'`: Text mode (default)\n",
    "\n",
    "### Example"
   ]
  },
  {
   "cell_type": "code",
   "execution_count": null,
   "metadata": {},
   "outputs": [],
   "source": []
  },
  {
   "cell_type": "markdown",
   "metadata": {},
   "source": [
    "### Exercise 3: File Modes\n",
    "\n",
    "1. Open the file `crm_features.txt` in append mode.\n",
    "2. Append the feature \"Reports\" to the file.\n",
    "3. Open the file in read mode and print its contents."
   ]
  },
  {
   "cell_type": "code",
   "execution_count": null,
   "metadata": {},
   "outputs": [],
   "source": []
  },
  {
   "cell_type": "markdown",
   "metadata": {},
   "source": [
    "## 4. Working with CSV Files\n",
    "CSV (Comma-Separated Values) files are commonly used for storing tabular data. Python's `csv` module provides functionality for reading from and writing to CSV files.\n",
    "\n",
    "### Example"
   ]
  },
  {
   "cell_type": "code",
   "execution_count": null,
   "metadata": {},
   "outputs": [],
   "source": []
  },
  {
   "cell_type": "markdown",
   "metadata": {},
   "source": [
    "### Exercise 4: Working with CSV Files\n",
    "\n",
    "1. Create a list of dictionaries called `sales_data` with the keys `region`, `sales`, and `growth`.\n",
    "2. Write a Python script to write the data to a CSV file called `sales_data.csv`.\n",
    "3. Write a Python script to read the `sales_data.csv` file and print each row."
   ]
  },
  {
   "cell_type": "code",
   "execution_count": null,
   "metadata": {},
   "outputs": [],
   "source": []
  },
  {
   "cell_type": "markdown",
   "metadata": {},
   "source": [
    "## 5. Standard Input, Output, and Error Streams\n",
    "Python provides access to standard input, output, and error streams through the `sys` module. This is useful for interacting with the user or handling errors.\n",
    "\n",
    "### Example"
   ]
  },
  {
   "cell_type": "code",
   "execution_count": null,
   "metadata": {},
   "outputs": [],
   "source": []
  },
  {
   "cell_type": "markdown",
   "metadata": {},
   "source": [
    "### Exercise 5: Standard Input, Output, and Error Streams\n",
    "\n",
    "1. Write a Python script to prompt the user to enter their name and role.\n",
    "2. Print a greeting message using the entered name and role.\n",
    "3. Print an error message to the standard error stream if the role is not provided."
   ]
  },
  {
   "cell_type": "code",
   "execution_count": null,
   "metadata": {},
   "outputs": [],
   "source": []
  }
 ],
 "metadata": {
  "kernelspec": {
   "display_name": "Python 3 (ipykernel)",
   "language": "python",
   "name": "python3"
  },
  "language_info": {
   "codemirror_mode": {
    "name": "ipython",
    "version": 3
   },
   "file_extension": ".py",
   "mimetype": "text/x-python",
   "name": "python",
   "nbconvert_exporter": "python",
   "pygments_lexer": "ipython3",
   "version": "3.11.5"
  }
 },
 "nbformat": 4,
 "nbformat_minor": 4
}
