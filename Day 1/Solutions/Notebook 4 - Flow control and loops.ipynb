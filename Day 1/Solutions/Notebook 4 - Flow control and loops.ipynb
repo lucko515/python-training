{
 "cells": [
  {
   "cell_type": "markdown",
   "metadata": {},
   "source": [
    "# Control Flow and Loops in Python\n",
    "In this notebook, we will cover control flow statements and loops in Python. Understanding control flow is essential for writing complex and efficient programs.\n",
    "\n",
    "## Topics Covered\n",
    "1. Conditional Statements (if, elif, else)\n",
    "2. Loops (for, while)\n",
    "3. Loop Control Statements (break, continue, pass)\n",
    "4. Nested Loops\n",
    "5. Practical Examples"
   ]
  },
  {
   "cell_type": "markdown",
   "metadata": {},
   "source": [
    "## 1. Conditional Statements\n",
    "Conditional statements allow you to execute certain blocks of code based on whether a condition is true or false.\n",
    "\n",
    "### 1.1. The `if` Statement\n",
    "The `if` statement executes a block of code if a specified condition is true."
   ]
  },
  {
   "cell_type": "code",
   "execution_count": null,
   "metadata": {},
   "outputs": [],
   "source": [
    "# Example of if statement\n",
    "sales = 5000\n",
    "if sales > 3000:\n",
    "    print(\"Great job! Sales are above target.\")"
   ]
  },
  {
   "cell_type": "markdown",
   "metadata": {},
   "source": [
    "### 1.2. The `else` Statement\n",
    "The `else` statement executes a block of code if the condition in the `if` statement is false."
   ]
  },
  {
   "cell_type": "code",
   "execution_count": null,
   "metadata": {},
   "outputs": [],
   "source": [
    "# Example of if-else statement\n",
    "sales = 2000\n",
    "if sales > 3000:\n",
    "    print(\"Great job! Sales are above target.\")\n",
    "else:\n",
    "    print(\"Sales are below target. Keep pushing!\")"
   ]
  },
  {
   "cell_type": "markdown",
   "metadata": {},
   "source": [
    "### 1.3. The `elif` Statement\n",
    "The `elif` statement allows you to check multiple conditions."
   ]
  },
  {
   "cell_type": "code",
   "execution_count": null,
   "metadata": {},
   "outputs": [],
   "source": [
    "# Example of if-elif-else statement\n",
    "sales = 3000\n",
    "if sales > 4000:\n",
    "    print(\"Excellent! Sales are well above target.\")\n",
    "elif sales > 3000:\n",
    "    print(\"Great job! Sales are above target.\")\n",
    "elif sales == 3000:\n",
    "    print(\"Good effort! Sales are exactly on target.\")\n",
    "else:\n",
    "    print(\"Sales are below target. Keep pushing!\")"
   ]
  },
  {
   "cell_type": "markdown",
   "metadata": {},
   "source": [
    "### Exercise 1: Conditional Statements\n",
    "\n",
    "1. Create a variable called `deal_value` and assign it a value.\n",
    "2. Write an `if-elif-else` statement to check the value of `deal_value` and print the appropriate message:\n",
    "    - If `deal_value` is greater than 100000, print \"This is a major deal!\"\n",
    "    - If `deal_value` is between 50000 and 100000 (inclusive), print \"This is a significant deal!\"\n",
    "    - If `deal_value` is less than 50000, print \"This is a small deal.\"\n"
   ]
  },
  {
   "cell_type": "code",
   "execution_count": null,
   "metadata": {},
   "outputs": [],
   "source": []
  },
  {
   "cell_type": "markdown",
   "metadata": {},
   "source": [
    "## 2. Loops\n",
    "Loops allow you to execute a block of code multiple times. Python supports two types of loops: `for` loops and `while` loops.\n",
    "\n",
    "### 2.1. The `for` Loop\n",
    "The `for` loop is used to iterate over a sequence (such as a list, tuple, dictionary, or string)."
   ]
  },
  {
   "cell_type": "code",
   "execution_count": null,
   "metadata": {},
   "outputs": [],
   "source": [
    "# Example of for loop\n",
    "crm_features = [\"Leads\", \"Opportunities\", \"Contacts\", \"Accounts\"]\n",
    "for feature in crm_features:\n",
    "    print(f\"Feature: {feature}\")"
   ]
  },
  {
   "cell_type": "markdown",
   "metadata": {},
   "source": [
    "### 2.2. The `while` Loop\n",
    "The `while` loop executes a block of code as long as a specified condition is true."
   ]
  },
  {
   "cell_type": "code",
   "execution_count": null,
   "metadata": {},
   "outputs": [],
   "source": [
    "# Example of while loop\n",
    "sales_target = 5000\n",
    "current_sales = 0\n",
    "increment = 1000\n",
    "\n",
    "while current_sales < sales_target:\n",
    "    current_sales += increment\n",
    "    print(f\"Current sales: {current_sales}\")"
   ]
  },
  {
   "cell_type": "markdown",
   "metadata": {},
   "source": [
    "### Exercise 2: Loops\n",
    "\n",
    "1. Create a list called `team_members` with the names of your team members.\n",
    "2. Use a `for` loop to print each team member's name.\n",
    "3. Create a variable `sales_target` with a value of 10000 and a variable `current_sales` with a value of 0. Use a `while` loop to increment `current_sales` by 2000 each time until it reaches or exceeds `sales_target`. Print `current_sales` each time it is incremented.\n"
   ]
  },
  {
   "cell_type": "code",
   "execution_count": null,
   "metadata": {},
   "outputs": [],
   "source": []
  },
  {
   "cell_type": "markdown",
   "metadata": {},
   "source": [
    "## 3. Loop Control Statements\n",
    "Loop control statements change the execution flow of loops. Python supports three loop control statements: `break`, `continue`, and `pass`.\n",
    "\n",
    "### 3.1. The `break` Statement\n",
    "The `break` statement is used to exit the loop prematurely when a certain condition is met."
   ]
  },
  {
   "cell_type": "code",
   "execution_count": null,
   "metadata": {},
   "outputs": [],
   "source": [
    "# Example of break statement\n",
    "crm_features = [\"Leads\", \"Opportunities\", \"Contacts\", \"Accounts\"]\n",
    "for feature in crm_features:\n",
    "    if feature == \"Contacts\":\n",
    "        print(f\"Found the feature: {feature}\")\n",
    "        break\n",
    "    print(f\"Checking feature: {feature}\")"
   ]
  },
  {
   "cell_type": "markdown",
   "metadata": {},
   "source": [
    "### 3.2. The `continue` Statement\n",
    "The `continue` statement is used to skip the current iteration of the loop and proceed to the next iteration."
   ]
  },
  {
   "cell_type": "code",
   "execution_count": null,
   "metadata": {},
   "outputs": [],
   "source": [
    "# Example of continue statement\n",
    "crm_features = [\"Leads\", \"Opportunities\", \"Contacts\", \"Accounts\"]\n",
    "for feature in crm_features:\n",
    "    if feature == \"Opportunities\":\n",
    "        print(f\"Skipping feature: {feature}\")\n",
    "        continue\n",
    "    print(f\"Processing feature: {feature}\")"
   ]
  },
  {
   "cell_type": "markdown",
   "metadata": {},
   "source": [
    "### 3.3. The `pass` Statement\n",
    "The `pass` statement is a null operation; it does nothing when executed. It is used as a placeholder for future code."
   ]
  },
  {
   "cell_type": "code",
   "execution_count": null,
   "metadata": {},
   "outputs": [],
   "source": [
    "# Example of pass statement\n",
    "crm_features = [\"Leads\", \"Opportunities\", \"Contacts\", \"Accounts\"]\n",
    "for feature in crm_features:\n",
    "    if feature == \"Opportunities\":\n",
    "        pass  # Placeholder for future code\n",
    "    else:\n",
    "        print(f\"Processing feature: {feature}\")"
   ]
  },
  {
   "cell_type": "markdown",
   "metadata": {},
   "source": [
    "### Exercise 3: Loop Control Statements\n",
    "\n",
    "1. Create a list called `deal_stages` with the values \"Prospecting\", \"Qualification\", \"Proposal\", \"Negotiation\", \"Closed Won\", \"Closed Lost\".\n",
    "2. Use a `for` loop to iterate over the `deal_stages` list and print each stage.\n",
    "3. If you encounter the stage \"Negotiation\", print \"Critical stage reached!\" and exit the loop.\n",
    "4. If you encounter the stage \"Proposal\", skip the iteration and continue to the next stage.\n",
    "5. Use the `pass` statement as a placeholder for future code in the loop.\n"
   ]
  },
  {
   "cell_type": "code",
   "execution_count": null,
   "metadata": {},
   "outputs": [],
   "source": []
  },
  {
   "cell_type": "markdown",
   "metadata": {},
   "source": [
    "## 4. Nested Loops\n",
    "A nested loop is a loop inside another loop. The inner loop is executed for each iteration of the outer loop."
   ]
  },
  {
   "cell_type": "code",
   "execution_count": null,
   "metadata": {},
   "outputs": [],
   "source": [
    "# Example of nested loops\n",
    "teams = [\"Team A\", \"Team B\", \"Team C\"]\n",
    "members = [\"Alice\", \"Bob\", \"Charlie\"]\n",
    "\n",
    "for team in teams:\n",
    "    for member in members:\n",
    "        print(f\"Team: {team}, Member: {member}\")"
   ]
  },
  {
   "cell_type": "markdown",
   "metadata": {},
   "source": [
    "### Exercise 4: Nested Loops\n",
    "\n",
    "1. Create a list called `teams` with the values \"Sales Team\", \"Marketing Team\", \"Support Team\".\n",
    "2. Create a list called `members` with the names of your team members.\n",
    "3. Use nested loops to print each team and its members in the format \"Team: [team name], Member: [member name]\".\n"
   ]
  },
  {
   "cell_type": "code",
   "execution_count": null,
   "metadata": {},
   "outputs": [],
   "source": []
  },
  {
   "cell_type": "markdown",
   "metadata": {},
   "source": [
    "## 5. Practical Examples\n",
    "Let's apply the concepts of control flow and loops to solve some real-world problems.\n",
    "\n",
    "### Example 1: Processing Sales Data\n",
    "Imagine you have a list of dictionaries representing sales data. Each dictionary contains the name of the salesperson and their total sales. Use control flow and loops to process this data."
   ]
  },
  {
   "cell_type": "code",
   "execution_count": null,
   "metadata": {},
   "outputs": [],
   "source": [
    "# List of dictionaries representing sales data\n",
    "sales_data = [\n",
    "    {\"salesperson\": \"Alice\", \"sales\": 5000},\n",
    "    {\"salesperson\": \"Bob\", \"sales\": 7000},\n",
    "    {\"salesperson\": \"Charlie\", \"sales\": 3000}\n",
    "]\n",
    "\n",
    "# Calculate total sales and identify top salesperson\n",
    "total_sales = 0\n",
    "top_salesperson = \"\"\n",
    "top_sales = 0\n",
    "\n",
    "for data in sales_data:\n",
    "    total_sales += data[\"sales\"]\n",
    "    if data[\"sales\"] > top_sales:\n",
    "        top_sales = data[\"sales\"]\n",
    "        top_salesperson = data[\"salesperson\"]\n",
    "\n",
    "print(f\"Total Sales: ${total_sales}\")\n",
    "print(f\"Top Salesperson: {top_salesperson} with ${top_sales} in sales\")"
   ]
  }
 ],
 "metadata": {
  "kernelspec": {
   "display_name": "Python 3 (ipykernel)",
   "language": "python",
   "name": "python3"
  },
  "language_info": {
   "codemirror_mode": {
    "name": "ipython",
    "version": 3
   },
   "file_extension": ".py",
   "mimetype": "text/x-python",
   "name": "python",
   "nbconvert_exporter": "python",
   "pygments_lexer": "ipython3",
   "version": "3.11.5"
  }
 },
 "nbformat": 4,
 "nbformat_minor": 4
}
