{
 "cells": [
  {
   "cell_type": "markdown",
   "metadata": {},
   "source": [
    "# String Manipulation in Python\n",
    "In this notebook, we will cover various string manipulation techniques in Python. Strings are a crucial part of any programming language, and mastering string manipulation can help you handle text data effectively.\n",
    "\n",
    "## Topics Covered\n",
    "1. String Basics\n",
    "2. String Indexing and Slicing\n",
    "3. String Methods\n",
    "4. String Formatting\n",
    "5. String Operations\n",
    "6. Practical Examples"
   ]
  },
  {
   "cell_type": "markdown",
   "metadata": {},
   "source": [
    "## 1. String Basics\n",
    "Strings in Python are sequences of characters enclosed within single quotes (`'`) or double quotes (`\"`). You can also use triple quotes (`'''` or `\"\"\") for multi-line strings."
   ]
  },
  {
   "cell_type": "code",
   "execution_count": null,
   "metadata": {},
   "outputs": [],
   "source": []
  },
  {
   "cell_type": "markdown",
   "metadata": {},
   "source": [
    "## 2. String Indexing and Slicing\n",
    "You can access individual characters in a string using indexing, and you can extract a substring using slicing."
   ]
  },
  {
   "cell_type": "code",
   "execution_count": null,
   "metadata": {},
   "outputs": [],
   "source": []
  },
  {
   "cell_type": "markdown",
   "metadata": {},
   "source": [
    "### Exercise 1: Indexing and Slicing\n",
    "\n",
    "1. Create a string variable called `customer_greeting` with the value \"Hello, valued customer! Welcome to Salesforce.\"\n",
    "2. Extract and print the first character of the string.\n",
    "3. Extract and print the last character of the string.\n",
    "4. Extract and print the substring \"valued customer\" from the string.\n",
    "5. Extract and print the substring \"Salesforce\" from the string.\n"
   ]
  },
  {
   "cell_type": "code",
   "execution_count": null,
   "metadata": {},
   "outputs": [],
   "source": []
  },
  {
   "cell_type": "markdown",
   "metadata": {},
   "source": [
    "## 3. String Methods\n",
    "Python provides several built-in methods for string manipulation. Here are some of the most commonly used string methods:\n",
    "\n",
    "- `upper()`: Converts all characters in a string to uppercase.\n",
    "- `lower()`: Converts all characters in a string to lowercase.\n",
    "- `strip()`: Removes leading and trailing whitespace from a string.\n",
    "- `replace(old, new)`: Replaces occurrences of a substring with another substring.\n",
    "- `split(delimiter)`: Splits a string into a list of substrings based on a delimiter.\n",
    "- `join(iterable)`: Joins elements of an iterable (e.g., list) into a single string using a delimiter."
   ]
  },
  {
   "cell_type": "code",
   "execution_count": null,
   "metadata": {},
   "outputs": [],
   "source": []
  },
  {
   "cell_type": "markdown",
   "metadata": {},
   "source": [
    "### Exercise 2: String Methods\n",
    "\n",
    "1. Create a string variable called `department` with the value \"  Customer Success  \".\n",
    "2. Convert the string to uppercase and print the result.\n",
    "3. Convert the string to lowercase and print the result.\n",
    "4. Remove the leading and trailing whitespace from the string and print the result.\n",
    "5. Replace the substring \"Customer\" with \"Client\" and print the result.\n",
    "6. Split the string into a list of words and print the result.\n",
    "7. Join the list of words back into a single string, separated by underscores, and print the result.\n"
   ]
  },
  {
   "cell_type": "code",
   "execution_count": null,
   "metadata": {},
   "outputs": [],
   "source": []
  },
  {
   "cell_type": "markdown",
   "metadata": {},
   "source": [
    "## 4. String Formatting\n",
    "String formatting allows you to create formatted strings by embedding values within placeholders. There are several ways to format strings in Python:\n",
    "\n",
    "### 4.1. Using the `format()` Method\n",
    "The `format()` method allows you to insert values into placeholders `{}` within a string."
   ]
  },
  {
   "cell_type": "code",
   "execution_count": null,
   "metadata": {},
   "outputs": [],
   "source": []
  },
  {
   "cell_type": "markdown",
   "metadata": {},
   "source": [
    "### 4.2. Using f-Strings (Formatted String Literals)\n",
    "f-Strings provide a concise and readable way to embed expressions within string literals using curly braces `{}` and a leading `f` or `F`."
   ]
  },
  {
   "cell_type": "code",
   "execution_count": null,
   "metadata": {},
   "outputs": [],
   "source": []
  },
  {
   "cell_type": "markdown",
   "metadata": {},
   "source": [
    "### Exercise 3: String Formatting\n",
    "\n",
    "1. Create variables `lead_name` with the value \"Jane\", `company_name` with the value \"ABC Corp\", and `deal_value` with the value 50000.\n",
    "2. Use the `format()` method to create a string that says \"Lead: Jane from ABC Corp has a deal value of $50000.\"\n",
    "3. Use an f-String to create the same string as above.\n",
    "4. Print both formatted strings.\n"
   ]
  },
  {
   "cell_type": "code",
   "execution_count": null,
   "metadata": {},
   "outputs": [],
   "source": []
  },
  {
   "cell_type": "markdown",
   "metadata": {},
   "source": [
    "## 5. String Operations\n",
    "Python supports various operations that can be performed on strings, including concatenation, repetition, and membership testing.\n",
    "\n",
    "### 5.1. Concatenation\n",
    "You can concatenate (join) two or more strings using the `+` operator."
   ]
  },
  {
   "cell_type": "code",
   "execution_count": null,
   "metadata": {},
   "outputs": [],
   "source": []
  },
  {
   "cell_type": "markdown",
   "metadata": {},
   "source": [
    "### 5.2. Repetition\n",
    "You can repeat a string multiple times using the `*` operator."
   ]
  },
  {
   "cell_type": "code",
   "execution_count": null,
   "metadata": {},
   "outputs": [],
   "source": []
  },
  {
   "cell_type": "markdown",
   "metadata": {},
   "source": [
    "### 5.3. Membership Testing\n",
    "You can check if a substring exists within a string using the `in` keyword."
   ]
  },
  {
   "cell_type": "code",
   "execution_count": null,
   "metadata": {},
   "outputs": [],
   "source": []
  },
  {
   "cell_type": "markdown",
   "metadata": {},
   "source": [
    "### Exercise 4: String Operations\n",
    "\n",
    "1. Create two string variables: `first_name` with the value \"John\" and `last_name` with the value \"Doe\".\n",
    "2. Concatenate the two strings with a space in between to create a full name and print the result.\n",
    "3. Repeat the string \"Success! \" five times and print the result.\n",
    "4. Check if the substring \"John\" is present in the full name and print the result.\n"
   ]
  },
  {
   "cell_type": "code",
   "execution_count": null,
   "metadata": {},
   "outputs": [],
   "source": []
  }
 ],
 "metadata": {
  "kernelspec": {
   "display_name": "Python 3 (ipykernel)",
   "language": "python",
   "name": "python3"
  },
  "language_info": {
   "codemirror_mode": {
    "name": "ipython",
    "version": 3
   },
   "file_extension": ".py",
   "mimetype": "text/x-python",
   "name": "python",
   "nbconvert_exporter": "python",
   "pygments_lexer": "ipython3",
   "version": "3.11.5"
  }
 },
 "nbformat": 4,
 "nbformat_minor": 4
}
