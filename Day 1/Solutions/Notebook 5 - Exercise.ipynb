{
 "cells": [
  {
   "cell_type": "markdown",
   "metadata": {},
   "source": [
    "## Final Exercise Day 1: Putting It All Together\n",
    "Now that we have covered the basics of Python programming and essential data structures, let's put everything into practice with a final exercise.\n",
    "\n",
    "### Scenario\n",
    "You are working on a CRM system and need to manage and process customer data. You have a list of dictionaries, where each dictionary contains details about a customer. Your task is to perform various operations to manipulate and retrieve customer data using the concepts you have learned.\n",
    "\n",
    "### Instructions\n",
    "1. Create a list of dictionaries called `customers`, where each dictionary contains the keys \"name\", \"title\", and \"email\" with appropriate values.\n",
    "2. Use a `for` loop to print the names and titles of all customers.\n",
    "3. Add a new customer to the `customers` list.\n",
    "4. Update the email address of a specific customer.\n",
    "5. Remove a customer from the list.\n",
    "6. Use an `if-elif-else` statement to categorize the customers based on their titles and print the appropriate message:\n",
    "    - If the title is \"Account Executive\", print \"Handles client accounts.\"\n",
    "    - If the title is \"Sales Manager\", print \"Manages the sales team.\"\n",
    "    - If the title is \"Customer Success Manager\", print \"Ensures customer satisfaction.\"\n",
    "    - Otherwise, print \"Title not recognized.\"\n",
    "7. Use a `while` loop to keep adding dummy sales data to a customer until their sales reach a certain target. Print the updated sales after each addition.\n"
   ]
  },
  {
   "cell_type": "code",
   "execution_count": null,
   "metadata": {},
   "outputs": [],
   "source": [
    "# Final Exercise: Putting It All Together\n",
    "\n",
    "# Step 1: Create a list of dictionaries called customers\n",
    "customers = [\n",
    "    {\"name\": \"Alice\", \"title\": \"Account Executive\", \"email\": \"alice@salesforce.com\"},\n",
    "    {\"name\": \"Bob\", \"title\": \"Sales Manager\", \"email\": \"bob@salesforce.com\"},\n",
    "    {\"name\": \"Charlie\", \"title\": \"Customer Success Manager\", \"email\": \"charlie@salesforce.com\"}\n",
    "]\n",
    "\n",
    "# Step 2: Use a for loop to print the names and titles of all customers\n",
    "for customer in customers:\n",
    "    name = customer[\"name\"]\n",
    "    title = customer[\"title\"]\n",
    "    print(f\"Name: {name}, Title: {title}\")\n",
    "\n",
    "# Step 3: Add a new customer to the customers list\n",
    "new_customer = {\"name\": \"David\", \"title\": \"Solution Engineer\", \"email\": \"david@salesforce.com\"}\n",
    "customers.append(new_customer)\n",
    "print(\"Updated customer list:\", customers)\n",
    "\n",
    "# Step 4: Update the email address of a specific customer\n",
    "customers[0][\"email\"] = \"alice.new@salesforce.com\"\n",
    "print(\"Updated customer email:\", customers[0])\n",
    "\n",
    "# Step 5: Remove a customer from the list\n",
    "customers.pop(1)\n",
    "print(\"Customer list after removal:\", customers)\n",
    "\n",
    "# Step 6: Use an if-elif-else statement to categorize the customers based on their titles\n",
    "for customer in customers:\n",
    "    title = customer[\"title\"]\n",
    "    if title == \"Account Executive\":\n",
    "        print(\"Handles client accounts.\")\n",
    "    elif title == \"Sales Manager\":\n",
    "        print(\"Manages the sales team.\")\n",
    "    elif title == \"Customer Success Manager\":\n",
    "        print(\"Ensures customer satisfaction.\")\n",
    "    else:\n",
    "        print(\"Title not recognized.\")\n",
    "\n",
    "# Step 7: Use a while loop to keep adding dummy sales data to a customer until their sales reach a certain target\n",
    "sales_target = 10000\n",
    "current_sales = 0\n",
    "increment = 2000\n",
    "\n",
    "while current_sales < sales_target:\n",
    "    current_sales += increment\n",
    "    print(f\"Current sales: {current_sales}\")"
   ]
  }
 ],
 "metadata": {
  "kernelspec": {
   "display_name": "Python 3 (ipykernel)",
   "language": "python",
   "name": "python3"
  },
  "language_info": {
   "codemirror_mode": {
    "name": "ipython",
    "version": 3
   },
   "file_extension": ".py",
   "mimetype": "text/x-python",
   "name": "python",
   "nbconvert_exporter": "python",
   "pygments_lexer": "ipython3",
   "version": "3.11.5"
  }
 },
 "nbformat": 4,
 "nbformat_minor": 4
}
