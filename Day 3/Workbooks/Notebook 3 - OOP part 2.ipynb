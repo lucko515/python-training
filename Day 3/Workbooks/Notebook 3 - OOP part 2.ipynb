{
 "cells": [
  {
   "cell_type": "markdown",
   "metadata": {},
   "source": [
    "# Advanced Object-Oriented Programming in Python\n",
    "In this notebook, we will cover more advanced Object-Oriented Programming (OOP) concepts in Python. This includes inheritance, polymorphism, encapsulation, and designing complex classes.\n",
    "\n",
    "## Topics Covered\n",
    "1. Inheritance\n",
    "2. Polymorphism\n",
    "3. Encapsulation\n",
    "4. Designing Complex Classes\n",
    "5. Exercises"
   ]
  },
  {
   "cell_type": "markdown",
   "metadata": {},
   "source": [
    "## 1. Inheritance\n",
    "Inheritance allows a class to inherit attributes and methods from another class. The class being inherited from is called the parent class, and the class that inherits is called the child class.\n",
    "\n",
    "### Example"
   ]
  },
  {
   "cell_type": "code",
   "execution_count": null,
   "metadata": {},
   "outputs": [],
   "source": []
  },
  {
   "cell_type": "markdown",
   "metadata": {},
   "source": [
    "### Exercise 1: Inheritance\n",
    "\n",
    "1. Define a class called `Vehicle` with the following:\n",
    "    - An `__init__` method that takes `make` and `model` as parameters.\n",
    "    - A method called `display_info` that prints the vehicle's make and model.\n",
    "2. Define a class called `Car` that inherits from `Vehicle` with the following:\n",
    "    - An `__init__` method that takes `make`, `model`, and `year` as parameters.\n",
    "    - Override the `display_info` method to also print the car's year.\n",
    "3. Create an instance of the `Car` class and call the `display_info` method."
   ]
  },
  {
   "cell_type": "code",
   "execution_count": null,
   "metadata": {},
   "outputs": [],
   "source": []
  },
  {
   "cell_type": "markdown",
   "metadata": {},
   "source": [
    "## 2. Polymorphism\n",
    "Polymorphism allows methods to be used interchangeably between different classes. It enables methods to be defined in a way that allows them to be used in different contexts.\n",
    "\n",
    "### Example"
   ]
  },
  {
   "cell_type": "code",
   "execution_count": null,
   "metadata": {},
   "outputs": [],
   "source": []
  },
  {
   "cell_type": "markdown",
   "metadata": {},
   "source": [
    "### Exercise 2: Polymorphism\n",
    "\n",
    "1. Define a class called `Bird` with a method `speak` that returns \"Tweet!\".\n",
    "2. Create instances of `Dog`, `Cat`, and `Bird`.\n",
    "3. Define a function called `animal_sounds` that takes a list of animals and calls the `speak` method on each.\n",
    "4. Call the `animal_sounds` function with a list containing the instances of `Dog`, `Cat`, and `Bird`."
   ]
  },
  {
   "cell_type": "code",
   "execution_count": null,
   "metadata": {},
   "outputs": [],
   "source": []
  },
  {
   "cell_type": "markdown",
   "metadata": {},
   "source": [
    "## 3. Encapsulation\n",
    "Encapsulation is the practice of hiding the internal state and behavior of an object and only exposing a public interface. In Python, you can use single or double underscores to indicate protected and private members, respectively.\n",
    "\n",
    "### Example"
   ]
  },
  {
   "cell_type": "code",
   "execution_count": null,
   "metadata": {},
   "outputs": [],
   "source": []
  },
  {
   "cell_type": "markdown",
   "metadata": {},
   "source": [
    "### Exercise 3: Encapsulation\n",
    "\n",
    "1. Define a class called `Student` with a private attribute `__grade`.\n",
    "2. Define methods to set and get the grade, ensuring the grade is within a valid range (0-100).\n",
    "3. Create an instance of the `Student` class and use the methods to set and get the grade."
   ]
  },
  {
   "cell_type": "code",
   "execution_count": null,
   "metadata": {},
   "outputs": [],
   "source": []
  },
  {
   "cell_type": "markdown",
   "metadata": {},
   "source": [
    "## 4. Designing Complex Classes\n",
    "In this section, you will design more complex classes that incorporate inheritance, polymorphism, and encapsulation.\n",
    "\n",
    "### Task: Define a `CRM` System with Employee and Customer Classes\n",
    "- Define an `Employee` class that inherits from `Person`.\n",
    "- Define a `Customer` class that inherits from `Person`.\n",
    "- Implement methods to add, view, update, and delete both employees and customers.\n",
    "- Use encapsulation to protect sensitive information."
   ]
  },
  {
   "cell_type": "code",
   "execution_count": null,
   "metadata": {},
   "outputs": [],
   "source": []
  }
 ],
 "metadata": {
  "kernelspec": {
   "display_name": "Python 3 (ipykernel)",
   "language": "python",
   "name": "python3"
  },
  "language_info": {
   "codemirror_mode": {
    "name": "ipython",
    "version": 3
   },
   "file_extension": ".py",
   "mimetype": "text/x-python",
   "name": "python",
   "nbconvert_exporter": "python",
   "pygments_lexer": "ipython3",
   "version": "3.11.5"
  }
 },
 "nbformat": 4,
 "nbformat_minor": 4
}
