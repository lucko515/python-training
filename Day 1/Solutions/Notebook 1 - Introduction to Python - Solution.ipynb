{
 "cells": [
  {
   "cell_type": "markdown",
   "id": "31a9379e",
   "metadata": {},
   "source": [
    "## Day 1 Goals:\n",
    "\n",
    "\n",
    "- Learn how to setup your Python environment (local and online)\n",
    "- Learn basics of Python syntax (print, comment, variables, strings, arithatics, etc.)\n",
    "- How to read errors and debug your code\n",
    "- Control flow\n",
    "- Loops\n",
    "\n",
    "\n",
    "### Printing with Python"
   ]
  },
  {
   "cell_type": "code",
   "execution_count": null,
   "id": "bcf7cce8",
   "metadata": {},
   "outputs": [],
   "source": [
    "print()"
   ]
  },
  {
   "cell_type": "markdown",
   "id": "288d15f2",
   "metadata": {},
   "source": [
    "### Storing values in memory using Python variables"
   ]
  },
  {
   "cell_type": "code",
   "execution_count": 1,
   "id": "21a8a755",
   "metadata": {},
   "outputs": [],
   "source": [
    "name = \"Mark\""
   ]
  },
  {
   "cell_type": "markdown",
   "id": "3f8e262b",
   "metadata": {},
   "source": [
    "### Connecting two strings together"
   ]
  },
  {
   "cell_type": "code",
   "execution_count": 2,
   "id": "69d0beac",
   "metadata": {},
   "outputs": [
    {
     "name": "stdout",
     "output_type": "stream",
     "text": [
      "Hello Mark\n"
     ]
    }
   ],
   "source": [
    "print(\"Hello \" + name)"
   ]
  },
  {
   "cell_type": "markdown",
   "id": "7dd46a33",
   "metadata": {},
   "source": [
    "### What is a Variable?\n",
    "A variable in Python is a reserved memory location to store values. In other words, a variable in a program gives data to the computer for processing.\n",
    "\n",
    "### Naming Variables\n",
    "There are a few rules to follow when naming variables in Python:\n",
    "1. Variable names must start with a letter or an underscore.\n",
    "2. The rest of the name can contain letters, numbers, or underscores.\n",
    "3. Variable names are case-sensitive (e.g., `myVar` and `myvar` are different).\n",
    "4. Avoid using Python keywords or built-in function names as variable names.\n",
    "\n",
    "#### Examples:\n",
    "```python\n",
    "my_var = 10\n",
    "_my_var = 20\n",
    "myVar1 = 30\n",
    "\n",
    "# Invalid variable names\n",
    "1my_var = 40  # Cannot start with a number\n",
    "my-var = 50  # Hyphens are not allowed\n",
    "for = 60  # 'for' is a Python keyword\n",
    "```"
   ]
  },
  {
   "cell_type": "code",
   "execution_count": 4,
   "id": "f945a41c",
   "metadata": {},
   "outputs": [
    {
     "name": "stdout",
     "output_type": "stream",
     "text": [
      "10\n",
      "Luka\n",
      "Some St Name\n"
     ]
    }
   ],
   "source": [
    "age = 10\n",
    "name = \"Luka\"\n",
    "address = \"Some St Name\"\n",
    "\n",
    "print(age)\n",
    "print(name)\n",
    "print(address)"
   ]
  },
  {
   "cell_type": "markdown",
   "id": "3ba813ef",
   "metadata": {},
   "source": [
    "### Taking inputs from users"
   ]
  },
  {
   "cell_type": "code",
   "execution_count": 5,
   "id": "2704807e",
   "metadata": {},
   "outputs": [
    {
     "name": "stdout",
     "output_type": "stream",
     "text": [
      "Input something nice!something nice\n"
     ]
    },
    {
     "data": {
      "text/plain": [
       "'something nice'"
      ]
     },
     "execution_count": 5,
     "metadata": {},
     "output_type": "execute_result"
    }
   ],
   "source": [
    "input(\"Input something nice!\")"
   ]
  },
  {
   "cell_type": "code",
   "execution_count": 6,
   "id": "1f4f3504",
   "metadata": {},
   "outputs": [
    {
     "name": "stdout",
     "output_type": "stream",
     "text": [
      "Age: 10\n"
     ]
    }
   ],
   "source": [
    "result = input(\"Age: \")"
   ]
  },
  {
   "cell_type": "markdown",
   "id": "63b5dd4f",
   "metadata": {},
   "source": [
    "### Exercise 1:\n",
    "\n",
    "- Write a simple program that will take 3 inputs from users: Age, Name and Address\n",
    "- Display it back to user in the exact format:\n",
    "<strong>\"Hi! NAME, age AGE, is currently living at ADDRESS\"<strong>"
   ]
  },
  {
   "cell_type": "code",
   "execution_count": 8,
   "id": "b5d5bf88",
   "metadata": {},
   "outputs": [
    {
     "name": "stdout",
     "output_type": "stream",
     "text": [
      "Age: 21\n",
      "Name: Mark\n",
      "Address: St 81\n",
      "Hi! Mark, age 21, is currently living at St 81\n"
     ]
    }
   ],
   "source": [
    "age = input(\"Age: \")\n",
    "name = input(\"Name: \")\n",
    "address = input(\"Address: \")\n",
    "\n",
    "print(\"Hi! \" + name + \", age \" + age + \", is currently living at \" + address)"
   ]
  },
  {
   "cell_type": "markdown",
   "id": "2af303a4",
   "metadata": {},
   "source": [
    "## Variables\n",
    "\n",
    "\n",
    "### Data Types\n",
    "Variables can store data of different types, and different types can do different things.\n",
    "\n",
    "### Common Data Types in Python:\n",
    "- `int`: Integer numbers\n",
    "- `float`: Floating point numbers\n",
    "- `str`: String of characters\n",
    "- `bool`: Boolean values (`True` or `False`)\n",
    "\n",
    "### Examples:\n",
    "```python\n",
    "my_int = 10\n",
    "my_float = 10.5\n",
    "my_str = \"Hello, Python!\"\n",
    "my_bool = True\n",
    "```"
   ]
  },
  {
   "cell_type": "code",
   "execution_count": 9,
   "id": "2b422a86",
   "metadata": {},
   "outputs": [],
   "source": [
    "my_int = 10\n",
    "my_float = 10.5\n",
    "my_str = \"Hello, Python!\"\n",
    "my_bool = True"
   ]
  },
  {
   "cell_type": "markdown",
   "id": "b6687dfb",
   "metadata": {},
   "source": [
    "### TYPE! \\o/ Another Python's built-in function\n",
    "\n",
    "#### Understanding type() and Casting in Python\n",
    "\n",
    "\n",
    "In Python, the type() function is a built-in function that returns the type of an object. \n",
    "It's useful for understanding what kind of data you're working with, especially when debugging or exploring unfamiliar code.\n",
    "\n",
    "\n",
    "#### Example:\n",
    "```python\n",
    "type(object)\n",
    "\n",
    "\n",
    "# Check the type of an integer\n",
    "num = 10\n",
    "print(type(num))  # Output: <class 'int'>\n",
    "\n",
    "# Check the type of a floating-point number\n",
    "pi = 3.14\n",
    "print(type(pi))  # Output: <class 'float'>\n",
    "\n",
    "# Check the type of a string\n",
    "greeting = \"Hello, World!\"\n",
    "print(type(greeting))  # Output: <class 'str'>\n",
    "\n",
    "```"
   ]
  },
  {
   "cell_type": "code",
   "execution_count": 10,
   "id": "f3e838f2",
   "metadata": {},
   "outputs": [
    {
     "name": "stdout",
     "output_type": "stream",
     "text": [
      "<class 'int'>\n"
     ]
    }
   ],
   "source": [
    "num1 = 23\n",
    "print(type(num1))"
   ]
  },
  {
   "cell_type": "code",
   "execution_count": 11,
   "id": "e0cf59d8",
   "metadata": {},
   "outputs": [
    {
     "name": "stdout",
     "output_type": "stream",
     "text": [
      "<class 'str'>\n"
     ]
    }
   ],
   "source": [
    "print(type(age))"
   ]
  },
  {
   "cell_type": "markdown",
   "id": "05bfd3f9",
   "metadata": {},
   "source": [
    "### Arithmetic Operations in Python\n",
    "Python supports various arithmetic operations that are used to perform mathematical calculations. The basic arithmetic operators are:\n",
    "\n",
    "- `+` : Addition\n",
    "- `-` : Subtraction\n",
    "- `*` : Multiplication\n",
    "- `/` : Division\n",
    "- `//` : Floor Division\n",
    "- `%` : Modulus\n",
    "- `**` : Exponentiation\n",
    "\n",
    "Let's explore these operators with some examples."
   ]
  },
  {
   "cell_type": "code",
   "execution_count": 12,
   "id": "affe042a",
   "metadata": {},
   "outputs": [
    {
     "name": "stdout",
     "output_type": "stream",
     "text": [
      "Total Sales for first half: 25000\n"
     ]
    }
   ],
   "source": [
    "# Addition\n",
    "sales_q1 = 10000\n",
    "sales_q2 = 15000\n",
    "total_sales = sales_q1 + sales_q2\n",
    "print(\"Total Sales for first half:\", total_sales)"
   ]
  },
  {
   "cell_type": "markdown",
   "id": "553e9684",
   "metadata": {},
   "source": [
    "### Exercise 2: BMI Calculator\n",
    "\n",
    "Create your simple BMI calculator that follows the formula:\n",
    "\n",
    "![](https://www.registerednursern.com/wp-content/uploads/2023/03/bmi-formula-calculation.png)"
   ]
  },
  {
   "cell_type": "code",
   "execution_count": 18,
   "id": "02c7e78c",
   "metadata": {},
   "outputs": [
    {
     "name": "stdout",
     "output_type": "stream",
     "text": [
      "27.613412228796847\n"
     ]
    }
   ],
   "source": [
    "weight = 105\n",
    "height = 1.95\n",
    "bmi = weight / height ** 2\n",
    "print(bmi)"
   ]
  },
  {
   "cell_type": "markdown",
   "id": "2f23748a",
   "metadata": {},
   "source": [
    "### Exercise 3: Sales calculator\n",
    "\n",
    "Unit price is 500$ and we sold 343 units in the past year. Your task is to calculate:\n",
    "- Total Revenue (total_revenue)\n",
    "- Average sales per week\n",
    "- Average sales per day\n",
    "- If a profit margin for this product is 22%, how much did we actually earn in the last year?\n",
    "- Show all results using <strong>print</strong> and nice formatting"
   ]
  },
  {
   "cell_type": "code",
   "execution_count": 13,
   "id": "df7518f4",
   "metadata": {},
   "outputs": [],
   "source": [
    "unit_price = 500\n",
    "units_sold = 343\n",
    "\n",
    "total_revenue = unit_price * units_sold\n",
    "avg_rev_week = total_revenue / 52\n",
    "avg_rev_day = total_revenue / 365\n",
    "profit = total_revenue * 0.22"
   ]
  },
  {
   "cell_type": "markdown",
   "id": "cd5dd04b",
   "metadata": {},
   "source": [
    "### Comparison and Logical Operations in Python\n",
    "\n",
    "\n",
    "Comparison operations are used to compare two values. The result of a comparison operation is a boolean value (`True` or `False`).\n",
    "\n",
    "**Comparison Operators:**\n",
    "- `>` : Greater than\n",
    "- `<` : Less than\n",
    "- `>=` : Greater than or equal to\n",
    "- `<=` : Less than or equal to\n",
    "- `==` : Equal to\n",
    "- `!=` : Not equal to\n",
    "\n",
    "**Examples:**\n",
    "```python\n",
    "# Define variables\n",
    "sales_q1 = 10000\n",
    "sales_q2 = 15000\n",
    "sales_target = 20000\n",
    "\n",
    "# Greater than\n",
    "print(sales_q1 > sales_q2)  # Output: False\n",
    "\n",
    "# Less than\n",
    "print(sales_q1 < sales_q2)  # Output: True\n",
    "\n",
    "# Greater than or equal to\n",
    "print(sales_q2 >= sales_target)  # Output: False\n",
    "\n",
    "# Less than or equal to\n",
    "print(sales_q1 <= sales_target)  # Output: True\n",
    "\n",
    "# Equal to\n",
    "print(sales_q1 == sales_q2)  # Output: False\n",
    "\n",
    "# Not equal to\n",
    "print(sales_q1 != sales_q2)  # Output: True\n",
    "```"
   ]
  },
  {
   "cell_type": "code",
   "execution_count": 19,
   "id": "d3a9c404",
   "metadata": {},
   "outputs": [
    {
     "name": "stdout",
     "output_type": "stream",
     "text": [
      "False\n"
     ]
    }
   ],
   "source": [
    "age = 18\n",
    "limit_age = 21\n",
    "print(age > limit_age)"
   ]
  },
  {
   "cell_type": "markdown",
   "id": "3e151df2",
   "metadata": {},
   "source": [
    "### Logical Operations\n",
    "\n",
    "Logical operations are used to combine multiple conditions. The result of a logical operation is a boolean value (`True` or `False`).\n",
    "\n",
    "**Logical Operators:**\n",
    "- `and` : Returns `True` if both statements are true\n",
    "- `or` : Returns `True` if one of the statements is true\n",
    "- `not` : Reverses the result, returns `False` if the result is true\n",
    "\n",
    "**Examples:**\n",
    "```python\n",
    "# Define variables\n",
    "sales_q1 = 10000\n",
    "sales_q2 = 15000\n",
    "sales_target = 20000\n",
    "\n",
    "# and\n",
    "print((sales_q1 > 5000) and (sales_q2 > 5000))  # Output: True\n",
    "\n",
    "# or\n",
    "print((sales_q1 > 20000) or (sales_q2 > 20000))  # Output: False\n",
    "\n",
    "# not\n",
    "print(not(sales_q1 > 5000))  # Output: False\n",
    "```"
   ]
  },
  {
   "cell_type": "code",
   "execution_count": 21,
   "id": "7183b9b4",
   "metadata": {},
   "outputs": [
    {
     "name": "stdout",
     "output_type": "stream",
     "text": [
      "True\n"
     ]
    }
   ],
   "source": [
    "age = 34\n",
    "\n",
    "print(age > 18 and age < 55)"
   ]
  },
  {
   "cell_type": "markdown",
   "id": "2c0f7c74",
   "metadata": {},
   "source": [
    "\n",
    "### Using Comparison and Logical Operations in a Real-world Scenario\n",
    "\n",
    "Let's apply these operations in a real-world scenario. Assume you are tracking sales performance and need to check if sales targets are met and if both quarters have exceeded a certain threshold.\n",
    "\n",
    "**Example:**\n",
    "```python\n",
    "# Define sales data and target\n",
    "sales_q1 = 10000\n",
    "sales_q2 = 15000\n",
    "sales_target = 20000\n",
    "threshold = 12000\n",
    "\n",
    "# Check if sales target is met in either quarter\n",
    "target_met = (sales_q1 >= sales_target) or (sales_q2 >= sales_target)\n",
    "print(\"Sales target met in either quarter:\", target_met)  # Output: False\n",
    "\n",
    "# Check if both quarters exceeded the threshold\n",
    "both_exceeded = (sales_q1 > threshold) and (sales_q2 > threshold)\n",
    "print(\"Both quarters exceeded the threshold:\", both_exceeded)  # Output: False\n",
    "\n",
    "# Check if sales in the first quarter did not exceed the threshold\n",
    "not_exceeded_q1 = not(sales_q1 > threshold)\n",
    "print(\"Sales in Q1 did not exceed the threshold:\", not_exceeded_q1)  # Output: True\n",
    "```"
   ]
  },
  {
   "cell_type": "markdown",
   "id": "b7cf68cd",
   "metadata": {},
   "source": [
    "### Exercise 4: Improve BMI calculator\n",
    "\n",
    "Create the same BMI calculator as you did before, but now instead of just writing numbers as variables, ust <strong>input</strong> function to allow users to add values thembeslves and show them the result"
   ]
  },
  {
   "cell_type": "code",
   "execution_count": 24,
   "id": "b50ad6cc",
   "metadata": {},
   "outputs": [
    {
     "name": "stdout",
     "output_type": "stream",
     "text": [
      "Weight: \n",
      "Height: \n"
     ]
    },
    {
     "ename": "TypeError",
     "evalue": "unsupported operand type(s) for ** or pow(): 'str' and 'int'",
     "output_type": "error",
     "traceback": [
      "\u001b[0;31m---------------------------------------------------------------------------\u001b[0m",
      "\u001b[0;31mTypeError\u001b[0m                                 Traceback (most recent call last)",
      "Cell \u001b[0;32mIn[24], line 6\u001b[0m\n\u001b[1;32m      3\u001b[0m weight \u001b[38;5;241m=\u001b[39m \u001b[38;5;28minput\u001b[39m(\u001b[38;5;124m\"\u001b[39m\u001b[38;5;124mWeight: \u001b[39m\u001b[38;5;124m\"\u001b[39m)\n\u001b[1;32m      4\u001b[0m height \u001b[38;5;241m=\u001b[39m \u001b[38;5;28minput\u001b[39m(\u001b[38;5;124m\"\u001b[39m\u001b[38;5;124mHeight: \u001b[39m\u001b[38;5;124m\"\u001b[39m)\n\u001b[0;32m----> 6\u001b[0m bmi \u001b[38;5;241m=\u001b[39m weight \u001b[38;5;241m/\u001b[39m height \u001b[38;5;241m*\u001b[39m\u001b[38;5;241m*\u001b[39m \u001b[38;5;241m2\u001b[39m\n",
      "\u001b[0;31mTypeError\u001b[0m: unsupported operand type(s) for ** or pow(): 'str' and 'int'"
     ]
    }
   ],
   "source": [
    "# Understanding errors and how to debug them \n",
    "# Go through the error message -> Google, StackOverflow, ChatGPT\n",
    "weight = input(\"Weight: \")\n",
    "height = input(\"Height: \")\n",
    "\n",
    "bmi = weight / height ** 2"
   ]
  },
  {
   "cell_type": "markdown",
   "id": "ef1cc8b1",
   "metadata": {},
   "source": [
    "### Explanation of Type Casting in Python\n",
    "\n",
    "#### What is Type Casting?\n",
    "\n",
    "Type casting (or type conversion) in Python refers to the process of converting a variable from one type to another. This is particularly useful when you need to perform operations that require specific data types.\n",
    "\n",
    "#### Why Use Type Casting?\n",
    "\n",
    "When you take input from a user using the `input()` function, the input is always returned as a string. To perform arithmetic operations on this input, you need to convert these strings to numeric types (e.g., integers or floats). Type casting ensures that you can properly manipulate these values as needed.\n",
    "\n",
    "#### Common Type Casting Functions\n",
    "\n",
    "Python provides several built-in functions for casting types:\n",
    "- `int()`: Converts a value to an integer.\n",
    "- `float()`: Converts a value to a floating-point number.\n",
    "- `str()`: Converts a value to a string.\n",
    "- `list()`: Converts a value to a list.\n",
    "- `tuple()`: Converts a value to a tuple.\n",
    "- `dict()`: Converts a value to a dictionary.\n",
    "\n"
   ]
  },
  {
   "cell_type": "code",
   "execution_count": 28,
   "id": "d161a04d",
   "metadata": {},
   "outputs": [
    {
     "name": "stdout",
     "output_type": "stream",
     "text": [
      "Weight: 105\n",
      "Height: 1.96\n",
      "27.332361516034986\n"
     ]
    }
   ],
   "source": [
    "weight = input(\"Weight: \")\n",
    "height = input(\"Height: \")\n",
    "\n",
    "bmi = int(weight) / float(height) ** 2\n",
    "print(bmi)"
   ]
  },
  {
   "cell_type": "markdown",
   "id": "712cc254",
   "metadata": {},
   "source": [
    "\n",
    "#### Important Considerations\n",
    "\n",
    "- **Loss of Data:** Some conversions can lead to loss of data. For example, converting a float to an integer will truncate the decimal part.\n",
    "    ```python\n",
    "    pi = 3.14\n",
    "    int_pi = int(pi)\n",
    "    print(int_pi)  # Output: 3\n",
    "    ```\n",
    "\n",
    "- **Invalid Conversions:** Not all values can be converted to all types. Attempting an invalid conversion will raise a `ValueError`.\n",
    "    ```python\n",
    "    str_num = \"abc\"\n",
    "    # int_num = int(str_num)  # This will raise a ValueError\n",
    "    ```\n",
    "\n",
    "- **Precision Issues:** When converting between floats and strings, be aware of precision issues that can arise with floating-point arithmetic.\n",
    "    ```python\n",
    "    num = 0.1 + 0.2\n",
    "    print(num)  # Output: 0.30000000000000004\n",
    "    ```\n"
   ]
  },
  {
   "cell_type": "code",
   "execution_count": null,
   "id": "261af74b",
   "metadata": {},
   "outputs": [],
   "source": []
  }
 ],
 "metadata": {
  "kernelspec": {
   "display_name": "Python 3 (ipykernel)",
   "language": "python",
   "name": "python3"
  },
  "language_info": {
   "codemirror_mode": {
    "name": "ipython",
    "version": 3
   },
   "file_extension": ".py",
   "mimetype": "text/x-python",
   "name": "python",
   "nbconvert_exporter": "python",
   "pygments_lexer": "ipython3",
   "version": "3.11.5"
  }
 },
 "nbformat": 4,
 "nbformat_minor": 5
}
