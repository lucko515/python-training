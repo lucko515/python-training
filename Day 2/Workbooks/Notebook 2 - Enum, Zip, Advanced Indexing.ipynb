{
 "cells": [
  {
   "cell_type": "markdown",
   "metadata": {},
   "source": [
    "# Enumeration, Zipping, and Advanced List Indexing\n",
    "In this notebook, we will cover advanced concepts in list manipulation, including enumeration, zipping, and advanced indexing of multi-layered lists. These concepts are crucial for working efficiently with lists in Python.\n",
    "\n",
    "## Topics Covered\n",
    "1. The `enumerate` Function\n",
    "2. The `zip` Function\n",
    "3. Other Useful Functions\n",
    "4. Advanced List Indexing\n",
    "5. Exercises"
   ]
  },
  {
   "cell_type": "markdown",
   "metadata": {},
   "source": [
    "## 1. The `enumerate` Function\n",
    "The `enumerate` function adds a counter to an iterable and returns it as an enumerate object. This can be useful for obtaining both the index and value of each item in a list during iteration.\n",
    "\n",
    "### Syntax\n",
    "```python\n",
    "enumerate(iterable, start=0)\n",
    "```\n",
    "\n",
    "### Example"
   ]
  },
  {
   "cell_type": "code",
   "execution_count": null,
   "metadata": {},
   "outputs": [],
   "source": []
  },
  {
   "cell_type": "markdown",
   "metadata": {},
   "source": [
    "### Exercise 1: Using `enumerate`\n",
    "\n",
    "1. Create a list of your favorite programming languages.\n",
    "2. Use `enumerate` to print each language along with its index, starting from 1."
   ]
  },
  {
   "cell_type": "code",
   "execution_count": null,
   "metadata": {},
   "outputs": [],
   "source": []
  },
  {
   "cell_type": "markdown",
   "metadata": {},
   "source": [
    "## 2. The `zip` Function\n",
    "The `zip` function takes two or more iterables (e.g., lists) and returns an iterator of tuples, where each tuple contains the elements from the iterables at the same position.\n",
    "\n",
    "### Syntax\n",
    "```python\n",
    "zip(*iterables)\n",
    "```\n",
    "\n",
    "### Example"
   ]
  },
  {
   "cell_type": "code",
   "execution_count": null,
   "metadata": {},
   "outputs": [],
   "source": []
  },
  {
   "cell_type": "markdown",
   "metadata": {},
   "source": [
    "### Exercise 2: Using `zip`\n",
    "\n",
    "1. Create two lists: one with the names of your team members and another with their respective roles.\n",
    "2. Use `zip` to print each team member along with their role."
   ]
  },
  {
   "cell_type": "code",
   "execution_count": null,
   "metadata": {},
   "outputs": [],
   "source": []
  },
  {
   "cell_type": "markdown",
   "metadata": {},
   "source": [
    "## 3. Other Useful Functions\n",
    "### 3.1. `all` and `any`\n",
    "- `all(iterable)`: Returns `True` if all elements in the iterable are true (or if the iterable is empty).\n",
    "- `any(iterable)`: Returns `True` if any element in the iterable is true. If the iterable is empty, returns `False`.\n",
    "\n",
    "### Example"
   ]
  },
  {
   "cell_type": "code",
   "execution_count": null,
   "metadata": {},
   "outputs": [],
   "source": []
  },
  {
   "cell_type": "markdown",
   "metadata": {},
   "source": [
    "### Exercise 3: Using `all` and `any`\n",
    "\n",
    "1. Create a list of boolean values representing whether team members have completed their tasks.\n",
    "2. Use `all` to check if all tasks are completed.\n",
    "3. Use `any` to check if any task is completed."
   ]
  },
  {
   "cell_type": "code",
   "execution_count": null,
   "metadata": {},
   "outputs": [],
   "source": []
  },
  {
   "cell_type": "markdown",
   "metadata": {},
   "source": [
    "### 3.2. `sorted` and `reversed`\n",
    "- `sorted(iterable, key=None, reverse=False)`: Returns a new sorted list from the elements of any iterable.\n",
    "- `reversed(seq)`: Returns an iterator that accesses the given sequence in the reverse order.\n",
    "\n",
    "### Example"
   ]
  },
  {
   "cell_type": "code",
   "execution_count": null,
   "metadata": {},
   "outputs": [],
   "source": []
  },
  {
   "cell_type": "markdown",
   "metadata": {},
   "source": [
    "### Exercise 4: Using `sorted` and `reversed`\n",
    "\n",
    "1. Create a list of numbers.\n",
    "2. Sort the list in descending order and print it.\n",
    "3. Reverse the sorted list and print it."
   ]
  },
  {
   "cell_type": "code",
   "execution_count": null,
   "metadata": {},
   "outputs": [],
   "source": []
  },
  {
   "cell_type": "markdown",
   "metadata": {},
   "source": [
    "## 4. Advanced List Indexing\n",
    "### 4.1. Multi-layered Lists\n",
    "Multi-layered lists, or nested lists, are lists within lists. Accessing elements in nested lists requires multiple indexing operations.\n",
    "\n",
    "### Example"
   ]
  },
  {
   "cell_type": "code",
   "execution_count": null,
   "metadata": {},
   "outputs": [],
   "source": []
  },
  {
   "cell_type": "markdown",
   "metadata": {},
   "source": [
    "### 4.2. Advanced Indexing\n",
    "You can use slicing and list comprehensions to access and manipulate elements in nested lists.\n",
    "\n",
    "### Example"
   ]
  },
  {
   "cell_type": "code",
   "execution_count": null,
   "metadata": {},
   "outputs": [],
   "source": []
  },
  {
   "cell_type": "markdown",
   "metadata": {},
   "source": [
    "### Exercise 5: Multi-layered Lists and Advanced Indexing\n",
    "\n",
    "1. Create a multi-layered list representing a 3x3 matrix.\n",
    "2. Access and print the element in the second row and third column.\n",
    "3. Use a list comprehension to extract the first column and print it."
   ]
  },
  {
   "cell_type": "code",
   "execution_count": null,
   "metadata": {},
   "outputs": [],
   "source": []
  }
 ],
 "metadata": {
  "kernelspec": {
   "display_name": "Python 3 (ipykernel)",
   "language": "python",
   "name": "python3"
  },
  "language_info": {
   "codemirror_mode": {
    "name": "ipython",
    "version": 3
   },
   "file_extension": ".py",
   "mimetype": "text/x-python",
   "name": "python",
   "nbconvert_exporter": "python",
   "pygments_lexer": "ipython3",
   "version": "3.11.5"
  }
 },
 "nbformat": 4,
 "nbformat_minor": 4
}
