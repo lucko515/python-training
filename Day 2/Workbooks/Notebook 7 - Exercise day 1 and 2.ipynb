{
 "cells": [
  {
   "cell_type": "markdown",
   "metadata": {},
   "source": [
    "# Final Project for days 1 and 2: Putting It All Together\n",
    "In this final project, we will apply the concepts learned in Day 1 and Day 2 to create a comprehensive program. The project will be broken down into several steps, each focusing on different aspects of Python programming.\n",
    "\n",
    "## Project Overview\n",
    "We will build a simple Customer Relationship Management (CRM) system. The system will allow users to:\n",
    "1. Add new customers.\n",
    "2. View all customers.\n",
    "3. Update customer information.\n",
    "4. Delete customers.\n",
    "5. Generate sales reports.\n",
    "\n",
    "## Steps\n",
    "1. Set Up the Project\n",
    "2. Define Functions for Customer Management\n",
    "3. Handle File Operations\n",
    "4. Implement Exception Handling\n",
    "5. Use Regular Expressions for Input Validation\n",
    "6. Finalize the CRM System\n"
   ]
  },
  {
   "cell_type": "markdown",
   "metadata": {},
   "source": [
    "## Step 1: Set Up the Project\n",
    "First, we need to set up the project by creating an empty list to store customer data and defining the basic structure of our CRM system.\n",
    "\n",
    "### Task 1: Initialize the customer list\n",
    "- Create an empty list called `customers` to store customer data.\n",
    "\n",
    "### Task 2: Define the customer structure\n",
    "- Each customer will be represented as a dictionary with keys: `id`, `name`, `email`, and `sales`."
   ]
  },
  {
   "cell_type": "code",
   "execution_count": null,
   "metadata": {},
   "outputs": [],
   "source": []
  },
  {
   "cell_type": "markdown",
   "metadata": {},
   "source": [
    "## Step 2: Define Functions for Customer Management\n",
    "Next, we will define functions to manage customers, including adding, viewing, updating, and deleting customers.\n",
    "\n",
    "### Task 1: Define a function to add a new customer\n",
    "- The function should take `id`, `name`, `email`, and `sales` as arguments and add the new customer to the `customers` list.\n",
    "\n",
    "### Task 2: Define a function to view all customers\n",
    "- The function should print all customers in the `customers` list.\n",
    "\n",
    "### Task 3: Define a function to update customer information\n",
    "- The function should take `id` and new values for `name`, `email`, and `sales` and update the corresponding customer.\n",
    "\n",
    "### Task 4: Define a function to delete a customer\n",
    "- The function should take `id` as an argument and remove the corresponding customer from the `customers` list."
   ]
  },
  {
   "cell_type": "code",
   "execution_count": null,
   "metadata": {},
   "outputs": [],
   "source": []
  },
  {
   "cell_type": "markdown",
   "metadata": {},
   "source": [
    "## Step 3: Handle File Operations\n",
    "We need to save the customer data to a file and load it from a file. This allows us to persist data between sessions.\n",
    "\n",
    "### Task 1: Define a function to save customers to a file\n",
    "- The function should write the `customers` list to a file in CSV format.\n",
    "\n",
    "### Task 2: Define a function to load customers from a file\n",
    "- The function should read customer data from a file and populate the `customers` list."
   ]
  },
  {
   "cell_type": "code",
   "execution_count": null,
   "metadata": {},
   "outputs": [],
   "source": []
  },
  {
   "cell_type": "markdown",
   "metadata": {},
   "source": [
    "## Step 4: Use Regular Expressions for Input Validation\n",
    "We will use regular expressions to validate customer email addresses before adding or updating customers.\n",
    "\n",
    "### Task: Add email validation to the `add_customer` and `update_customer` functions\n",
    "- Use a regular expression to check if the email address is valid."
   ]
  },
  {
   "cell_type": "code",
   "execution_count": null,
   "metadata": {},
   "outputs": [],
   "source": []
  },
  {
   "cell_type": "markdown",
   "metadata": {},
   "source": [
    "##  Finalize the CRM System\n",
    "We will create a simple menu-driven interface for our CRM system, allowing users to perform various operations.\n"
   ]
  },
  {
   "cell_type": "code",
   "execution_count": null,
   "metadata": {},
   "outputs": [],
   "source": [
    "def display_menu():\n",
    "    print(\"\\n--- CRM System Menu ---\")\n",
    "    print(\"1. Add new customer\")\n",
    "    print(\"2. View all customers\")\n",
    "    print(\"3. Update customer information\")\n",
    "    print(\"4. Delete customer\")\n",
    "    print(\"5. Save customers to file\")\n",
    "    print(\"6. Load customers from file\")\n",
    "    print(\"7. Exit\")\n",
    "\n",
    "def main():\n",
    "    while True:\n",
    "        display_menu()\n",
    "        choice = input(\"Enter your choice: \")\n",
    "        if choice == '1':\n",
    "            customer_id = int(input(\"Enter customer ID: \"))\n",
    "            name = input(\"Enter customer name: \")\n",
    "            email = input(\"Enter customer email: \")\n",
    "            sales = input(\"Enter customer sales: \")\n",
    "            add_customer(customer_id, name, email, sales)\n",
    "        elif choice == '2':\n",
    "            view_customers()\n",
    "        elif choice == '3':\n",
    "            customer_id = int(input(\"Enter customer ID: \"))\n",
    "            name = input(\"Enter new name (leave blank to keep current): \") or None\n",
    "            email = input(\"Enter new email (leave blank to keep current): \") or None\n",
    "            sales = input(\"Enter new sales (leave blank to keep current): \") or None\n",
    "            update_customer(customer_id, name, email, sales)\n",
    "        elif choice == '4':\n",
    "            customer_id = int(input(\"Enter customer ID: \"))\n",
    "            delete_customer(customer_id)\n",
    "        elif choice == '5':\n",
    "            filename = input(\"Enter filename to save: \")\n",
    "            save_customers_to_file(filename)\n",
    "        elif choice == '6':\n",
    "            filename = input(\"Enter filename to load: \")\n",
    "            load_customers_from_file(filename)\n",
    "        elif choice == '7':\n",
    "            print(\"Exiting CRM System. Goodbye!\")\n",
    "            break\n",
    "        else:\n",
    "            print(\"Invalid choice. Please try again.\")\n",
    "\n",
    "# Run the main function to start the CRM system\n",
    "main()"
   ]
  },
  {
   "cell_type": "markdown",
   "metadata": {},
   "source": [
    "### Summary\n",
    "Congratulations! You have successfully built a simple CRM system using the concepts learned in Day 1 and Day 2. This project covered:\n",
    "- Variable and data type management\n",
    "- List, tuple, and dictionary operations\n",
    "- Control flow and loops\n",
    "- Functions (including advanced concepts)\n",
    "- File handling\n",
    "- Exception handling\n",
    "- Regular expressions for input validation\n",
    "\n",
    "By completing this project, you have demonstrated your ability to integrate various Python programming concepts into a functional application. Keep practicing and building more complex projects to further enhance your skills. Happy coding!"
   ]
  }
 ],
 "metadata": {
  "kernelspec": {
   "display_name": "Python 3 (ipykernel)",
   "language": "python",
   "name": "python3"
  },
  "language_info": {
   "codemirror_mode": {
    "name": "ipython",
    "version": 3
   },
   "file_extension": ".py",
   "mimetype": "text/x-python",
   "name": "python",
   "nbconvert_exporter": "python",
   "pygments_lexer": "ipython3",
   "version": "3.11.5"
  }
 },
 "nbformat": 4,
 "nbformat_minor": 4
}
