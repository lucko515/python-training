{
 "cells": [
  {
   "cell_type": "markdown",
   "metadata": {},
   "source": [
    "# Lists, Tuples, and Dictionaries in Python\n",
    "In this notebook, we will cover three fundamental data structures in Python: lists, tuples, and dictionaries. Understanding these data types is essential for efficient data manipulation and storage in your programs.\n",
    "\n",
    "## Topics Covered\n",
    "1. Lists\n",
    "2. Tuples\n",
    "3. Dictionaries\n",
    "4. Practical Examples"
   ]
  },
  {
   "cell_type": "markdown",
   "metadata": {},
   "source": [
    "## 1. Lists\n",
    "A list is a collection of items that are ordered and changeable. Lists are one of the most versatile data structures in Python and are used extensively in data manipulation and storage.\n",
    "\n",
    "### Creating Lists\n",
    "Lists are created by placing a comma-separated sequence of items inside square brackets `[]`."
   ]
  },
  {
   "cell_type": "code",
   "execution_count": null,
   "metadata": {},
   "outputs": [],
   "source": [
    "# Example of creating lists\n",
    "crm_features = [\"Leads\", \"Opportunities\", \"Contacts\", \"Accounts\"]\n",
    "print(crm_features)"
   ]
  },
  {
   "cell_type": "markdown",
   "metadata": {},
   "source": [
    "### Accessing List Items\n",
    "You can access list items by referring to their index, starting from 0 for the first item."
   ]
  },
  {
   "cell_type": "code",
   "execution_count": null,
   "metadata": {},
   "outputs": [],
   "source": [
    "# Accessing list items\n",
    "first_feature = crm_features[0]\n",
    "last_feature = crm_features[-1]\n",
    "print(\"First feature:\", first_feature)\n",
    "print(\"Last feature:\", last_feature)"
   ]
  },
  {
   "cell_type": "markdown",
   "metadata": {},
   "source": [
    "### Modifying List Items\n",
    "Lists are mutable, meaning you can change their content after creation."
   ]
  },
  {
   "cell_type": "code",
   "execution_count": null,
   "metadata": {},
   "outputs": [],
   "source": [
    "# Modifying list items\n",
    "crm_features[2] = \"Accounts & Contacts\"\n",
    "print(crm_features)"
   ]
  },
  {
   "cell_type": "markdown",
   "metadata": {},
   "source": [
    "### Adding List Items\n",
    "You can add items to a list using the `append()` method or the `insert()` method. \n",
    "\n",
    "Additionally, we have a function called  `extend()` to merge two lists together."
   ]
  },
  {
   "cell_type": "code",
   "execution_count": null,
   "metadata": {},
   "outputs": [],
   "source": [
    "# Adding list items\n",
    "crm_features.append(\"Reports\")  # Adds to the end\n",
    "crm_features.insert(1, \"Campaigns\")  # Inserts at the specified index\n",
    "print(crm_features)"
   ]
  },
  {
   "cell_type": "markdown",
   "metadata": {},
   "source": [
    "### Removing List Items\n",
    "You can remove items from a list using the `remove()` method or the `pop()` method."
   ]
  },
  {
   "cell_type": "code",
   "execution_count": null,
   "metadata": {},
   "outputs": [],
   "source": [
    "# Removing list items\n",
    "crm_features.remove(\"Campaigns\")  # Removes by value\n",
    "last_item = crm_features.pop()  # Removes the last item\n",
    "print(crm_features)\n",
    "print(\"Removed item:\", last_item)"
   ]
  },
  {
   "cell_type": "markdown",
   "metadata": {},
   "source": [
    "\n",
    "### Common List Methods\n",
    "\n",
    "**Finding Elements:**\n",
    "- **Using `index()`**: Returns the index of the first occurrence of the specified value.\n",
    "```python\n",
    "index_of_element = my_list.index(3)\n",
    "```\n",
    "\n",
    "- **Using `count()`**: Returns the number of times the specified value occurs in the list.\n",
    "```python\n",
    "count_of_element = my_list.count(2)\n",
    "```\n",
    "\n",
    "**Sorting and Reversing:**\n",
    "\n",
    "\n",
    "- **Using `sort()`**: Sorts the list in ascending order. It can also take an optional `reverse` parameter to sort in descending order.\n",
    "    \n",
    "    \n",
    "```python\n",
    "my_list.sort()\n",
    "my_list.sort(reverse=True)\n",
    "```\n",
    "\n",
    "- **Using `sorted()`**: Returns a new list that is a sorted version of the original list.\n",
    "```python\n",
    "sorted_list = sorted(my_list)\n",
    "```\n",
    "\n",
    "- **Using `reverse()`**: Reverses the order of the elements in the list.\n",
    "```python\n",
    "my_list.reverse()\n",
    "```\n"
   ]
  },
  {
   "cell_type": "code",
   "execution_count": null,
   "metadata": {},
   "outputs": [],
   "source": []
  },
  {
   "cell_type": "code",
   "execution_count": null,
   "metadata": {},
   "outputs": [],
   "source": []
  },
  {
   "cell_type": "markdown",
   "metadata": {},
   "source": [
    "### List Comprehensions\n",
    "List comprehensions provide a concise way to create lists."
   ]
  },
  {
   "cell_type": "code",
   "execution_count": null,
   "metadata": {},
   "outputs": [],
   "source": [
    "# List comprehensions\n",
    "squared_numbers = [x**2 for x in range(10)]\n",
    "print(squared_numbers)"
   ]
  },
  {
   "cell_type": "markdown",
   "metadata": {},
   "source": [
    "### Pros and Cons of Lists\n",
    "**Pros:**\n",
    "- Dynamic and flexible\n",
    "- Supports various operations and methods\n",
    "- Ordered and allows duplicate elements\n",
    "\n",
    "**Cons:**\n",
    "- Can be slower for large data sets compared to tuples\n",
    "- Higher memory usage compared to arrays\n"
   ]
  },
  {
   "cell_type": "markdown",
   "metadata": {},
   "source": [
    "### Exercise 1: Lists\n",
    "\n",
    "1. Create a list called `team_members` with the names of your team members.\n",
    "2. Print the name of the first and last team member.\n",
    "3. Add a new team member to the list.\n",
    "4. Remove the second team member from the list.\n",
    "5. Print the final list of team members.\n"
   ]
  },
  {
   "cell_type": "code",
   "execution_count": null,
   "metadata": {},
   "outputs": [],
   "source": []
  },
  {
   "cell_type": "markdown",
   "metadata": {},
   "source": [
    "## 2. Tuples\n",
    "A tuple is a collection of items that are ordered and immutable. Tuples are used to store multiple items in a single variable and are similar to lists, but they cannot be changed after creation.\n",
    "\n",
    "### Creating Tuples\n",
    "Tuples are created by placing a comma-separated sequence of items inside parentheses `()`."
   ]
  },
  {
   "cell_type": "code",
   "execution_count": null,
   "metadata": {},
   "outputs": [],
   "source": [
    "# Example of creating tuples\n",
    "salesforce_products = (\"Sales Cloud\", \"Service Cloud\", \"Marketing Cloud\")\n",
    "print(salesforce_products)"
   ]
  },
  {
   "cell_type": "markdown",
   "metadata": {},
   "source": [
    "### Accessing Tuple Items\n",
    "You can access tuple items by referring to their index, starting from 0 for the first item."
   ]
  },
  {
   "cell_type": "code",
   "execution_count": null,
   "metadata": {},
   "outputs": [],
   "source": [
    "# Accessing tuple items\n",
    "first_product = salesforce_products[0]\n",
    "last_product = salesforce_products[-1]\n",
    "print(\"First product:\", first_product)\n",
    "print(\"Last product:\", last_product)"
   ]
  },
  {
   "cell_type": "markdown",
   "metadata": {},
   "source": [
    "# Ads break :)\n",
    "\n",
    "## Mutable vs Immutable Types\n",
    "In Python, data types are either mutable (can be changed) or immutable (cannot be changed).\n",
    "\n",
    "### Mutable Types:\n",
    "- `list`\n",
    "- `dict`\n",
    "- `set`\n",
    "\n",
    "### Immutable Types:\n",
    "- `int`\n",
    "- `float`\n",
    "- `str`\n",
    "- `tuple`\n",
    "\n",
    "### Examples:\n",
    "```python\n",
    "my_list = [1, 2, 3]\n",
    "my_list[0] = 4  # This is allowed\n",
    "\n",
    "my_tuple = (1, 2, 3)\n",
    "# my_tuple[0] = 4  # This will cause an error\n",
    "```"
   ]
  },
  {
   "cell_type": "code",
   "execution_count": null,
   "metadata": {},
   "outputs": [],
   "source": [
    "# Mutable vs Immutable Types\n",
    "my_list = [1, 2, 3]\n",
    "print(\"Original list:\", my_list)\n",
    "my_list[0] = 4  # This is allowed\n",
    "print(\"Modified list:\", my_list)\n",
    "\n",
    "my_tuple = (1, 2, 3)\n",
    "print(\"Original tuple:\", my_tuple)\n",
    "# Uncommenting the following line will cause an error\n",
    "# my_tuple[0] = 4  # This will cause an error"
   ]
  },
  {
   "cell_type": "markdown",
   "metadata": {},
   "source": [
    "### Immutable Nature of Tuples\n",
    "Tuples are immutable, meaning you cannot change their content after creation. Any attempt to modify a tuple will result in an error."
   ]
  },
  {
   "cell_type": "code",
   "execution_count": null,
   "metadata": {},
   "outputs": [],
   "source": [
    "# Attempting to modify a tuple (will cause an error)\n",
    "# salesforce_products[1] = \"Commerce Cloud\"  # Uncomment to see the error"
   ]
  },
  {
   "cell_type": "markdown",
   "metadata": {},
   "source": [
    "### Pros and Cons of Tuples\n",
    "**Pros:**\n",
    "- Immutable and thus more secure\n",
    "- Faster access compared to lists\n",
    "- Can be used as dictionary keys\n",
    "\n",
    "**Cons:**\n",
    "- Cannot be modified after creation\n",
    "- Less flexible than lists\n"
   ]
  },
  {
   "cell_type": "markdown",
   "metadata": {},
   "source": [
    "### Exercise 2: Tuples\n",
    "\n",
    "1. Create a tuple called `crm_components` with the values \"Accounts\", \"Contacts\", \"Opportunities\".\n",
    "2. Print the first and last components from the tuple.\n",
    "3. Try to change the second component to \"Leads\" (expect an error).\n",
    "4. Create a new tuple that adds \"Leads\" to the existing `crm_components` tuple and print the result.\n"
   ]
  },
  {
   "cell_type": "code",
   "execution_count": null,
   "metadata": {},
   "outputs": [],
   "source": [
    "# 1. Create a tuple called crm_components with the values \"Accounts\", \"Contacts\", \"Opportunities\".\n",
    "crm_components = (\"Accounts\", \"Contacts\", \"Opportunities\")\n",
    "print(\"Original tuple:\", crm_components)\n",
    "\n",
    "# 2. Print the first and last components from the tuple.\n",
    "first_component = crm_components[0]\n",
    "last_component = crm_components[-1]\n",
    "print(\"First component:\", first_component)\n",
    "print(\"Last component:\", last_component)\n",
    "\n",
    "# 3. Try to change the second component to \"Leads\" (expect an error).\n",
    "# Uncomment the line below to see the error\n",
    "# crm_components[1] = \"Leads\"  # This will raise a TypeError\n",
    "\n",
    "# 4. Create a new tuple that adds \"Leads\" to the existing crm_components tuple and print the result.\n",
    "new_crm_components = crm_components + (\"Leads\",)\n",
    "print(\"New tuple with 'Leads' added:\", new_crm_components)"
   ]
  },
  {
   "cell_type": "markdown",
   "metadata": {},
   "source": [
    "## 3. Dictionaries\n",
    "A dictionary is a collection of key-value pairs that are unordered, changeable, and indexed. Dictionaries are used to store data values like a map, which makes them very versatile for various use cases.\n",
    "\n",
    "### Creating Dictionaries\n",
    "Dictionaries are created by placing a comma-separated sequence of key-value pairs inside curly braces `{}`."
   ]
  },
  {
   "cell_type": "code",
   "execution_count": null,
   "metadata": {},
   "outputs": [],
   "source": [
    "# Example of creating dictionaries\n",
    "contact_info = {\n",
    "    \"Name\": \"Alice\",\n",
    "    \"Title\": \"Account Executive\",\n",
    "    \"Email\": \"alice@salesforce.com\"\n",
    "}\n",
    "print(contact_info)"
   ]
  },
  {
   "cell_type": "markdown",
   "metadata": {},
   "source": [
    "### Accessing Dictionary Items\n",
    "You can access dictionary items by referring to their key name."
   ]
  },
  {
   "cell_type": "code",
   "execution_count": null,
   "metadata": {},
   "outputs": [],
   "source": [
    "# Accessing dictionary items\n",
    "name = contact_info[\"Name\"]\n",
    "email = contact_info.get(\"Email\")\n",
    "print(\"Name:\", name)\n",
    "print(\"Email:\", email)"
   ]
  },
  {
   "cell_type": "markdown",
   "metadata": {},
   "source": [
    "### Modifying Dictionary Items\n",
    "Dictionaries are mutable, meaning you can change their content after creation."
   ]
  },
  {
   "cell_type": "code",
   "execution_count": null,
   "metadata": {},
   "outputs": [],
   "source": [
    "# Modifying dictionary items\n",
    "contact_info[\"Email\"] = \"alice.new@salesforce.com\"\n",
    "print(contact_info)"
   ]
  },
  {
   "cell_type": "markdown",
   "metadata": {},
   "source": [
    "### Adding and Removing Dictionary Items\n",
    "You can add new items to a dictionary or remove items from a dictionary using the `update()`, `del`, and `pop()` methods."
   ]
  },
  {
   "cell_type": "code",
   "execution_count": null,
   "metadata": {},
   "outputs": [],
   "source": [
    "# Adding and removing dictionary items\n",
    "contact_info.update({\"Phone\": \"123-456-7890\"})  # Adds a new item\n",
    "print(contact_info)\n",
    "\n",
    "del contact_info[\"Phone\"]  # Removes an item\n",
    "print(contact_info)\n",
    "\n",
    "email = contact_info.pop(\"Email\")  # Removes and returns an item\n",
    "print(contact_info)\n",
    "print(\"Removed email:\", email)"
   ]
  },
  {
   "cell_type": "markdown",
   "metadata": {},
   "source": [
    "### Pros and Cons of Dictionaries\n",
    "**Pros:**\n",
    "- Fast lookups by key\n",
    "- Dynamic and flexible\n",
    "- Supports various operations and methods\n",
    "\n",
    "**Cons:**\n",
    "- Unordered (prior to Python 3.7)\n",
    "- Higher memory usage compared to lists and tuples\n"
   ]
  },
  {
   "cell_type": "markdown",
   "metadata": {},
   "source": [
    "### Exercise 3: Dictionaries\n",
    "\n",
    "1. Create a dictionary called `opportunity` with the keys \"Name\", \"Stage\", and \"Value\" and corresponding values \"Big Deal\", \"Prospecting\", and 100000.\n",
    "2. Print the value of the \"Stage\" key.\n",
    "3. Update the \"Stage\" value to \"Closed Won\".\n",
    "4. Add a new key-value pair for \"Close Date\" with the value \"2022-12-31\".\n",
    "5. Remove the \"Value\" key from the dictionary.\n",
    "6. Print the final dictionary.\n"
   ]
  },
  {
   "cell_type": "code",
   "execution_count": null,
   "metadata": {},
   "outputs": [],
   "source": []
  },
  {
   "cell_type": "markdown",
   "metadata": {},
   "source": [
    "### 4. Practical Examples\n",
    "\n",
    "Let's apply the concepts of lists, tuples, and dictionaries to solve some real-world problems.\n",
    "\n",
    "#### Example 1: Managing CRM Data\n",
    "\n",
    "Imagine you are working on a CRM system and need to manage customer data. You will create a list of dictionaries, where each dictionary contains details about a customer. Then, you will perform various operations to manipulate and retrieve customer data.\n",
    "\n",
    "**Steps:**\n",
    "\n",
    "1. **Create a List of Dictionaries:**\n",
    "   - Each dictionary should contain the following keys: `\"Name\"`, `\"Title\"`, and `\"Email\"`.\n",
    "   - Initialize the list with at least three customer dictionaries.\n",
    "\n",
    "2. **Print Customer Names and Titles:**\n",
    "   - For each customer dictionary, retrieve and print the customer's name and title.\n",
    "\n",
    "3. **Add a New Customer:**\n",
    "   - Create a new dictionary for a new customer with keys: `\"Name\"`, `\"Title\"`, and `\"Email\"`.\n",
    "   - Append this new dictionary to the list of customers.\n",
    "\n",
    "4. **Update a Customer's Email:**\n",
    "   - Select a customer by index (e.g., the first customer).\n",
    "   - Update the email address of the selected customer.\n",
    "\n",
    "5. **Remove a Customer:**\n",
    "   - Remove a customer from the list by index (e.g., the second customer).\n",
    "\n"
   ]
  },
  {
   "cell_type": "code",
   "execution_count": null,
   "metadata": {},
   "outputs": [],
   "source": [
    "# List of dictionaries representing customer data\n",
    "customers = [\n",
    "    {\"Name\": \"Alice\", \"Title\": \"Account Executive\", \"Email\": \"alice@salesforce.com\"},\n",
    "    {\"Name\": \"Bob\", \"Title\": \"Sales Manager\", \"Email\": \"bob@salesforce.com\"},\n",
    "    {\"Name\": \"Charlie\", \"Title\": \"Customer Success Manager\", \"Email\": \"charlie@salesforce.com\"}\n",
    "]\n",
    "\n",
    "# Print the names and titles of all customers\n",
    "for customer in customers:\n",
    "    name = customer[\"Name\"]\n",
    "    title = customer[\"Title\"]\n",
    "    print(f\"Name: {name}, Title: {title}\")\n",
    "\n",
    "# Add a new customer to the list\n",
    "new_customer = {\"Name\": \"David\", \"Title\": \"Solution Engineer\", \"Email\": \"david@salesforce.com\"}\n",
    "customers.append(new_customer)\n",
    "print(\"Updated customer list:\", customers)\n",
    "\n",
    "# Update the email of a customer\n",
    "customers[0][\"Email\"] = \"alice.new@salesforce.com\"\n",
    "print(\"Updated customer email:\", customers[0])\n",
    "\n",
    "# Remove a customer from the list\n",
    "customers.pop(1)\n",
    "print(\"Customer list after removal:\", customers)"
   ]
  }
 ],
 "metadata": {
  "kernelspec": {
   "display_name": "Python 3 (ipykernel)",
   "language": "python",
   "name": "python3"
  },
  "language_info": {
   "codemirror_mode": {
    "name": "ipython",
    "version": 3
   },
   "file_extension": ".py",
   "mimetype": "text/x-python",
   "name": "python",
   "nbconvert_exporter": "python",
   "pygments_lexer": "ipython3",
   "version": "3.11.5"
  }
 },
 "nbformat": 4,
 "nbformat_minor": 4
}
