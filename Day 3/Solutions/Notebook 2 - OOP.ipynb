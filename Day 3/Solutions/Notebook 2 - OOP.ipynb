{
 "cells": [
  {
   "cell_type": "markdown",
   "metadata": {},
   "source": [
    "# Basic Object-Oriented Programming in Python\n",
    "In this notebook, we will cover the basics of Object-Oriented Programming (OOP) in Python. This includes defining classes, creating objects, and using methods and attributes.\n",
    "\n",
    "## Topics Covered\n",
    "1. What is a Class?\n",
    "2. Methods and Instance Variables\n",
    "3. Class Methods and Class Variables\n",
    "4. Designing Your Own Classes\n",
    "5. Exercises"
   ]
  },
  {
   "cell_type": "markdown",
   "metadata": {},
   "source": [
    "## 1. What is a Class?\n",
    "A class is a blueprint for creating objects (instances). It defines a set of attributes and methods that the objects created from the class will have.\n",
    "\n",
    "### Example"
   ]
  },
  {
   "cell_type": "code",
   "execution_count": null,
   "metadata": {},
   "outputs": [],
   "source": [
    "# Example of a simple class\n",
    "class Customer:\n",
    "    pass\n",
    "\n",
    "# Create an instance of the Customer class\n",
    "customer1 = Customer()\n",
    "print(customer1)"
   ]
  },
  {
   "cell_type": "markdown",
   "metadata": {},
   "source": [
    "## 2. Methods and Instance Variables\n",
    "Methods are functions defined within a class that describe the behaviors of an object. Instance variables are attributes that are unique to each instance of a class.\n",
    "\n",
    "### Example"
   ]
  },
  {
   "cell_type": "code",
   "execution_count": null,
   "metadata": {},
   "outputs": [],
   "source": [
    "# Example of a class with methods and instance variables\n",
    "class Customer:\n",
    "    def __init__(self, name, email):\n",
    "        self.name = name\n",
    "        self.email = email\n",
    "\n",
    "    def display_info(self):\n",
    "        print(f\"Customer Name: {self.name}, Email: {self.email}\")\n",
    "\n",
    "# Create an instance of the Customer class\n",
    "customer1 = Customer(\"Alice\", \"alice@example.com\")\n",
    "customer1.display_info()"
   ]
  },
  {
   "cell_type": "markdown",
   "metadata": {},
   "source": [
    "### Exercise 1: Methods and Instance Variables\n",
    "\n",
    "1. Define a class called `Product` with an `__init__` method that takes `name` and `price` as parameters.\n",
    "2. Define a method called `display_info` that prints the product name and price.\n",
    "3. Create an instance of the `Product` class and call the `display_info` method."
   ]
  },
  {
   "cell_type": "code",
   "execution_count": null,
   "metadata": {},
   "outputs": [],
   "source": [
    "# Exercise 1: Methods and Instance Variables\n",
    "class Product:\n",
    "    def __init__(self, name, price):\n",
    "        self.name = name\n",
    "        self.price = price\n",
    "\n",
    "    def display_info(self):\n",
    "        print(f\"Product Name: {self.name}, Price: {self.price}\")\n",
    "\n",
    "# Create an instance of the Product class\n",
    "product1 = Product(\"Laptop\", 1200)\n",
    "product1.display_info()"
   ]
  },
  {
   "cell_type": "markdown",
   "metadata": {},
   "source": [
    "## 3. Class Methods and Class Variables\n",
    "Class methods are methods that are bound to the class and not the instance. They can modify class state that applies across all instances of the class. Class variables are attributes that are shared among all instances of the class.\n",
    "\n",
    "### Example"
   ]
  },
  {
   "cell_type": "code",
   "execution_count": null,
   "metadata": {},
   "outputs": [],
   "source": [
    "# Example of a class with class methods and class variables\n",
    "class Customer:\n",
    "    customer_count = 0  # Class variable\n",
    "\n",
    "    def __init__(self, name, email):\n",
    "        self.name = name\n",
    "        self.email = email\n",
    "        Customer.customer_count += 1\n",
    "\n",
    "    @classmethod\n",
    "    def display_count(cls):\n",
    "        print(f\"Total Customers: {cls.customer_count}\")\n",
    "\n",
    "# Create instances of the Customer class\n",
    "customer1 = Customer(\"Alice\", \"alice@example.com\")\n",
    "customer2 = Customer(\"Bob\", \"bob@example.com\")\n",
    "\n",
    "# Call the class method\n",
    "Customer.display_count()"
   ]
  },
  {
   "cell_type": "markdown",
   "metadata": {},
   "source": [
    "### Exercise 2: Class Methods and Class Variables\n",
    "\n",
    "1. Define a class called `Store` with a class variable `store_count` initialized to 0.\n",
    "2. Define an `__init__` method that increments `store_count` by 1 each time a new instance is created.\n",
    "3. Define a class method called `display_count` that prints the total number of stores.\n",
    "4. Create two instances of the `Store` class and call the `display_count` method."
   ]
  },
  {
   "cell_type": "code",
   "execution_count": null,
   "metadata": {},
   "outputs": [],
   "source": [
    "# Exercise 2: Class Methods and Class Variables\n",
    "class Store:\n",
    "    store_count = 0  # Class variable\n",
    "\n",
    "    def __init__(self):\n",
    "        Store.store_count += 1\n",
    "\n",
    "    @classmethod\n",
    "    def display_count(cls):\n",
    "        print(f\"Total Stores: {cls.store_count}\")\n",
    "\n",
    "# Create instances of the Store class\n",
    "store1 = Store()\n",
    "store2 = Store()\n",
    "\n",
    "# Call the class method\n",
    "Store.display_count()"
   ]
  },
  {
   "cell_type": "markdown",
   "metadata": {},
   "source": [
    "## 4. Designing Your Own Classes\n",
    "In this section, you will design your own classes with methods, instance variables, class methods, and class variables.\n",
    "\n",
    "### Task: Define a `CRM` Class\n",
    "- Define a `CRM` class with methods to add, view, update, and delete customers.\n",
    "- Use class variables to keep track of the total number of customers."
   ]
  },
  {
   "cell_type": "code",
   "execution_count": null,
   "metadata": {},
   "outputs": [],
   "source": [
    "# Task: Define a CRM Class\n",
    "class CRM:\n",
    "    customer_count = 0  # Class variable\n",
    "    customers = []  # Class variable to store customers\n",
    "\n",
    "    def __init__(self):\n",
    "        pass\n",
    "\n",
    "    @classmethod\n",
    "    def add_customer(cls, name, email, sales):\n",
    "        cls.customer_count += 1\n",
    "        new_customer = {\n",
    "            \"id\": cls.customer_count,\n",
    "            \"name\": name,\n",
    "            \"email\": email,\n",
    "            \"sales\": sales\n",
    "        }\n",
    "        cls.customers.append(new_customer)\n",
    "        print(f\"Customer {name} added.\")\n",
    "\n",
    "    @classmethod\n",
    "    def view_customers(cls):\n",
    "        for customer in cls.customers:\n",
    "            print(customer)\n",
    "\n",
    "    @classmethod\n",
    "    def update_customer(cls, customer_id, name=None, email=None, sales=None):\n",
    "        for customer in cls.customers:\n",
    "            if customer[\"id\"] == customer_id:\n",
    "                if name is not None:\n",
    "                    customer[\"name\"] = name\n",
    "                if email is not None:\n",
    "                    customer[\"email\"] = email\n",
    "                if sales is not None:\n",
    "                    customer[\"sales\"] = sales\n",
    "                print(f\"Customer {customer_id} updated.\")\n",
    "                return\n",
    "        print(f\"Customer {customer_id} not found.\")\n",
    "\n",
    "    @classmethod\n",
    "    def delete_customer(cls, customer_id):\n",
    "        cls.customers = [customer for customer in cls.customers if customer[\"id\"] != customer_id]\n",
    "        print(f\"Customer {customer_id} deleted.\")"
   ]
  },
  {
   "cell_type": "markdown",
   "metadata": {},
   "source": [
    "### Exercise 3: Designing Your Own Class\n",
    "\n",
    "1. Define a class called `Employee` with the following:\n",
    "    - An `__init__` method that takes `id`, `name`, and `position` as parameters.\n",
    "    - A method called `display_info` that prints the employee's information.\n",
    "    - A class variable called `employee_count` initialized to 0.\n",
    "    - A class method called `display_count` that prints the total number of employees.\n",
    "2. Create two instances of the `Employee` class and call the `display_info` and `display_count` methods."
   ]
  },
  {
   "cell_type": "code",
   "execution_count": null,
   "metadata": {},
   "outputs": [],
   "source": [
    "# Exercise 3: Designing Your Own Class\n",
    "class Employee:\n",
    "    employee_count = 0  # Class variable\n",
    "\n",
    "    def __init__(self, emp_id, name, position):\n",
    "        self.emp_id = emp_id\n",
    "        self.name = name\n",
    "        self.position = position\n",
    "        Employee.employee_count += 1\n",
    "\n",
    "    def display_info(self):\n",
    "        print(f\"Employee ID: {self.emp_id}, Name: {self.name}, Position: {self.position}\")\n",
    "\n",
    "    @classmethod\n",
    "    def display_count(cls):\n",
    "        print(f\"Total Employees: {cls.employee_count}\")\n",
    "\n",
    "# Create instances of the Employee class\n",
    "employee1 = Employee(1, \"Alice\", \"Manager\")\n",
    "employee2 = Employee(2, \"Bob\", \"Developer\")\n",
    "\n",
    "# Call the instance method\n",
    "employee1.display_info()\n",
    "employee2.display_info()\n",
    "\n",
    "# Call the class method\n",
    "Employee.display_count()"
   ]
  },
  {
   "cell_type": "markdown",
   "metadata": {},
   "source": [
    "### Summary\n",
    "In this notebook, we covered the basics of Object-Oriented Programming (OOP) in Python, including defining classes, creating objects, using methods and attributes, and designing your own classes.\n",
    "\n",
    "By mastering these basic OOP concepts, you'll be able to write more structured and maintainable code in your programming projects. Happy coding!"
   ]
  }
 ],
 "metadata": {
  "kernelspec": {
   "display_name": "Python 3",
   "language": "python",
   "name": "python3"
  },
  "language_info": {
   "codemirror_mode": {
    "name": "ipython",
    "version": 3
   },
   "file_extension": ".py",
   "mimetype": "text/x-python",
   "name": "python",
   "nbconvert_exporter": "python",
   "pygments_lexer": "ipython3",
   "version": "3.8.3"
  }
 },
 "nbformat": 4,
 "nbformat_minor": 4
}
