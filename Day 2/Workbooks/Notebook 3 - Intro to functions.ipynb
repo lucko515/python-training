{
 "cells": [
  {
   "cell_type": "markdown",
   "metadata": {},
   "source": [
    "# Functions Part 1 (Basics)\n",
    "In this notebook, we will cover the basics of functions in Python. Functions are essential for writing reusable code and organizing your programs efficiently.\n",
    "\n",
    "## Topics Covered\n",
    "1. Defining Functions\n",
    "2. Function Arguments\n",
    "3. Return Values\n",
    "4. Exercises"
   ]
  },
  {
   "cell_type": "markdown",
   "metadata": {},
   "source": [
    "## 1. Defining Functions\n",
    "A function is a block of reusable code that performs a specific task. Functions help you break your code into smaller, manageable pieces. You define a function using the `def` keyword.\n",
    "\n",
    "### Syntax\n",
    "```python\n",
    "def function_name(parameters):\n",
    "    \"\"\"Docstring\"\"\"\n",
    "    statement(s)\n",
    "```\n",
    "\n",
    "### Example"
   ]
  },
  {
   "cell_type": "code",
   "execution_count": null,
   "metadata": {},
   "outputs": [],
   "source": []
  },
  {
   "cell_type": "markdown",
   "metadata": {},
   "source": [
    "### Exercise 1: Defining Functions\n",
    "\n",
    "1. Define a function called `welcome` that prints \"Welcome to Salesforce training!\"\n",
    "2. Call the function."
   ]
  },
  {
   "cell_type": "code",
   "execution_count": null,
   "metadata": {},
   "outputs": [],
   "source": []
  },
  {
   "cell_type": "markdown",
   "metadata": {},
   "source": [
    "## 2. Function Arguments\n",
    "Functions can take arguments, which are values you pass to the function to be used within its body. You define the arguments in the function definition.\n",
    "\n",
    "### Example"
   ]
  },
  {
   "cell_type": "code",
   "execution_count": null,
   "metadata": {},
   "outputs": [],
   "source": []
  },
  {
   "cell_type": "markdown",
   "metadata": {},
   "source": [
    "### Exercise 2: Function Arguments\n",
    "\n",
    "1. Define a function called `display_role` that takes one argument `role` and prints \"Your role is: [role]\".\n",
    "2. Call the function with the argument \"Sales Manager\"."
   ]
  },
  {
   "cell_type": "code",
   "execution_count": null,
   "metadata": {},
   "outputs": [],
   "source": []
  },
  {
   "cell_type": "markdown",
   "metadata": {},
   "source": [
    "## 3. Return Values\n",
    "Functions can return values using the `return` statement. The returned value can be assigned to a variable or used directly.\n",
    "\n",
    "### Example"
   ]
  },
  {
   "cell_type": "code",
   "execution_count": null,
   "metadata": {},
   "outputs": [],
   "source": []
  },
  {
   "cell_type": "markdown",
   "metadata": {},
   "source": [
    "### Exercise 3: Return Values\n",
    "\n",
    "1. Define a function called `calculate_bonus` that takes two arguments `base_salary` and `bonus_percentage`.\n",
    "2. The function should return the calculated bonus amount.\n",
    "3. Call the function with the arguments `50000` and `10` and print the result."
   ]
  },
  {
   "cell_type": "code",
   "execution_count": null,
   "metadata": {},
   "outputs": [],
   "source": []
  },
  {
   "cell_type": "markdown",
   "metadata": {},
   "source": [
    "## 4. Exercises\n",
    "Now let's practice writing functions with multiple arguments and return values.\n",
    "\n",
    "### Exercise 4: Multiple Arguments and Return Values\n",
    "\n",
    "1. Define a function called `sales_commission` that takes three arguments: `sales_amount`, `commission_rate`, and `bonus`.\n",
    "2. The function should calculate the total commission as `(sales_amount * commission_rate / 100) + bonus` and return the result.\n",
    "3. Call the function with the arguments `100000`, `5`, and `2000` and print the result.\n"
   ]
  },
  {
   "cell_type": "code",
   "execution_count": null,
   "metadata": {},
   "outputs": [],
   "source": []
  },
  {
   "cell_type": "markdown",
   "metadata": {},
   "source": [
    "### Exercise 5: Combining Functions\n",
    "\n",
    "1. Define a function called `calculate_total_sales` that takes a list of sales amounts as an argument and returns the total sales.\n",
    "2. Define a function called `calculate_average_sales` that takes a list of sales amounts as an argument and returns the average sales.\n",
    "3. Call both functions with the list `[1500, 2500, 3000, 4000, 5000]` and print the results."
   ]
  },
  {
   "cell_type": "code",
   "execution_count": null,
   "metadata": {},
   "outputs": [],
   "source": []
  }
 ],
 "metadata": {
  "kernelspec": {
   "display_name": "Python 3 (ipykernel)",
   "language": "python",
   "name": "python3"
  },
  "language_info": {
   "codemirror_mode": {
    "name": "ipython",
    "version": 3
   },
   "file_extension": ".py",
   "mimetype": "text/x-python",
   "name": "python",
   "nbconvert_exporter": "python",
   "pygments_lexer": "ipython3",
   "version": "3.11.5"
  }
 },
 "nbformat": 4,
 "nbformat_minor": 4
}
