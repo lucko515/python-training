{
 "cells": [
  {
   "cell_type": "markdown",
   "metadata": {},
   "source": [
    "# Enumeration, Zipping, and Advanced List Indexing\n",
    "In this notebook, we will cover advanced concepts in list manipulation, including enumeration, zipping, and advanced indexing of multi-layered lists. These concepts are crucial for working efficiently with lists in Python.\n",
    "\n",
    "## Topics Covered\n",
    "1. The `enumerate` Function\n",
    "2. The `zip` Function\n",
    "3. Other Useful Functions\n",
    "4. Advanced List Indexing\n",
    "5. Exercises"
   ]
  },
  {
   "cell_type": "markdown",
   "metadata": {},
   "source": [
    "## 1. The `enumerate` Function\n",
    "The `enumerate` function adds a counter to an iterable and returns it as an enumerate object. This can be useful for obtaining both the index and value of each item in a list during iteration.\n",
    "\n",
    "### Syntax\n",
    "```python\n",
    "enumerate(iterable, start=0)\n",
    "```\n",
    "\n",
    "### Example"
   ]
  },
  {
   "cell_type": "code",
   "execution_count": null,
   "metadata": {},
   "outputs": [],
   "source": [
    "# Example of enumerate\n",
    "crm_features = [\"Leads\", \"Opportunities\", \"Contacts\", \"Accounts\"]\n",
    "for index, feature in enumerate(crm_features, start=1):\n",
    "    print(f\"Feature {index}: {feature}\")"
   ]
  },
  {
   "cell_type": "markdown",
   "metadata": {},
   "source": [
    "### Exercise 1: Using `enumerate`\n",
    "\n",
    "1. Create a list of your favorite programming languages.\n",
    "2. Use `enumerate` to print each language along with its index, starting from 1."
   ]
  },
  {
   "cell_type": "code",
   "execution_count": null,
   "metadata": {},
   "outputs": [],
   "source": [
    "# Exercise 1: Using enumerate\n",
    "programming_languages = [\"Python\", \"JavaScript\", \"Java\", \"C++\", \"Ruby\"]\n",
    "for index, language in enumerate(programming_languages, start=1):\n",
    "    print(f\"Language {index}: {language}\")"
   ]
  },
  {
   "cell_type": "markdown",
   "metadata": {},
   "source": [
    "## 2. The `zip` Function\n",
    "The `zip` function takes two or more iterables (e.g., lists) and returns an iterator of tuples, where each tuple contains the elements from the iterables at the same position.\n",
    "\n",
    "### Syntax\n",
    "```python\n",
    "zip(*iterables)\n",
    "```\n",
    "\n",
    "### Example"
   ]
  },
  {
   "cell_type": "code",
   "execution_count": null,
   "metadata": {},
   "outputs": [],
   "source": [
    "# Example of zip\n",
    "names = [\"Alice\", \"Bob\", \"Charlie\"]\n",
    "titles = [\"Account Executive\", \"Sales Manager\", \"Customer Success Manager\"]\n",
    "\n",
    "for name, title in zip(names, titles):\n",
    "    print(f\"{name} is a {title}\")"
   ]
  },
  {
   "cell_type": "markdown",
   "metadata": {},
   "source": [
    "### Exercise 2: Using `zip`\n",
    "\n",
    "1. Create two lists: one with the names of your team members and another with their respective roles.\n",
    "2. Use `zip` to print each team member along with their role."
   ]
  },
  {
   "cell_type": "code",
   "execution_count": null,
   "metadata": {},
   "outputs": [],
   "source": [
    "# Exercise 2: Using zip\n",
    "team_members = [\"John\", \"Jane\", \"Doe\"]\n",
    "roles = [\"Developer\", \"Designer\", \"Tester\"]\n",
    "\n",
    "for member, role in zip(team_members, roles):\n",
    "    print(f\"{member} is a {role}\")"
   ]
  },
  {
   "cell_type": "markdown",
   "metadata": {},
   "source": [
    "## 3. Other Useful Functions\n",
    "### 3.1. `all` and `any`\n",
    "- `all(iterable)`: Returns `True` if all elements in the iterable are true (or if the iterable is empty).\n",
    "- `any(iterable)`: Returns `True` if any element in the iterable is true. If the iterable is empty, returns `False`.\n",
    "\n",
    "### Example"
   ]
  },
  {
   "cell_type": "code",
   "execution_count": null,
   "metadata": {},
   "outputs": [],
   "source": [
    "# Example of all and any\n",
    "scores = [90, 85, 88, 92]\n",
    "\n",
    "# Check if all scores are above 80\n",
    "all_above_80 = all(score > 80 for score in scores)\n",
    "print(\"All scores above 80:\", all_above_80)\n",
    "\n",
    "# Check if any score is above 90\n",
    "any_above_90 = any(score > 90 for score in scores)\n",
    "print(\"Any score above 90:\", any_above_90)"
   ]
  },
  {
   "cell_type": "markdown",
   "metadata": {},
   "source": [
    "### Exercise 3: Using `all` and `any`\n",
    "\n",
    "1. Create a list of boolean values representing whether team members have completed their tasks.\n",
    "2. Use `all` to check if all tasks are completed.\n",
    "3. Use `any` to check if any task is completed."
   ]
  },
  {
   "cell_type": "code",
   "execution_count": null,
   "metadata": {},
   "outputs": [],
   "source": [
    "# Exercise 3: Using all and any\n",
    "tasks_completed = [True, False, True, True]\n",
    "\n",
    "# Check if all tasks are completed\n",
    "all_tasks_completed = all(tasks_completed)\n",
    "print(\"All tasks completed:\", all_tasks_completed)\n",
    "\n",
    "# Check if any task is completed\n",
    "any_task_completed = any(tasks_completed)\n",
    "print(\"Any task completed:\", any_task_completed)"
   ]
  },
  {
   "cell_type": "markdown",
   "metadata": {},
   "source": [
    "### 3.2. `sorted` and `reversed`\n",
    "- `sorted(iterable, key=None, reverse=False)`: Returns a new sorted list from the elements of any iterable.\n",
    "- `reversed(seq)`: Returns an iterator that accesses the given sequence in the reverse order.\n",
    "\n",
    "### Example"
   ]
  },
  {
   "cell_type": "code",
   "execution_count": null,
   "metadata": {},
   "outputs": [],
   "source": [
    "# Example of sorted and reversed\n",
    "numbers = [5, 2, 9, 1, 5, 6]\n",
    "\n",
    "# Sort the list in ascending order\n",
    "sorted_numbers = sorted(numbers)\n",
    "print(\"Sorted numbers:\", sorted_numbers)\n",
    "\n",
    "# Reverse the list\n",
    "reversed_numbers = list(reversed(numbers))\n",
    "print(\"Reversed numbers:\", reversed_numbers)"
   ]
  },
  {
   "cell_type": "markdown",
   "metadata": {},
   "source": [
    "### Exercise 4: Using `sorted` and `reversed`\n",
    "\n",
    "1. Create a list of numbers.\n",
    "2. Sort the list in descending order and print it.\n",
    "3. Reverse the sorted list and print it."
   ]
  },
  {
   "cell_type": "code",
   "execution_count": null,
   "metadata": {},
   "outputs": [],
   "source": [
    "# Exercise 4: Using sorted and reversed\n",
    "numbers = [3, 1, 4, 1, 5, 9, 2, 6, 5]\n",
    "\n",
    "# Sort the list in descending order\n",
    "sorted_numbers_desc = sorted(numbers, reverse=True)\n",
    "print(\"Sorted numbers (desc):\", sorted_numbers_desc)\n",
    "\n",
    "# Reverse the sorted list\n",
    "reversed_sorted_numbers = list(reversed(sorted_numbers_desc))\n",
    "print(\"Reversed sorted numbers:\", reversed_sorted_numbers)"
   ]
  },
  {
   "cell_type": "markdown",
   "metadata": {},
   "source": [
    "## 4. Advanced List Indexing\n",
    "### 4.1. Multi-layered Lists\n",
    "Multi-layered lists, or nested lists, are lists within lists. Accessing elements in nested lists requires multiple indexing operations.\n",
    "\n",
    "### Example"
   ]
  },
  {
   "cell_type": "code",
   "execution_count": null,
   "metadata": {},
   "outputs": [],
   "source": [
    "# Example of multi-layered lists\n",
    "multi_layered_list = [\n",
    "    [1, 2, 3],\n",
    "    [4, 5, 6],\n",
    "    [7, 8, 9]\n",
    "]\n",
    "\n",
    "# Accessing elements in a multi-layered list\n",
    "first_row = multi_layered_list[0]\n",
    "first_element = multi_layered_list[0][0]\n",
    "print(\"First row:\", first_row)\n",
    "print(\"First element:\", first_element)"
   ]
  },
  {
   "cell_type": "markdown",
   "metadata": {},
   "source": [
    "### 4.2. Advanced Indexing\n",
    "You can use slicing and list comprehensions to access and manipulate elements in nested lists.\n",
    "\n",
    "### Example"
   ]
  },
  {
   "cell_type": "code",
   "execution_count": null,
   "metadata": {},
   "outputs": [],
   "source": [
    "# Example of advanced indexing with slicing\n",
    "multi_layered_list = [\n",
    "    [1, 2, 3],\n",
    "    [4, 5, 6],\n",
    "    [7, 8, 9]\n",
    "]\n",
    "\n",
    "# Get the second column from the multi-layered list\n",
    "second_column = [row[1] for row in multi_layered_list]\n",
    "print(\"Second column:\", second_column)"
   ]
  },
  {
   "cell_type": "markdown",
   "metadata": {},
   "source": [
    "### Exercise 5: Multi-layered Lists and Advanced Indexing\n",
    "\n",
    "1. Create a multi-layered list representing a 3x3 matrix.\n",
    "2. Access and print the element in the second row and third column.\n",
    "3. Use a list comprehension to extract the first column and print it."
   ]
  },
  {
   "cell_type": "code",
   "execution_count": null,
   "metadata": {},
   "outputs": [],
   "source": [
    "# Exercise 5: Multi-layered Lists and Advanced Indexing\n",
    "matrix = [\n",
    "    [1, 2, 3],\n",
    "    [4, 5, 6],\n",
    "    [7, 8, 9]\n",
    "]\n",
    "\n",
    "# Access the element in the second row and third column\n",
    "element = matrix[1][2]\n",
    "print(\"Element at second row, third column:\", element)\n",
    "\n",
    "# Extract the first column using list comprehension\n",
    "first_column = [row[0] for row in matrix]\n",
    "print(\"First column:\", first_column)"
   ]
  }
 ],
 "metadata": {
  "kernelspec": {
   "display_name": "Python 3 (ipykernel)",
   "language": "python",
   "name": "python3"
  },
  "language_info": {
   "codemirror_mode": {
    "name": "ipython",
    "version": 3
   },
   "file_extension": ".py",
   "mimetype": "text/x-python",
   "name": "python",
   "nbconvert_exporter": "python",
   "pygments_lexer": "ipython3",
   "version": "3.11.5"
  }
 },
 "nbformat": 4,
 "nbformat_minor": 4
}
