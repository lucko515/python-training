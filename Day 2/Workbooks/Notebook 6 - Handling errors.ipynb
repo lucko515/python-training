{
 "cells": [
  {
   "cell_type": "markdown",
   "metadata": {},
   "source": [
    "# Exception Handling in Python\n",
    "In this notebook, we will cover how to handle exceptions in Python. This includes using `try`, `except`, `else`, and `finally` blocks, raising exceptions, and creating custom exceptions.\n",
    "\n",
    "## Topics Covered\n",
    "1. The `try`, `except`, `else`, and `finally` Blocks\n",
    "2. Raising Exceptions\n",
    "3. Custom Exceptions\n",
    "4. Exercises"
   ]
  },
  {
   "cell_type": "markdown",
   "metadata": {},
   "source": [
    "## 1. The `try`, `except`, `else`, and `finally` Blocks\n",
    "You can handle exceptions in Python using `try`, `except`, `else`, and `finally` blocks. This allows you to catch and handle errors gracefully.\n",
    "\n",
    "### Example"
   ]
  },
  {
   "cell_type": "code",
   "execution_count": null,
   "metadata": {},
   "outputs": [],
   "source": []
  },
  {
   "cell_type": "markdown",
   "metadata": {},
   "source": [
    "### Exercise 1: The `try`, `except`, `else`, and `finally` Blocks\n",
    "\n",
    "1. Write a Python script that prompts the user to enter two numbers.\n",
    "2. Use a `try` block to perform division and print the result.\n",
    "3. Use an `except` block to catch and handle the `ZeroDivisionError` exception.\n",
    "4. Use an `else` block to print a success message if no exception occurs.\n",
    "5. Use a `finally` block to print a message that always executes."
   ]
  },
  {
   "cell_type": "code",
   "execution_count": null,
   "metadata": {},
   "outputs": [],
   "source": []
  },
  {
   "cell_type": "markdown",
   "metadata": {},
   "source": [
    "## 2. Raising Exceptions\n",
    "You can raise exceptions in Python using the `raise` keyword. This is useful when you want to explicitly trigger an exception under certain conditions.\n",
    "\n",
    "### Example"
   ]
  },
  {
   "cell_type": "code",
   "execution_count": null,
   "metadata": {},
   "outputs": [],
   "source": []
  },
  {
   "cell_type": "markdown",
   "metadata": {},
   "source": [
    "### Exercise 2: Raising Exceptions\n",
    "\n",
    "1. Define a function called `validate_sales` that takes a sales amount as an argument.\n",
    "2. If the sales amount is negative, raise a `ValueError` with the message \"Sales amount cannot be negative\".\n",
    "3. Write a script to call the `validate_sales` function with a positive and a negative sales amount, handling the exception appropriately."
   ]
  },
  {
   "cell_type": "code",
   "execution_count": null,
   "metadata": {},
   "outputs": [],
   "source": []
  }
 ],
 "metadata": {
  "kernelspec": {
   "display_name": "Python 3 (ipykernel)",
   "language": "python",
   "name": "python3"
  },
  "language_info": {
   "codemirror_mode": {
    "name": "ipython",
    "version": 3
   },
   "file_extension": ".py",
   "mimetype": "text/x-python",
   "name": "python",
   "nbconvert_exporter": "python",
   "pygments_lexer": "ipython3",
   "version": "3.11.5"
  }
 },
 "nbformat": 4,
 "nbformat_minor": 4
}
